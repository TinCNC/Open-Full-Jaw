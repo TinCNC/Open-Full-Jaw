{
 "cells": [
  {
   "cell_type": "markdown",
   "id": "specific-passion",
   "metadata": {},
   "source": [
    "# Open-Full-Jaw\n",
    "This notebook explains the steps of the pipeline used for generating the Open-Full-Jaw Dataset's meshes and simulation files."
   ]
  },
  {
   "cell_type": "markdown",
   "id": "mexican-booth",
   "metadata": {},
   "source": [
    "# Imports"
   ]
  },
  {
   "cell_type": "code",
   "execution_count": 1,
   "id": "republican-clause",
   "metadata": {},
   "outputs": [],
   "source": [
    "import os\n",
    "import igl\n",
    "import sys\n",
    "import time\n",
    "import glob\n",
    "import json\n",
    "import math\n",
    "import pymesh\n",
    "import meshio\n",
    "\n",
    "import numpy as np\n",
    "import meshplot as mp\n",
    "import matplotlib.pyplot as plt\n",
    "\n",
    "from ipywidgets import interact, interactive, fixed, interact_manual\n",
    "from scipy.sparse.linalg import spsolve  # for solving the smoothing matrix(in the laplace_beltrami_smoothing function)\n",
    "\n",
    "\n",
    "path_ftetwild = '/home/torkan/fTetWild/build/FloatTetwild_bin'\n",
    "cargen_path   = './OpenFullJaw/other_libs/'"
   ]
  },
  {
   "cell_type": "code",
   "execution_count": 2,
   "id": "friendly-signature",
   "metadata": {},
   "outputs": [],
   "source": [
    "import sys\n",
    "# sys.path.append('/home/torkan/diku_codes/Torkan/CarGen-main')\n",
    "sys.path.append(cargen_path)\n",
    "import cargen\n",
    "\n",
    "sys.path.append('./')\n",
    "import OpenFullJaw\n",
    "from OpenFullJaw.utils import *"
   ]
  },
  {
   "cell_type": "code",
   "execution_count": 3,
   "id": "single-overall",
   "metadata": {},
   "outputs": [],
   "source": [
    "\"\"\"\n",
    "DIRECTORIES:\n",
    "\n",
    "main_dir:  the directory where this python file is located \n",
    "\n",
    "i_dir:      the folder where the original teeth and bone files are located\n",
    "o_dir:      the output folder where all the final results are saved at\n",
    "mid_o_dir:  the mid-output path where some inbetween files are stored\n",
    "\n",
    "\"\"\"\n",
    "# main directories\n",
    "main_dir    = '../dataset/Patient_26'\n",
    "p_id = main_dir.split('_')[-1]\n",
    "main_dir = os.path.abspath(main_dir) # convert the relative path to an absolute path to make it to easy to work with\n",
    "\n",
    "\n",
    "verbose  = True\n",
    "# jaw_type = 'mandible'\n",
    "jaw_type = 'maxilla'\n",
    "params_log_info = {}     \n",
    "\n",
    "os.chdir(main_dir)\n",
    "# from isl.util.timer import Timer\n",
    "\n",
    "# input and output paths\n",
    "i_dir      = main_dir + '/' + 'input'       + '/' + jaw_type + '/'\n",
    "o_dir      = main_dir + '/' + 'output'      + '/' + jaw_type + '/'\n",
    "mid_o_dir  = main_dir + '/' + 'mid-output'  + '/' + jaw_type + '/'\n",
    "o_surf_dir = o_dir    + 'surface_meshes'    + '/'\n",
    "o_vol_dir  = o_dir    + 'volumetric_meshes' + '/'\n",
    "o_sim_dir  = o_dir    + 'simulation'        + '/'\n",
    "\n",
    "mid_o_isdir  = os.path.isdir( mid_o_dir ) \n",
    "o_isdir      = os.path.isdir( o_dir ) \n",
    "o_surf_isdir = os.path.isdir(o_surf_dir) \n",
    "o_vol_isdir  = os.path.isdir(o_vol_dir) \n",
    "o_sim_isdir  = os.path.isdir(o_sim_dir) \n",
    "teeth_dir = i_dir + 'teeth' + '/'\n",
    "bone_dir  = i_dir + 'bone'  + '/'\n",
    "\n",
    "\n",
    "# create the directories if they are not exist\n",
    "if not mid_o_isdir:\n",
    "    os.makedirs( mid_o_dir )\n",
    "    print ( \"created folder : \", mid_o_dir )\n",
    "    \n",
    "if not o_isdir:\n",
    "    os.makedirs( o_dir )\n",
    "    print ( \"created folder : \", o_dir )\n",
    "    \n",
    "if not o_surf_isdir:\n",
    "    os.makedirs( o_surf_dir )\n",
    "    print ( \"created folder : \", o_surf_dir )\n",
    "\n",
    "if not o_vol_isdir:\n",
    "    os.makedirs( o_vol_dir )\n",
    "    print ( \"created folder : \", o_vol_dir )   \n",
    "\n",
    "if not o_sim_isdir:\n",
    "    os.makedirs( o_sim_dir )\n",
    "    print ( \"created folder : \", o_sim_dir )\n",
    "    \n",
    "\n",
    "mid_o_glued_dir = mid_o_dir + 'glued' + '/'\n",
    "mid_o_teeth_dir = mid_o_dir + 'teeth' + '/'\n",
    "mid_o_bone_dir  = mid_o_dir + 'bone'  + '/' \n",
    "mid_o_pdl_dir   = mid_o_dir + 'pdl'   + '/'\n",
    "\n",
    "mid_o_glued_isdir = os.path.isdir(mid_o_glued_dir) \n",
    "mid_o_teeth_isdir = os.path.isdir(mid_o_teeth_dir) \n",
    "mid_o_bone_isdir  = os.path.isdir(mid_o_bone_dir) \n",
    "mid_o_pdl_isdir   = os.path.isdir(mid_o_pdl_dir) \n",
    "\n",
    "\n",
    "\n",
    "if not mid_o_glued_isdir:\n",
    "    os.makedirs( mid_o_glued_dir )\n",
    "    print ( \"created folder : \", mid_o_glued_dir )\n",
    "    \n",
    "if not mid_o_teeth_isdir:\n",
    "    os.makedirs( mid_o_teeth_dir )\n",
    "    print ( \"created folder : \", mid_o_teeth_dir )\n",
    "\n",
    "if not mid_o_bone_isdir:\n",
    "    os.makedirs( mid_o_bone_dir )\n",
    "    print ( \"created folder : \", mid_o_bone_dir )   \n",
    "\n",
    "if not mid_o_pdl_isdir:\n",
    "    os.makedirs( mid_o_pdl_dir )\n",
    "    print ( \"created folder : \", mid_o_pdl_dir )\n",
    "    "
   ]
  },
  {
   "cell_type": "markdown",
   "id": "careful-bridges",
   "metadata": {},
   "source": [
    "## 1.Preprocessing step"
   ]
  },
  {
   "cell_type": "markdown",
   "id": "challenging-syndicate",
   "metadata": {},
   "source": [
    "### 1.1. Remesh and reduce the bone mesh"
   ]
  },
  {
   "cell_type": "code",
   "execution_count": 4,
   "id": "downtown-practice",
   "metadata": {},
   "outputs": [
    {
     "name": "stdout",
     "output_type": "stream",
     "text": [
      "Meshing time(s):  193.93\n"
     ]
    },
    {
     "data": {
      "application/vnd.jupyter.widget-view+json": {
       "model_id": "60b561c096664c95992e00ce96252836",
       "version_major": 2,
       "version_minor": 0
      },
      "text/plain": [
       "Renderer(camera=PerspectiveCamera(children=(DirectionalLight(color='white', intensity=0.6, position=(53.688248…"
      ]
     },
     "metadata": {},
     "output_type": "display_data"
    },
    {
     "name": "stdout",
     "output_type": "stream",
     "text": [
      "bone remeshing time (s):  195.39\n"
     ]
    }
   ],
   "source": [
    "path_bone = bone_dir + jaw_type + '.stl'\n",
    "\n",
    "params = Params()\n",
    "params.max_iter = 1\n",
    "params.ftet_path = path_ftetwild\n",
    "\n",
    "#---- remesh the bone mesh\n",
    "params.output_fname = 'bone_remeshed'\n",
    "params.output_dir   = mid_o_bone_dir\n",
    "v_b, f_b = OpenFullJaw.preprocess_bone(path_bone, params)"
   ]
  },
  {
   "cell_type": "markdown",
   "id": "afraid-partnership",
   "metadata": {},
   "source": [
    "### 1.2. Smooth the bone"
   ]
  },
  {
   "cell_type": "code",
   "execution_count": 5,
   "id": "catholic-auditor",
   "metadata": {
    "scrolled": false
   },
   "outputs": [
    {
     "name": "stdout",
     "output_type": "stream",
     "text": [
      "---- original mesh superimposed on smoothed mesh\n"
     ]
    },
    {
     "data": {
      "application/vnd.jupyter.widget-view+json": {
       "model_id": "982cf3ed5749412292f9ac2957d9431e",
       "version_major": 2,
       "version_minor": 0
      },
      "text/plain": [
       "Renderer(camera=PerspectiveCamera(children=(DirectionalLight(color='white', intensity=0.6, position=(53.690153…"
      ]
     },
     "metadata": {},
     "output_type": "display_data"
    },
    {
     "name": "stdout",
     "output_type": "stream",
     "text": [
      "---- modified regions with highlighted points\n"
     ]
    },
    {
     "data": {
      "application/vnd.jupyter.widget-view+json": {
       "model_id": "755347f789504488bd9db6ca50de2003",
       "version_major": 2,
       "version_minor": 0
      },
      "text/plain": [
       "Renderer(camera=PerspectiveCamera(children=(DirectionalLight(color='white', intensity=0.6, position=(53.690153…"
      ]
     },
     "metadata": {},
     "output_type": "display_data"
    },
    {
     "name": "stdout",
     "output_type": "stream",
     "text": [
      "bone smoothing time (s):  8.49\n",
      "{'smoothing_iteration': 10, 'smoothing_stp_size': 0.0005, 'min distance': 1.8572877072742525e-08, 'max distance': 0.13351377998220837, 'bone_smoothing_time': 8.49}\n"
     ]
    }
   ],
   "source": [
    "# smooth the bone to remove spikes on cervical regions\n",
    "v_b, f_b = igl.read_triangle_mesh(mid_o_bone_dir + 'bone_remeshed.obj')\n",
    "\n",
    "params.output_fname = 'bone_remeshed_smoothed'\n",
    "params.output_dir = mid_o_bone_dir\n",
    "v_b_new, f_b = OpenFullJaw.smooth_bone(v_b, f_b, params)"
   ]
  },
  {
   "cell_type": "markdown",
   "id": "delayed-refund",
   "metadata": {},
   "source": [
    "##  2. Gap generation"
   ]
  },
  {
   "cell_type": "markdown",
   "id": "expensive-reverse",
   "metadata": {},
   "source": [
    "### 2.1. Check the offset limit of the bone and shrink the bone"
   ]
  },
  {
   "cell_type": "code",
   "execution_count": 6,
   "id": "serial-signal",
   "metadata": {},
   "outputs": [
    {
     "name": "stdout",
     "output_type": "stream",
     "text": [
      "---- the offset limit of the bone is:  0.06899863477036984\n",
      "---- will assume its offset limit is {} to avoid paper thin walls in the bone mesh.  0.04\n",
      "bone offset limit(0.04) is less than desired gap (0.1).\n",
      "is shrinking the bone with 0.04 mm.\n"
     ]
    },
    {
     "data": {
      "application/vnd.jupyter.widget-view+json": {
       "model_id": "e5668e5d36724059b465d57404fb287a",
       "version_major": 2,
       "version_minor": 0
      },
      "text/plain": [
       "Renderer(camera=PerspectiveCamera(children=(DirectionalLight(color='white', intensity=0.6, position=(53.690155…"
      ]
     },
     "metadata": {},
     "output_type": "display_data"
    }
   ],
   "source": [
    "params.output_fname = 'bone_temp'\n",
    "params.output_dir = mid_o_bone_dir\n",
    "\n",
    "v_b_shrinked, f_b, bone_offset, shrinking_info = OpenFullJaw.shrink_bone(v_b_new, f_b, params)"
   ]
  },
  {
   "cell_type": "markdown",
   "id": "unable-acquisition",
   "metadata": {},
   "source": [
    "### 2.2. Shrink the teeth"
   ]
  },
  {
   "cell_type": "markdown",
   "id": "overhead-floating",
   "metadata": {},
   "source": [
    "#### Read and shrink the teeth one by one"
   ]
  },
  {
   "cell_type": "code",
   "execution_count": 7,
   "id": "colonial-salon",
   "metadata": {
    "scrolled": true
   },
   "outputs": [
    {
     "name": "stdout",
     "output_type": "stream",
     "text": [
      "is shrinking the teeth with 0.16 mm.\n",
      "--------------------------------------------- tooth_1\n",
      "number of triangles 32948\n",
      "reading time: 0.01\n",
      "cleaning time: 1.72\n"
     ]
    },
    {
     "data": {
      "application/vnd.jupyter.widget-view+json": {
       "model_id": "79ada6db779f4d259bd8ac12379bbcea",
       "version_major": 2,
       "version_minor": 0
      },
      "text/plain": [
       "Renderer(camera=PerspectiveCamera(children=(DirectionalLight(color='white', intensity=0.6, position=(30.756266…"
      ]
     },
     "metadata": {},
     "output_type": "display_data"
    },
    {
     "name": "stdout",
     "output_type": "stream",
     "text": [
      "num_vertices of original tooth :  16476\n",
      "num_vertices of shrinked tooth :  62014\n",
      "-----------------------------------------------\n",
      "--------------------------------------------- tooth_10\n",
      "number of triangles 26624\n",
      "reading time: 0.01\n",
      "cleaning time: 1.14\n"
     ]
    },
    {
     "data": {
      "application/vnd.jupyter.widget-view+json": {
       "model_id": "c4bff289fae44972bf671bad591ad70e",
       "version_major": 2,
       "version_minor": 0
      },
      "text/plain": [
       "Renderer(camera=PerspectiveCamera(children=(DirectionalLight(color='white', intensity=0.6, position=(65.439666…"
      ]
     },
     "metadata": {},
     "output_type": "display_data"
    },
    {
     "name": "stdout",
     "output_type": "stream",
     "text": [
      "num_vertices of original tooth :  13314\n",
      "num_vertices of shrinked tooth :  49234\n",
      "-----------------------------------------------\n",
      "--------------------------------------------- tooth_11\n",
      "number of triangles 27608\n",
      "reading time: 0.01\n",
      "cleaning time: 1.24\n"
     ]
    },
    {
     "data": {
      "application/vnd.jupyter.widget-view+json": {
       "model_id": "807e1055f8cf4b6c84720f92f28fcb71",
       "version_major": 2,
       "version_minor": 0
      },
      "text/plain": [
       "Renderer(camera=PerspectiveCamera(children=(DirectionalLight(color='white', intensity=0.6, position=(69.027606…"
      ]
     },
     "metadata": {},
     "output_type": "display_data"
    },
    {
     "name": "stdout",
     "output_type": "stream",
     "text": [
      "num_vertices of original tooth :  13806\n",
      "num_vertices of shrinked tooth :  51406\n",
      "-----------------------------------------------\n",
      "--------------------------------------------- tooth_12\n",
      "number of triangles 27616\n",
      "reading time: 0.01\n",
      "cleaning time: 1.23\n"
     ]
    },
    {
     "data": {
      "application/vnd.jupyter.widget-view+json": {
       "model_id": "cdec5e0dd47444c19fc71a3fccd71e2c",
       "version_major": 2,
       "version_minor": 0
      },
      "text/plain": [
       "Renderer(camera=PerspectiveCamera(children=(DirectionalLight(color='white', intensity=0.6, position=(71.248394…"
      ]
     },
     "metadata": {},
     "output_type": "display_data"
    },
    {
     "name": "stdout",
     "output_type": "stream",
     "text": [
      "num_vertices of original tooth :  13810\n",
      "num_vertices of shrinked tooth :  51128\n",
      "-----------------------------------------------\n",
      "--------------------------------------------- tooth_13\n",
      "number of triangles 25296\n",
      "reading time: 0.01\n",
      "cleaning time: 1.05\n"
     ]
    },
    {
     "data": {
      "application/vnd.jupyter.widget-view+json": {
       "model_id": "10f9b1d868a54bafa9c2f9f693c363ed",
       "version_major": 2,
       "version_minor": 0
      },
      "text/plain": [
       "Renderer(camera=PerspectiveCamera(children=(DirectionalLight(color='white', intensity=0.6, position=(73.946937…"
      ]
     },
     "metadata": {},
     "output_type": "display_data"
    },
    {
     "name": "stdout",
     "output_type": "stream",
     "text": [
      "num_vertices of original tooth :  12650\n",
      "num_vertices of shrinked tooth :  46736\n",
      "-----------------------------------------------\n",
      "--------------------------------------------- tooth_14\n",
      "number of triangles 36700\n",
      "reading time: 0.01\n",
      "cleaning time: 2.17\n"
     ]
    },
    {
     "data": {
      "application/vnd.jupyter.widget-view+json": {
       "model_id": "f956974609434f47bc5f77a83f4500d8",
       "version_major": 2,
       "version_minor": 0
      },
      "text/plain": [
       "Renderer(camera=PerspectiveCamera(children=(DirectionalLight(color='white', intensity=0.6, position=(74.972957…"
      ]
     },
     "metadata": {},
     "output_type": "display_data"
    },
    {
     "name": "stdout",
     "output_type": "stream",
     "text": [
      "num_vertices of original tooth :  18352\n",
      "num_vertices of shrinked tooth :  68836\n",
      "-----------------------------------------------\n",
      "--------------------------------------------- tooth_15\n",
      "number of triangles 32044\n",
      "reading time: 0.01\n",
      "cleaning time: 1.66\n"
     ]
    },
    {
     "data": {
      "application/vnd.jupyter.widget-view+json": {
       "model_id": "6e6a99b667824b7f81a058939b425e19",
       "version_major": 2,
       "version_minor": 0
      },
      "text/plain": [
       "Renderer(camera=PerspectiveCamera(children=(DirectionalLight(color='white', intensity=0.6, position=(76.156879…"
      ]
     },
     "metadata": {},
     "output_type": "display_data"
    },
    {
     "name": "stdout",
     "output_type": "stream",
     "text": [
      "num_vertices of original tooth :  16024\n",
      "num_vertices of shrinked tooth :  59264\n",
      "-----------------------------------------------\n",
      "--------------------------------------------- tooth_2\n",
      "number of triangles 36044\n",
      "reading time: 0.01\n",
      "cleaning time: 2.33\n"
     ]
    },
    {
     "data": {
      "application/vnd.jupyter.widget-view+json": {
       "model_id": "f4f9fe6d3b3343dfa372af3c1ddef06c",
       "version_major": 2,
       "version_minor": 0
      },
      "text/plain": [
       "Renderer(camera=PerspectiveCamera(children=(DirectionalLight(color='white', intensity=0.6, position=(31.583264…"
      ]
     },
     "metadata": {},
     "output_type": "display_data"
    },
    {
     "name": "stdout",
     "output_type": "stream",
     "text": [
      "num_vertices of original tooth :  18024\n",
      "num_vertices of shrinked tooth :  67886\n",
      "-----------------------------------------------\n",
      "--------------------------------------------- tooth_3\n",
      "number of triangles 40272\n",
      "reading time: 0.01\n",
      "cleaning time: 2.54\n"
     ]
    },
    {
     "data": {
      "application/vnd.jupyter.widget-view+json": {
       "model_id": "1993e7e198ae4d0c9ad7c3f2b5c2a5bf",
       "version_major": 2,
       "version_minor": 0
      },
      "text/plain": [
       "Renderer(camera=PerspectiveCamera(children=(DirectionalLight(color='white', intensity=0.6, position=(32.922069…"
      ]
     },
     "metadata": {},
     "output_type": "display_data"
    },
    {
     "name": "stdout",
     "output_type": "stream",
     "text": [
      "num_vertices of original tooth :  20138\n",
      "num_vertices of shrinked tooth :  74896\n",
      "-----------------------------------------------\n",
      "--------------------------------------------- tooth_4\n",
      "number of triangles 25536\n",
      "reading time: 0.01\n",
      "cleaning time: 1.15\n"
     ]
    },
    {
     "data": {
      "application/vnd.jupyter.widget-view+json": {
       "model_id": "73cd94e4201f4a3a9b3e62c2fc726f6f",
       "version_major": 2,
       "version_minor": 0
      },
      "text/plain": [
       "Renderer(camera=PerspectiveCamera(children=(DirectionalLight(color='white', intensity=0.6, position=(35.713967…"
      ]
     },
     "metadata": {},
     "output_type": "display_data"
    },
    {
     "name": "stdout",
     "output_type": "stream",
     "text": [
      "num_vertices of original tooth :  12770\n",
      "num_vertices of shrinked tooth :  47076\n",
      "-----------------------------------------------\n",
      "--------------------------------------------- tooth_5\n",
      "number of triangles 23968\n",
      "reading time: 0.01\n",
      "cleaning time: 0.98\n"
     ]
    },
    {
     "data": {
      "application/vnd.jupyter.widget-view+json": {
       "model_id": "9099c3d7973342f0b12e59155c443ac6",
       "version_major": 2,
       "version_minor": 0
      },
      "text/plain": [
       "Renderer(camera=PerspectiveCamera(children=(DirectionalLight(color='white', intensity=0.6, position=(38.471040…"
      ]
     },
     "metadata": {},
     "output_type": "display_data"
    },
    {
     "name": "stdout",
     "output_type": "stream",
     "text": [
      "num_vertices of original tooth :  11986\n",
      "num_vertices of shrinked tooth :  44246\n",
      "-----------------------------------------------\n",
      "--------------------------------------------- tooth_6\n",
      "number of triangles 28896\n",
      "reading time: 0.01\n",
      "cleaning time: 1.37\n"
     ]
    },
    {
     "data": {
      "application/vnd.jupyter.widget-view+json": {
       "model_id": "a2b58980688f43c384981c9119e668f8",
       "version_major": 2,
       "version_minor": 0
      },
      "text/plain": [
       "Renderer(camera=PerspectiveCamera(children=(DirectionalLight(color='white', intensity=0.6, position=(40.875490…"
      ]
     },
     "metadata": {},
     "output_type": "display_data"
    },
    {
     "name": "stdout",
     "output_type": "stream",
     "text": [
      "num_vertices of original tooth :  14450\n",
      "num_vertices of shrinked tooth :  53706\n",
      "-----------------------------------------------\n",
      "--------------------------------------------- tooth_7\n",
      "number of triangles 26272\n",
      "reading time: 0.01\n",
      "cleaning time: 1.15\n"
     ]
    },
    {
     "data": {
      "application/vnd.jupyter.widget-view+json": {
       "model_id": "f711afc0058f4e43a8b5a662ba282e4a",
       "version_major": 2,
       "version_minor": 0
      },
      "text/plain": [
       "Renderer(camera=PerspectiveCamera(children=(DirectionalLight(color='white', intensity=0.6, position=(45.386672…"
      ]
     },
     "metadata": {},
     "output_type": "display_data"
    },
    {
     "name": "stdout",
     "output_type": "stream",
     "text": [
      "num_vertices of original tooth :  13138\n",
      "num_vertices of shrinked tooth :  48388\n",
      "-----------------------------------------------\n",
      "--------------------------------------------- tooth_8\n",
      "number of triangles 28508\n",
      "reading time: 0.01\n",
      "cleaning time: 1.36\n"
     ]
    },
    {
     "data": {
      "application/vnd.jupyter.widget-view+json": {
       "model_id": "df20132f578445d0a4434915f1af7374",
       "version_major": 2,
       "version_minor": 0
      },
      "text/plain": [
       "Renderer(camera=PerspectiveCamera(children=(DirectionalLight(color='white', intensity=0.6, position=(52.345796…"
      ]
     },
     "metadata": {},
     "output_type": "display_data"
    },
    {
     "name": "stdout",
     "output_type": "stream",
     "text": [
      "num_vertices of original tooth :  14256\n",
      "num_vertices of shrinked tooth :  52972\n",
      "-----------------------------------------------\n",
      "--------------------------------------------- tooth_9\n",
      "number of triangles 29124\n",
      "reading time: 0.01\n",
      "cleaning time: 1.43\n"
     ]
    },
    {
     "data": {
      "application/vnd.jupyter.widget-view+json": {
       "model_id": "56c3b4fb4fe141d99288a5cd30b96402",
       "version_major": 2,
       "version_minor": 0
      },
      "text/plain": [
       "Renderer(camera=PerspectiveCamera(children=(DirectionalLight(color='white', intensity=0.6, position=(60.305356…"
      ]
     },
     "metadata": {},
     "output_type": "display_data"
    },
    {
     "name": "stdout",
     "output_type": "stream",
     "text": [
      "num_vertices of original tooth :  14564\n",
      "num_vertices of shrinked tooth :  54180\n",
      "-----------------------------------------------\n"
     ]
    },
    {
     "data": {
      "application/vnd.jupyter.widget-view+json": {
       "model_id": "be763169b2734747bc0210d51666f554",
       "version_major": 2,
       "version_minor": 0
      },
      "text/plain": [
       "Renderer(camera=PerspectiveCamera(children=(DirectionalLight(color='white', intensity=0.6, position=(53.084893…"
      ]
     },
     "metadata": {},
     "output_type": "display_data"
    },
    {
     "data": {
      "application/vnd.jupyter.widget-view+json": {
       "model_id": "46c1513928ed40cd881a41f5c72bf3e4",
       "version_major": 2,
       "version_minor": 0
      },
      "text/plain": [
       "Renderer(camera=PerspectiveCamera(children=(DirectionalLight(color='white', intensity=0.6, position=(53.084462…"
      ]
     },
     "metadata": {},
     "output_type": "display_data"
    },
    {
     "name": "stdout",
     "output_type": "stream",
     "text": [
      "Time for shrinking all teeth with voxel of 0.1 (s):  164.24\n"
     ]
    }
   ],
   "source": [
    "params.output_fname = 'all_teeth_shrinked'\n",
    "params.output_dir = mid_o_teeth_dir\n",
    "rest = params.gap_thickness - bone_offset\n",
    "\n",
    "teeth_v, teeth_f, unn, centers, impacted = OpenFullJaw.shrink_teeth(teeth_dir, rest, shrinking_info, params)\n"
   ]
  },
  {
   "cell_type": "markdown",
   "id": "deadly-cardiff",
   "metadata": {},
   "source": [
    "### 1.3. Remesh and reduce the teeth meshes"
   ]
  },
  {
   "cell_type": "code",
   "execution_count": 8,
   "id": "sweet-camcorder",
   "metadata": {},
   "outputs": [
    {
     "name": "stdout",
     "output_type": "stream",
     "text": [
      "Meshing time(s):  302.47\n",
      "teeth remeshing time (s):  303.78\n"
     ]
    },
    {
     "data": {
      "application/vnd.jupyter.widget-view+json": {
       "model_id": "fcc4d7f39678492b882c297b4995107f",
       "version_major": 2,
       "version_minor": 0
      },
      "text/plain": [
       "Renderer(camera=PerspectiveCamera(children=(DirectionalLight(color='white', intensity=0.6, position=(30.755899…"
      ]
     },
     "metadata": {},
     "output_type": "display_data"
    }
   ],
   "source": [
    "### 1.3. Remesh and reduce the eroded teeth meshes\n",
    "\n",
    "tooth_file  =  \"all_teeth_shrinked.obj\"\n",
    "path_all_teeth = mid_o_teeth_dir + tooth_file\n",
    "\n",
    "\n",
    "params.output_fname = 'teeth_remeshed'\n",
    "params.output_dir   = mid_o_teeth_dir\n",
    "\n",
    "V_ts, F_ts = OpenFullJaw.remesh_teeth(path_all_teeth, params)\n",
    "\n",
    "OpenFullJaw.split_teeth_to_separate_meshes(V_ts, F_ts, centers, unn, params)"
   ]
  },
  {
   "cell_type": "markdown",
   "id": "medieval-publicity",
   "metadata": {},
   "source": [
    "## 3. PDL rim generation"
   ]
  },
  {
   "cell_type": "markdown",
   "id": "intelligent-theology",
   "metadata": {},
   "source": [
    "### 3.1. Generate PDL rim for each tooth"
   ]
  },
  {
   "cell_type": "code",
   "execution_count": 9,
   "id": "asian-valuation",
   "metadata": {
    "scrolled": true
   },
   "outputs": [
    {
     "name": "stdout",
     "output_type": "stream",
     "text": [
      "number of triangles after cleaning 255232\n",
      "bone cleanup time (s):  16.23\n",
      "generating PDL top for Tooth_1\n",
      "number of triangles after cleaning 16244\n"
     ]
    },
    {
     "name": "stderr",
     "output_type": "stream",
     "text": [
      "/home/torkan/diku_codes/Torkan/Open-Full-Jaw/src/OpenFullJaw/step3_pdl_rim_generation.py:42: FutureWarning: elementwise comparison failed; returning scalar instead, but in the future will perform elementwise comparison\n",
      "  if i in impacted:\n"
     ]
    },
    {
     "data": {
      "application/vnd.jupyter.widget-view+json": {
       "model_id": "5492f9ade71248db8364dcb3e9979238",
       "version_major": 2,
       "version_minor": 0
      },
      "text/plain": [
       "Renderer(camera=PerspectiveCamera(children=(DirectionalLight(color='white', intensity=0.6, position=(30.755899…"
      ]
     },
     "metadata": {},
     "output_type": "display_data"
    },
    {
     "data": {
      "application/vnd.jupyter.widget-view+json": {
       "model_id": "b4dee6607545482fad40a1248ecb2772",
       "version_major": 2,
       "version_minor": 0
      },
      "text/plain": [
       "Renderer(camera=PerspectiveCamera(children=(DirectionalLight(color='white', intensity=0.6, position=(30.755899…"
      ]
     },
     "metadata": {},
     "output_type": "display_data"
    },
    {
     "data": {
      "image/png": "[encoded data removed]",
      "text/plain": [
       "<Figure size 432x288 with 1 Axes>"
      ]
     },
     "metadata": {
      "needs_background": "light"
     },
     "output_type": "display_data"
    },
    {
     "data": {
      "application/vnd.jupyter.widget-view+json": {
       "model_id": "9370ea0890544a7ebe5a53b25171cea8",
       "version_major": 2,
       "version_minor": 0
      },
      "text/plain": [
       "Renderer(camera=PerspectiveCamera(children=(DirectionalLight(color='white', intensity=0.6, position=(31.292327…"
      ]
     },
     "metadata": {},
     "output_type": "display_data"
    },
    {
     "name": "stdout",
     "output_type": "stream",
     "text": [
      "<meshplot.Viewer.Viewer object at 0x7fde0d41f410>\n",
      "Base layer: max dihedral angle before smoothing is  0.32 radians ( 18.33 degrees).\n"
     ]
    },
    {
     "data": {
      "application/vnd.jupyter.widget-view+json": {
       "model_id": "99ba11f2db8a4ad6bfcbf10926a7d25e",
       "version_major": 2,
       "version_minor": 0
      },
      "text/plain": [
       "Renderer(camera=PerspectiveCamera(children=(DirectionalLight(color='white', intensity=0.6, position=(31.292327…"
      ]
     },
     "metadata": {},
     "output_type": "display_data"
    },
    {
     "name": "stdout",
     "output_type": "stream",
     "text": [
      "Base layer: max dihedral angle after smoothing is  3.13 radians ( 179.34 degrees).\n"
     ]
    },
    {
     "data": {
      "application/vnd.jupyter.widget-view+json": {
       "model_id": "c3c06a19abd6438691f128850eba3140",
       "version_major": 2,
       "version_minor": 0
      },
      "text/plain": [
       "Renderer(camera=PerspectiveCamera(children=(DirectionalLight(color='white', intensity=0.6, position=(31.292327…"
      ]
     },
     "metadata": {},
     "output_type": "display_data"
    },
    {
     "name": "stdout",
     "output_type": "stream",
     "text": [
      "Quality control results for the base layer: \n",
      "\n",
      "- There are issues with these vertex indices [24, 25, 26, 27, 56, 57, 58, 71, 72, 73]\n",
      "- Solution 1: To prevent this issue, decrease your 'param.smoothing_iteration' to  4\n",
      "- Solution 2: By default the faulty triangles will be removed from the face index list \n",
      "\n",
      "faulty vertices & neighbouring triangles:\n"
     ]
    },
    {
     "data": {
      "application/vnd.jupyter.widget-view+json": {
       "model_id": "0253d0bdf57a481e901257f681a738d6",
       "version_major": 2,
       "version_minor": 0
      },
      "text/plain": [
       "Renderer(camera=PerspectiveCamera(children=(DirectionalLight(color='white', intensity=0.6, position=(31.292327…"
      ]
     },
     "metadata": {},
     "output_type": "display_data"
    },
    {
     "name": "stdout",
     "output_type": "stream",
     "text": [
      "The pink triangles will be removed:\n",
      "No.........................\n"
     ]
    },
    {
     "data": {
      "application/vnd.jupyter.widget-view+json": {
       "model_id": "0dceb758220645ac871cc6ed9eae9e6b",
       "version_major": 2,
       "version_minor": 0
      },
      "text/plain": [
       "Renderer(camera=PerspectiveCamera(children=(DirectionalLight(color='white', intensity=0.6, position=(31.292327…"
      ]
     },
     "metadata": {},
     "output_type": "display_data"
    },
    {
     "name": "stdout",
     "output_type": "stream",
     "text": [
      "normal visualization of the fixed result:\n"
     ]
    },
    {
     "data": {
      "application/vnd.jupyter.widget-view+json": {
       "model_id": "e5055c430b6a4682a1e28ddc8c233769",
       "version_major": 2,
       "version_minor": 0
      },
      "text/plain": [
       "Renderer(camera=PerspectiveCamera(children=(DirectionalLight(color='white', intensity=0.6, position=(31.292327…"
      ]
     },
     "metadata": {},
     "output_type": "display_data"
    },
    {
     "name": "stdout",
     "output_type": "stream",
     "text": [
      "Extruded layer: max dihedral angle before smoothing is  3.12 radians ( 178.76 degrees).\n"
     ]
    },
    {
     "data": {
      "application/vnd.jupyter.widget-view+json": {
       "model_id": "70c88f862aae405ba6d32a517323f573",
       "version_major": 2,
       "version_minor": 0
      },
      "text/plain": [
       "Renderer(camera=PerspectiveCamera(children=(DirectionalLight(color='white', intensity=0.6, position=(31.433702…"
      ]
     },
     "metadata": {},
     "output_type": "display_data"
    },
    {
     "name": "stdout",
     "output_type": "stream",
     "text": [
      "Extruded layer: max dihedral angle after smoothing is 3.14 radians ( 179.91 degrees).\n"
     ]
    },
    {
     "data": {
      "application/vnd.jupyter.widget-view+json": {
       "model_id": "fc784bd2301a4dafa53d39f768c730d6",
       "version_major": 2,
       "version_minor": 0
      },
      "text/plain": [
       "Renderer(camera=PerspectiveCamera(children=(DirectionalLight(color='white', intensity=0.6, position=(31.433702…"
      ]
     },
     "metadata": {},
     "output_type": "display_data"
    },
    {
     "name": "stdout",
     "output_type": "stream",
     "text": [
      "Quality control results  for the extruded layer: \n",
      "\n",
      "- There are issues with these vertex indices [24, 25, 26, 27, 56, 57, 58, 71, 72, 73]\n",
      "- Solution 1: To prevent this issue, decrease your 'param.smoothing_iteration' to  -1\n",
      "- Solution 2: By default the faulty triangles will be removed from the face index list \n",
      "faulty vertices & neighbouring triangles:\n"
     ]
    },
    {
     "data": {
      "application/vnd.jupyter.widget-view+json": {
       "model_id": "1a69c65b54274cfda441466080ba2196",
       "version_major": 2,
       "version_minor": 0
      },
      "text/plain": [
       "Renderer(camera=PerspectiveCamera(children=(DirectionalLight(color='white', intensity=0.6, position=(31.433702…"
      ]
     },
     "metadata": {},
     "output_type": "display_data"
    },
    {
     "name": "stdout",
     "output_type": "stream",
     "text": [
      "The pink triangles will be removed:\n",
      "No.........................\n"
     ]
    },
    {
     "data": {
      "application/vnd.jupyter.widget-view+json": {
       "model_id": "6c98fe1db49a4ae7a514fbd81aef5b29",
       "version_major": 2,
       "version_minor": 0
      },
      "text/plain": [
       "Renderer(camera=PerspectiveCamera(children=(DirectionalLight(color='white', intensity=0.6, position=(31.433702…"
      ]
     },
     "metadata": {},
     "output_type": "display_data"
    },
    {
     "name": "stdout",
     "output_type": "stream",
     "text": [
      "normal visualization of the fixed result:\n"
     ]
    },
    {
     "data": {
      "application/vnd.jupyter.widget-view+json": {
       "model_id": "d0825193bac246ff8bd7e0a3b483f6fa",
       "version_major": 2,
       "version_minor": 0
      },
      "text/plain": [
       "Renderer(camera=PerspectiveCamera(children=(DirectionalLight(color='white', intensity=0.6, position=(31.433702…"
      ]
     },
     "metadata": {},
     "output_type": "display_data"
    },
    {
     "data": {
      "application/vnd.jupyter.widget-view+json": {
       "model_id": "d1f60f16323e4d0abe841414d2486761",
       "version_major": 2,
       "version_minor": 0
      },
      "text/plain": [
       "Renderer(camera=PerspectiveCamera(children=(DirectionalLight(color='white', intensity=0.6, position=(31.292327…"
      ]
     },
     "metadata": {},
     "output_type": "display_data"
    },
    {
     "data": {
      "application/vnd.jupyter.widget-view+json": {
       "model_id": "ec83aa55289c45bc867136262d4bbbfa",
       "version_major": 2,
       "version_minor": 0
      },
      "text/plain": [
       "Renderer(camera=PerspectiveCamera(children=(DirectionalLight(color='white', intensity=0.6, position=(31.433702…"
      ]
     },
     "metadata": {},
     "output_type": "display_data"
    },
    {
     "data": {
      "application/vnd.jupyter.widget-view+json": {
       "model_id": "cbf6249f2ab04cc8bcae0aaae14b85f6",
       "version_major": 2,
       "version_minor": 0
      },
      "text/plain": [
       "Renderer(camera=PerspectiveCamera(children=(DirectionalLight(color='white', intensity=0.6, position=(30.814628…"
      ]
     },
     "metadata": {},
     "output_type": "display_data"
    },
    {
     "data": {
      "application/vnd.jupyter.widget-view+json": {
       "model_id": "c2bcbc7ee9d94277907f817bac9298ac",
       "version_major": 2,
       "version_minor": 0
      },
      "text/plain": [
       "Renderer(camera=PerspectiveCamera(children=(DirectionalLight(color='white', intensity=0.6, position=(31.292327…"
      ]
     },
     "metadata": {},
     "output_type": "display_data"
    },
    {
     "name": "stdout",
     "output_type": "stream",
     "text": [
      "pdl base area is:  202.58\n",
      "mean pdl thickness is:  0.2\n",
      "maximum pdl thickness is:  0.24\n",
      "PDL generation time (s):  14.18\n",
      "generating PDL top for Tooth_10\n",
      "number of triangles after cleaning 11822\n"
     ]
    },
    {
     "data": {
      "application/vnd.jupyter.widget-view+json": {
       "model_id": "5a1a9b9c935142ec84c4a1b949ec4705",
       "version_major": 2,
       "version_minor": 0
      },
      "text/plain": [
       "Renderer(camera=PerspectiveCamera(children=(DirectionalLight(color='white', intensity=0.6, position=(65.438899…"
      ]
     },
     "metadata": {},
     "output_type": "display_data"
    },
    {
     "data": {
      "application/vnd.jupyter.widget-view+json": {
       "model_id": "668b6727271c4ef38b9a48f685d5fa96",
       "version_major": 2,
       "version_minor": 0
      },
      "text/plain": [
       "Renderer(camera=PerspectiveCamera(children=(DirectionalLight(color='white', intensity=0.6, position=(65.438899…"
      ]
     },
     "metadata": {},
     "output_type": "display_data"
    },
    {
     "data": {
      "image/png": "[encoded data removed]",
      "text/plain": [
       "<Figure size 432x288 with 1 Axes>"
      ]
     },
     "metadata": {
      "needs_background": "light"
     },
     "output_type": "display_data"
    },
    {
     "data": {
      "application/vnd.jupyter.widget-view+json": {
       "model_id": "3d8eb6d1fca746cdb7b1d3eaa8805814",
       "version_major": 2,
       "version_minor": 0
      },
      "text/plain": [
       "Renderer(camera=PerspectiveCamera(children=(DirectionalLight(color='white', intensity=0.6, position=(65.336189…"
      ]
     },
     "metadata": {},
     "output_type": "display_data"
    },
    {
     "name": "stdout",
     "output_type": "stream",
     "text": [
      "<meshplot.Viewer.Viewer object at 0x7fde1941c410>\n",
      "Base layer: max dihedral angle before smoothing is  0.33 radians ( 18.91 degrees).\n"
     ]
    },
    {
     "data": {
      "application/vnd.jupyter.widget-view+json": {
       "model_id": "88c2f973f1b940509e052e66ea4a248f",
       "version_major": 2,
       "version_minor": 0
      },
      "text/plain": [
       "Renderer(camera=PerspectiveCamera(children=(DirectionalLight(color='white', intensity=0.6, position=(65.336189…"
      ]
     },
     "metadata": {},
     "output_type": "display_data"
    },
    {
     "name": "stdout",
     "output_type": "stream",
     "text": [
      "Base layer: max dihedral angle after smoothing is  3.14 radians ( 179.91 degrees).\n"
     ]
    },
    {
     "data": {
      "application/vnd.jupyter.widget-view+json": {
       "model_id": "663892132f5b4f37a7544d4cb810d880",
       "version_major": 2,
       "version_minor": 0
      },
      "text/plain": [
       "Renderer(camera=PerspectiveCamera(children=(DirectionalLight(color='white', intensity=0.6, position=(65.336189…"
      ]
     },
     "metadata": {},
     "output_type": "display_data"
    },
    {
     "name": "stdout",
     "output_type": "stream",
     "text": [
      "Quality control results for the base layer: \n",
      "\n",
      "- There are issues with these vertex indices [34, 35, 36, 37, 74, 75, 76, 77, 78, 79]\n",
      "- Solution 1: To prevent this issue, decrease your 'param.smoothing_iteration' to  2\n",
      "- Solution 2: By default the faulty triangles will be removed from the face index list \n",
      "\n",
      "faulty vertices & neighbouring triangles:\n"
     ]
    },
    {
     "data": {
      "application/vnd.jupyter.widget-view+json": {
       "model_id": "2214212ab4dc4a37bd180c83e8448535",
       "version_major": 2,
       "version_minor": 0
      },
      "text/plain": [
       "Renderer(camera=PerspectiveCamera(children=(DirectionalLight(color='white', intensity=0.6, position=(65.336189…"
      ]
     },
     "metadata": {},
     "output_type": "display_data"
    },
    {
     "name": "stdout",
     "output_type": "stream",
     "text": [
      "The pink triangles will be removed:\n",
      "No.........................\n"
     ]
    },
    {
     "data": {
      "application/vnd.jupyter.widget-view+json": {
       "model_id": "4e48a959d978410a945a14aadf149067",
       "version_major": 2,
       "version_minor": 0
      },
      "text/plain": [
       "Renderer(camera=PerspectiveCamera(children=(DirectionalLight(color='white', intensity=0.6, position=(65.336189…"
      ]
     },
     "metadata": {},
     "output_type": "display_data"
    },
    {
     "name": "stdout",
     "output_type": "stream",
     "text": [
      "normal visualization of the fixed result:\n"
     ]
    },
    {
     "data": {
      "application/vnd.jupyter.widget-view+json": {
       "model_id": "1aec6a6feda74002838276253df1a4e5",
       "version_major": 2,
       "version_minor": 0
      },
      "text/plain": [
       "Renderer(camera=PerspectiveCamera(children=(DirectionalLight(color='white', intensity=0.6, position=(65.336189…"
      ]
     },
     "metadata": {},
     "output_type": "display_data"
    },
    {
     "name": "stdout",
     "output_type": "stream",
     "text": [
      "Extruded layer: max dihedral angle before smoothing is  3.14 radians ( 179.91 degrees).\n"
     ]
    },
    {
     "data": {
      "application/vnd.jupyter.widget-view+json": {
       "model_id": "191b8ebc31ed4005b0cb2b0fc84e9f6b",
       "version_major": 2,
       "version_minor": 0
      },
      "text/plain": [
       "Renderer(camera=PerspectiveCamera(children=(DirectionalLight(color='white', intensity=0.6, position=(63.976831…"
      ]
     },
     "metadata": {},
     "output_type": "display_data"
    },
    {
     "name": "stdout",
     "output_type": "stream",
     "text": [
      "Extruded layer: max dihedral angle after smoothing is 3.14 radians ( 179.91 degrees).\n"
     ]
    },
    {
     "data": {
      "application/vnd.jupyter.widget-view+json": {
       "model_id": "af9ed24abfae4c0085298b3ad255a60d",
       "version_major": 2,
       "version_minor": 0
      },
      "text/plain": [
       "Renderer(camera=PerspectiveCamera(children=(DirectionalLight(color='white', intensity=0.6, position=(63.976831…"
      ]
     },
     "metadata": {},
     "output_type": "display_data"
    },
    {
     "name": "stdout",
     "output_type": "stream",
     "text": [
      "Quality control results  for the extruded layer: \n",
      "\n",
      "- There are issues with these vertex indices [34, 35, 36, 37, 74, 75, 76, 77, 79, 81, 82]\n",
      "- Solution 1: To prevent this issue, decrease your 'param.smoothing_iteration' to  -1\n",
      "- Solution 2: By default the faulty triangles will be removed from the face index list \n",
      "faulty vertices & neighbouring triangles:\n"
     ]
    },
    {
     "data": {
      "application/vnd.jupyter.widget-view+json": {
       "model_id": "4af1d2b43f0646b995885a801cf9716a",
       "version_major": 2,
       "version_minor": 0
      },
      "text/plain": [
       "Renderer(camera=PerspectiveCamera(children=(DirectionalLight(color='white', intensity=0.6, position=(63.976831…"
      ]
     },
     "metadata": {},
     "output_type": "display_data"
    },
    {
     "name": "stdout",
     "output_type": "stream",
     "text": [
      "The pink triangles will be removed:\n",
      "No.........................\n"
     ]
    },
    {
     "data": {
      "application/vnd.jupyter.widget-view+json": {
       "model_id": "548d0d1f18bd46de8fad2b33cfb06516",
       "version_major": 2,
       "version_minor": 0
      },
      "text/plain": [
       "Renderer(camera=PerspectiveCamera(children=(DirectionalLight(color='white', intensity=0.6, position=(63.976831…"
      ]
     },
     "metadata": {},
     "output_type": "display_data"
    },
    {
     "name": "stdout",
     "output_type": "stream",
     "text": [
      "normal visualization of the fixed result:\n"
     ]
    },
    {
     "data": {
      "application/vnd.jupyter.widget-view+json": {
       "model_id": "f2580da1b0364246b17035cab8018588",
       "version_major": 2,
       "version_minor": 0
      },
      "text/plain": [
       "Renderer(camera=PerspectiveCamera(children=(DirectionalLight(color='white', intensity=0.6, position=(63.976831…"
      ]
     },
     "metadata": {},
     "output_type": "display_data"
    },
    {
     "data": {
      "application/vnd.jupyter.widget-view+json": {
       "model_id": "0b39b34cdc2c42ed8d9766f45bef768f",
       "version_major": 2,
       "version_minor": 0
      },
      "text/plain": [
       "Renderer(camera=PerspectiveCamera(children=(DirectionalLight(color='white', intensity=0.6, position=(65.336189…"
      ]
     },
     "metadata": {},
     "output_type": "display_data"
    },
    {
     "data": {
      "application/vnd.jupyter.widget-view+json": {
       "model_id": "3f6a9de9dd9247dcab8848d0714e87e5",
       "version_major": 2,
       "version_minor": 0
      },
      "text/plain": [
       "Renderer(camera=PerspectiveCamera(children=(DirectionalLight(color='white', intensity=0.6, position=(63.976831…"
      ]
     },
     "metadata": {},
     "output_type": "display_data"
    },
    {
     "data": {
      "application/vnd.jupyter.widget-view+json": {
       "model_id": "71fc45344c0f4008af1dfa090c665293",
       "version_major": 2,
       "version_minor": 0
      },
      "text/plain": [
       "Renderer(camera=PerspectiveCamera(children=(DirectionalLight(color='white', intensity=0.6, position=(64.684761…"
      ]
     },
     "metadata": {},
     "output_type": "display_data"
    },
    {
     "data": {
      "application/vnd.jupyter.widget-view+json": {
       "model_id": "4761e87b25bb470fac51b473e88d3380",
       "version_major": 2,
       "version_minor": 0
      },
      "text/plain": [
       "Renderer(camera=PerspectiveCamera(children=(DirectionalLight(color='white', intensity=0.6, position=(65.336189…"
      ]
     },
     "metadata": {},
     "output_type": "display_data"
    },
    {
     "name": "stdout",
     "output_type": "stream",
     "text": [
      "pdl base area is:  157.69\n",
      "mean pdl thickness is:  0.2\n",
      "maximum pdl thickness is:  0.22\n",
      "PDL generation time (s):  12.73\n",
      "generating PDL top for Tooth_11\n",
      "number of triangles after cleaning 11602\n"
     ]
    },
    {
     "data": {
      "application/vnd.jupyter.widget-view+json": {
       "model_id": "f1982204e3344ac1bb9c7688fbe0a6fe",
       "version_major": 2,
       "version_minor": 0
      },
      "text/plain": [
       "Renderer(camera=PerspectiveCamera(children=(DirectionalLight(color='white', intensity=0.6, position=(69.027748…"
      ]
     },
     "metadata": {},
     "output_type": "display_data"
    },
    {
     "data": {
      "application/vnd.jupyter.widget-view+json": {
       "model_id": "24f63fc4e9a24cb49b63340e7e0bc010",
       "version_major": 2,
       "version_minor": 0
      },
      "text/plain": [
       "Renderer(camera=PerspectiveCamera(children=(DirectionalLight(color='white', intensity=0.6, position=(69.027748…"
      ]
     },
     "metadata": {},
     "output_type": "display_data"
    },
    {
     "data": {
      "image/png": "[encoded data removed]",
      "text/plain": [
       "<Figure size 432x288 with 1 Axes>"
      ]
     },
     "metadata": {
      "needs_background": "light"
     },
     "output_type": "display_data"
    },
    {
     "data": {
      "application/vnd.jupyter.widget-view+json": {
       "model_id": "23a3c209c20b443e8e7b3221ae463ebc",
       "version_major": 2,
       "version_minor": 0
      },
      "text/plain": [
       "Renderer(camera=PerspectiveCamera(children=(DirectionalLight(color='white', intensity=0.6, position=(68.916770…"
      ]
     },
     "metadata": {},
     "output_type": "display_data"
    },
    {
     "name": "stdout",
     "output_type": "stream",
     "text": [
      "<meshplot.Viewer.Viewer object at 0x7fde18e04ad0>\n",
      "Base layer: max dihedral angle before smoothing is  0.34 radians ( 19.48 degrees).\n"
     ]
    },
    {
     "data": {
      "application/vnd.jupyter.widget-view+json": {
       "model_id": "7bdee7d2c7e746548075d89005641d97",
       "version_major": 2,
       "version_minor": 0
      },
      "text/plain": [
       "Renderer(camera=PerspectiveCamera(children=(DirectionalLight(color='white', intensity=0.6, position=(68.916770…"
      ]
     },
     "metadata": {},
     "output_type": "display_data"
    },
    {
     "name": "stdout",
     "output_type": "stream",
     "text": [
      "Base layer: max dihedral angle after smoothing is  3.14 radians ( 179.91 degrees).\n"
     ]
    },
    {
     "data": {
      "application/vnd.jupyter.widget-view+json": {
       "model_id": "dc10800705dc4245be2eb5ea3dd7de6a",
       "version_major": 2,
       "version_minor": 0
      },
      "text/plain": [
       "Renderer(camera=PerspectiveCamera(children=(DirectionalLight(color='white', intensity=0.6, position=(68.916770…"
      ]
     },
     "metadata": {},
     "output_type": "display_data"
    },
    {
     "name": "stdout",
     "output_type": "stream",
     "text": [
      "Quality control results for the base layer: \n",
      "\n",
      "- There are issues with these vertex indices [5, 6, 7, 8]\n",
      "- Solution 1: To prevent this issue, decrease your 'param.smoothing_iteration' to  11\n",
      "- Solution 2: By default the faulty triangles will be removed from the face index list \n",
      "\n",
      "faulty vertices & neighbouring triangles:\n"
     ]
    },
    {
     "data": {
      "application/vnd.jupyter.widget-view+json": {
       "model_id": "6268b34555824179b07127d64ad045e1",
       "version_major": 2,
       "version_minor": 0
      },
      "text/plain": [
       "Renderer(camera=PerspectiveCamera(children=(DirectionalLight(color='white', intensity=0.6, position=(68.916770…"
      ]
     },
     "metadata": {},
     "output_type": "display_data"
    },
    {
     "name": "stdout",
     "output_type": "stream",
     "text": [
      "The pink triangles will be removed:\n",
      "No.........................\n"
     ]
    },
    {
     "data": {
      "application/vnd.jupyter.widget-view+json": {
       "model_id": "ccba05b643f2464d958ef21f9b4d98e8",
       "version_major": 2,
       "version_minor": 0
      },
      "text/plain": [
       "Renderer(camera=PerspectiveCamera(children=(DirectionalLight(color='white', intensity=0.6, position=(68.916770…"
      ]
     },
     "metadata": {},
     "output_type": "display_data"
    },
    {
     "name": "stdout",
     "output_type": "stream",
     "text": [
      "normal visualization of the fixed result:\n"
     ]
    },
    {
     "data": {
      "application/vnd.jupyter.widget-view+json": {
       "model_id": "4a26e2567eb84f9e916a5a9de537244c",
       "version_major": 2,
       "version_minor": 0
      },
      "text/plain": [
       "Renderer(camera=PerspectiveCamera(children=(DirectionalLight(color='white', intensity=0.6, position=(68.916770…"
      ]
     },
     "metadata": {},
     "output_type": "display_data"
    },
    {
     "name": "stdout",
     "output_type": "stream",
     "text": [
      "Extruded layer: max dihedral angle before smoothing is  3.09 radians ( 177.04 degrees).\n"
     ]
    },
    {
     "data": {
      "application/vnd.jupyter.widget-view+json": {
       "model_id": "0d5de801420f4d85b1d2439938e98f6b",
       "version_major": 2,
       "version_minor": 0
      },
      "text/plain": [
       "Renderer(camera=PerspectiveCamera(children=(DirectionalLight(color='white', intensity=0.6, position=(68.483184…"
      ]
     },
     "metadata": {},
     "output_type": "display_data"
    },
    {
     "name": "stdout",
     "output_type": "stream",
     "text": [
      "Extruded layer: max dihedral angle after smoothing is 3.13 radians ( 179.34 degrees).\n"
     ]
    },
    {
     "data": {
      "application/vnd.jupyter.widget-view+json": {
       "model_id": "42fdb24ad8124f1883c80092b9c24a66",
       "version_major": 2,
       "version_minor": 0
      },
      "text/plain": [
       "Renderer(camera=PerspectiveCamera(children=(DirectionalLight(color='white', intensity=0.6, position=(68.483184…"
      ]
     },
     "metadata": {},
     "output_type": "display_data"
    },
    {
     "name": "stdout",
     "output_type": "stream",
     "text": [
      "Quality control results  for the extruded layer: \n",
      "\n",
      "- There are issues with these vertex indices [5, 6, 7, 8]\n",
      "- Solution 1: To prevent this issue, decrease your 'param.smoothing_iteration' to  -1\n",
      "- Solution 2: By default the faulty triangles will be removed from the face index list \n",
      "faulty vertices & neighbouring triangles:\n"
     ]
    },
    {
     "data": {
      "application/vnd.jupyter.widget-view+json": {
       "model_id": "78a7cdf8eaef40cf8ea46ebc61402be3",
       "version_major": 2,
       "version_minor": 0
      },
      "text/plain": [
       "Renderer(camera=PerspectiveCamera(children=(DirectionalLight(color='white', intensity=0.6, position=(68.483184…"
      ]
     },
     "metadata": {},
     "output_type": "display_data"
    },
    {
     "name": "stdout",
     "output_type": "stream",
     "text": [
      "The pink triangles will be removed:\n",
      "No.........................\n"
     ]
    },
    {
     "data": {
      "application/vnd.jupyter.widget-view+json": {
       "model_id": "55af2522c690463b8b1f54fbd28ff81b",
       "version_major": 2,
       "version_minor": 0
      },
      "text/plain": [
       "Renderer(camera=PerspectiveCamera(children=(DirectionalLight(color='white', intensity=0.6, position=(68.483184…"
      ]
     },
     "metadata": {},
     "output_type": "display_data"
    },
    {
     "name": "stdout",
     "output_type": "stream",
     "text": [
      "normal visualization of the fixed result:\n"
     ]
    },
    {
     "data": {
      "application/vnd.jupyter.widget-view+json": {
       "model_id": "454a5e87cb34477fb9bc3d266f574118",
       "version_major": 2,
       "version_minor": 0
      },
      "text/plain": [
       "Renderer(camera=PerspectiveCamera(children=(DirectionalLight(color='white', intensity=0.6, position=(68.483184…"
      ]
     },
     "metadata": {},
     "output_type": "display_data"
    },
    {
     "data": {
      "application/vnd.jupyter.widget-view+json": {
       "model_id": "437a285fcf3e4c6a8e278739aeece5c6",
       "version_major": 2,
       "version_minor": 0
      },
      "text/plain": [
       "Renderer(camera=PerspectiveCamera(children=(DirectionalLight(color='white', intensity=0.6, position=(68.916770…"
      ]
     },
     "metadata": {},
     "output_type": "display_data"
    },
    {
     "data": {
      "application/vnd.jupyter.widget-view+json": {
       "model_id": "ba9b27b4dec349bda8915ef024b358cd",
       "version_major": 2,
       "version_minor": 0
      },
      "text/plain": [
       "Renderer(camera=PerspectiveCamera(children=(DirectionalLight(color='white', intensity=0.6, position=(68.483184…"
      ]
     },
     "metadata": {},
     "output_type": "display_data"
    },
    {
     "data": {
      "application/vnd.jupyter.widget-view+json": {
       "model_id": "977b589032104aadb597622e4734866d",
       "version_major": 2,
       "version_minor": 0
      },
      "text/plain": [
       "Renderer(camera=PerspectiveCamera(children=(DirectionalLight(color='white', intensity=0.6, position=(68.730041…"
      ]
     },
     "metadata": {},
     "output_type": "display_data"
    },
    {
     "data": {
      "application/vnd.jupyter.widget-view+json": {
       "model_id": "f0b31613a96045b5966edac9197e0cab",
       "version_major": 2,
       "version_minor": 0
      },
      "text/plain": [
       "Renderer(camera=PerspectiveCamera(children=(DirectionalLight(color='white', intensity=0.6, position=(68.916770…"
      ]
     },
     "metadata": {},
     "output_type": "display_data"
    },
    {
     "name": "stdout",
     "output_type": "stream",
     "text": [
      "pdl base area is:  170.64\n",
      "mean pdl thickness is:  0.2\n",
      "maximum pdl thickness is:  0.22\n",
      "PDL generation time (s):  10.85\n",
      "generating PDL top for Tooth_12\n",
      "number of triangles after cleaning 13300\n"
     ]
    },
    {
     "data": {
      "application/vnd.jupyter.widget-view+json": {
       "model_id": "9825f975a793438ea28ce17ddb7e66f1",
       "version_major": 2,
       "version_minor": 0
      },
      "text/plain": [
       "Renderer(camera=PerspectiveCamera(children=(DirectionalLight(color='white', intensity=0.6, position=(71.248199…"
      ]
     },
     "metadata": {},
     "output_type": "display_data"
    },
    {
     "data": {
      "application/vnd.jupyter.widget-view+json": {
       "model_id": "d8aa0e01f9b8448ab59de05393c0cf09",
       "version_major": 2,
       "version_minor": 0
      },
      "text/plain": [
       "Renderer(camera=PerspectiveCamera(children=(DirectionalLight(color='white', intensity=0.6, position=(71.248199…"
      ]
     },
     "metadata": {},
     "output_type": "display_data"
    },
    {
     "data": {
      "image/png": "[encoded data removed]",
      "text/plain": [
       "<Figure size 432x288 with 1 Axes>"
      ]
     },
     "metadata": {
      "needs_background": "light"
     },
     "output_type": "display_data"
    },
    {
     "data": {
      "application/vnd.jupyter.widget-view+json": {
       "model_id": "11983f9b30d747e99ea2d8d0e59a3323",
       "version_major": 2,
       "version_minor": 0
      },
      "text/plain": [
       "Renderer(camera=PerspectiveCamera(children=(DirectionalLight(color='white', intensity=0.6, position=(71.121559…"
      ]
     },
     "metadata": {},
     "output_type": "display_data"
    },
    {
     "name": "stdout",
     "output_type": "stream",
     "text": [
      "<meshplot.Viewer.Viewer object at 0x7fde193b2f90>\n",
      "Base layer: max dihedral angle before smoothing is  0.46 radians ( 26.36 degrees).\n"
     ]
    },
    {
     "data": {
      "application/vnd.jupyter.widget-view+json": {
       "model_id": "895840f4f6f34723872f98eb4c495464",
       "version_major": 2,
       "version_minor": 0
      },
      "text/plain": [
       "Renderer(camera=PerspectiveCamera(children=(DirectionalLight(color='white', intensity=0.6, position=(71.121559…"
      ]
     },
     "metadata": {},
     "output_type": "display_data"
    },
    {
     "name": "stdout",
     "output_type": "stream",
     "text": [
      "Base layer: max dihedral angle after smoothing is  0.49 radians ( 28.07 degrees).\n"
     ]
    },
    {
     "data": {
      "application/vnd.jupyter.widget-view+json": {
       "model_id": "c8a63656ccf8479382ea05cc04f1adc4",
       "version_major": 2,
       "version_minor": 0
      },
      "text/plain": [
       "Renderer(camera=PerspectiveCamera(children=(DirectionalLight(color='white', intensity=0.6, position=(71.121559…"
      ]
     },
     "metadata": {},
     "output_type": "display_data"
    },
    {
     "name": "stdout",
     "output_type": "stream",
     "text": [
      "Quality control results for the base layer: \n",
      "\n",
      "Everything is clean in the base layer. we will now continue to extrusion step:\n",
      "\n",
      "Extruded layer: max dihedral angle before smoothing is  0.67 radians ( 38.39 degrees).\n"
     ]
    },
    {
     "data": {
      "application/vnd.jupyter.widget-view+json": {
       "model_id": "4c08c4fd381a4faa916d52ca333fd114",
       "version_major": 2,
       "version_minor": 0
      },
      "text/plain": [
       "Renderer(camera=PerspectiveCamera(children=(DirectionalLight(color='white', intensity=0.6, position=(70.884693…"
      ]
     },
     "metadata": {},
     "output_type": "display_data"
    },
    {
     "name": "stdout",
     "output_type": "stream",
     "text": [
      "Extruded layer: max dihedral angle after smoothing is 2.69 radians ( 154.13 degrees).\n"
     ]
    },
    {
     "data": {
      "application/vnd.jupyter.widget-view+json": {
       "model_id": "2648d41e65c74f11a422c14bed09eb27",
       "version_major": 2,
       "version_minor": 0
      },
      "text/plain": [
       "Renderer(camera=PerspectiveCamera(children=(DirectionalLight(color='white', intensity=0.6, position=(70.884693…"
      ]
     },
     "metadata": {},
     "output_type": "display_data"
    },
    {
     "name": "stdout",
     "output_type": "stream",
     "text": [
      "Quality control results  for the extruded layer: \n",
      "\n",
      "- There are issues with these vertex indices [87, 88]\n",
      "- Solution 1: To prevent this issue, decrease your 'param.smoothing_iteration' to  4\n",
      "- Solution 2: By default the faulty triangles will be removed from the face index list \n",
      "faulty vertices & neighbouring triangles:\n"
     ]
    },
    {
     "data": {
      "application/vnd.jupyter.widget-view+json": {
       "model_id": "64b60c7dfff744d7afcf8306c663d25d",
       "version_major": 2,
       "version_minor": 0
      },
      "text/plain": [
       "Renderer(camera=PerspectiveCamera(children=(DirectionalLight(color='white', intensity=0.6, position=(70.884693…"
      ]
     },
     "metadata": {},
     "output_type": "display_data"
    },
    {
     "name": "stdout",
     "output_type": "stream",
     "text": [
      "The pink triangles will be removed:\n",
      "No.........................\n"
     ]
    },
    {
     "data": {
      "application/vnd.jupyter.widget-view+json": {
       "model_id": "3a1bfce111f8461293a7217af09d46ee",
       "version_major": 2,
       "version_minor": 0
      },
      "text/plain": [
       "Renderer(camera=PerspectiveCamera(children=(DirectionalLight(color='white', intensity=0.6, position=(70.884693…"
      ]
     },
     "metadata": {},
     "output_type": "display_data"
    },
    {
     "name": "stdout",
     "output_type": "stream",
     "text": [
      "normal visualization of the fixed result:\n"
     ]
    },
    {
     "data": {
      "application/vnd.jupyter.widget-view+json": {
       "model_id": "0ca088aad6104e459ba3527f07ade4c9",
       "version_major": 2,
       "version_minor": 0
      },
      "text/plain": [
       "Renderer(camera=PerspectiveCamera(children=(DirectionalLight(color='white', intensity=0.6, position=(70.884693…"
      ]
     },
     "metadata": {},
     "output_type": "display_data"
    },
    {
     "data": {
      "application/vnd.jupyter.widget-view+json": {
       "model_id": "8e9dfcffed464813870c3e78e934f721",
       "version_major": 2,
       "version_minor": 0
      },
      "text/plain": [
       "Renderer(camera=PerspectiveCamera(children=(DirectionalLight(color='white', intensity=0.6, position=(71.121559…"
      ]
     },
     "metadata": {},
     "output_type": "display_data"
    },
    {
     "data": {
      "application/vnd.jupyter.widget-view+json": {
       "model_id": "1b8a15dcbd5346af819437e50497fc18",
       "version_major": 2,
       "version_minor": 0
      },
      "text/plain": [
       "Renderer(camera=PerspectiveCamera(children=(DirectionalLight(color='white', intensity=0.6, position=(70.884693…"
      ]
     },
     "metadata": {},
     "output_type": "display_data"
    },
    {
     "data": {
      "application/vnd.jupyter.widget-view+json": {
       "model_id": "4f5e4e6be36247c3befb1cac09944552",
       "version_major": 2,
       "version_minor": 0
      },
      "text/plain": [
       "Renderer(camera=PerspectiveCamera(children=(DirectionalLight(color='white', intensity=0.6, position=(70.848060…"
      ]
     },
     "metadata": {},
     "output_type": "display_data"
    },
    {
     "data": {
      "application/vnd.jupyter.widget-view+json": {
       "model_id": "cec536e7d4514d87ae7404b37e6d22fc",
       "version_major": 2,
       "version_minor": 0
      },
      "text/plain": [
       "Renderer(camera=PerspectiveCamera(children=(DirectionalLight(color='white', intensity=0.6, position=(71.121559…"
      ]
     },
     "metadata": {},
     "output_type": "display_data"
    },
    {
     "name": "stdout",
     "output_type": "stream",
     "text": [
      "pdl base area is:  168.5\n",
      "mean pdl thickness is:  0.2\n",
      "maximum pdl thickness is:  0.21\n",
      "PDL generation time (s):  11.63\n",
      "generating PDL top for Tooth_13\n",
      "number of triangles after cleaning 11568\n"
     ]
    },
    {
     "data": {
      "application/vnd.jupyter.widget-view+json": {
       "model_id": "2f5dc0a25f5b4e96baadfc6b690f055f",
       "version_major": 2,
       "version_minor": 0
      },
      "text/plain": [
       "Renderer(camera=PerspectiveCamera(children=(DirectionalLight(color='white', intensity=0.6, position=(73.946147…"
      ]
     },
     "metadata": {},
     "output_type": "display_data"
    },
    {
     "data": {
      "application/vnd.jupyter.widget-view+json": {
       "model_id": "b5de312bb24d4c2ea2f2f32d82ed0ded",
       "version_major": 2,
       "version_minor": 0
      },
      "text/plain": [
       "Renderer(camera=PerspectiveCamera(children=(DirectionalLight(color='white', intensity=0.6, position=(73.946147…"
      ]
     },
     "metadata": {},
     "output_type": "display_data"
    },
    {
     "data": {
      "image/png": "[encoded data removed]",
      "text/plain": [
       "<Figure size 432x288 with 1 Axes>"
      ]
     },
     "metadata": {
      "needs_background": "light"
     },
     "output_type": "display_data"
    },
    {
     "data": {
      "application/vnd.jupyter.widget-view+json": {
       "model_id": "958c40cbeb414018b249125adfff8ed9",
       "version_major": 2,
       "version_minor": 0
      },
      "text/plain": [
       "Renderer(camera=PerspectiveCamera(children=(DirectionalLight(color='white', intensity=0.6, position=(74.005764…"
      ]
     },
     "metadata": {},
     "output_type": "display_data"
    },
    {
     "name": "stdout",
     "output_type": "stream",
     "text": [
      "<meshplot.Viewer.Viewer object at 0x7fde188fa8d0>\n",
      "Base layer: max dihedral angle before smoothing is  0.45 radians ( 25.78 degrees).\n"
     ]
    },
    {
     "data": {
      "application/vnd.jupyter.widget-view+json": {
       "model_id": "2570b155edef4b979297dfae717459fd",
       "version_major": 2,
       "version_minor": 0
      },
      "text/plain": [
       "Renderer(camera=PerspectiveCamera(children=(DirectionalLight(color='white', intensity=0.6, position=(74.005764…"
      ]
     },
     "metadata": {},
     "output_type": "display_data"
    },
    {
     "name": "stdout",
     "output_type": "stream",
     "text": [
      "Base layer: max dihedral angle after smoothing is  2.7 radians ( 154.7 degrees).\n"
     ]
    },
    {
     "data": {
      "application/vnd.jupyter.widget-view+json": {
       "model_id": "8654048cd1e1426ca8f6a9a5b078f05c",
       "version_major": 2,
       "version_minor": 0
      },
      "text/plain": [
       "Renderer(camera=PerspectiveCamera(children=(DirectionalLight(color='white', intensity=0.6, position=(74.005764…"
      ]
     },
     "metadata": {},
     "output_type": "display_data"
    },
    {
     "name": "stdout",
     "output_type": "stream",
     "text": [
      "Quality control results for the base layer: \n",
      "\n",
      "- There are issues with these vertex indices [59, 60, 61]\n",
      "- Solution 1: To prevent this issue, decrease your 'param.smoothing_iteration' to  13\n",
      "- Solution 2: By default the faulty triangles will be removed from the face index list \n",
      "\n",
      "faulty vertices & neighbouring triangles:\n"
     ]
    },
    {
     "data": {
      "application/vnd.jupyter.widget-view+json": {
       "model_id": "0dae1f8571134017b7a49a42c627625e",
       "version_major": 2,
       "version_minor": 0
      },
      "text/plain": [
       "Renderer(camera=PerspectiveCamera(children=(DirectionalLight(color='white', intensity=0.6, position=(74.005764…"
      ]
     },
     "metadata": {},
     "output_type": "display_data"
    },
    {
     "name": "stdout",
     "output_type": "stream",
     "text": [
      "The pink triangles will be removed:\n",
      "No.........................\n"
     ]
    },
    {
     "data": {
      "application/vnd.jupyter.widget-view+json": {
       "model_id": "29e579039b0641cd9e8bddacb83473ce",
       "version_major": 2,
       "version_minor": 0
      },
      "text/plain": [
       "Renderer(camera=PerspectiveCamera(children=(DirectionalLight(color='white', intensity=0.6, position=(74.005764…"
      ]
     },
     "metadata": {},
     "output_type": "display_data"
    },
    {
     "name": "stdout",
     "output_type": "stream",
     "text": [
      "normal visualization of the fixed result:\n"
     ]
    },
    {
     "data": {
      "application/vnd.jupyter.widget-view+json": {
       "model_id": "e6e53ae469794e6e8a7bd656d9a1ea8e",
       "version_major": 2,
       "version_minor": 0
      },
      "text/plain": [
       "Renderer(camera=PerspectiveCamera(children=(DirectionalLight(color='white', intensity=0.6, position=(74.005764…"
      ]
     },
     "metadata": {},
     "output_type": "display_data"
    },
    {
     "name": "stdout",
     "output_type": "stream",
     "text": [
      "Extruded layer: max dihedral angle before smoothing is  3.12 radians ( 178.76 degrees).\n"
     ]
    },
    {
     "data": {
      "application/vnd.jupyter.widget-view+json": {
       "model_id": "7fd302aaba22401694d3a773830e56a5",
       "version_major": 2,
       "version_minor": 0
      },
      "text/plain": [
       "Renderer(camera=PerspectiveCamera(children=(DirectionalLight(color='white', intensity=0.6, position=(73.428668…"
      ]
     },
     "metadata": {},
     "output_type": "display_data"
    },
    {
     "name": "stdout",
     "output_type": "stream",
     "text": [
      "Extruded layer: max dihedral angle after smoothing is 3.12 radians ( 178.76 degrees).\n"
     ]
    },
    {
     "data": {
      "application/vnd.jupyter.widget-view+json": {
       "model_id": "2fe55e0727a14b13bfa73d75db15e4be",
       "version_major": 2,
       "version_minor": 0
      },
      "text/plain": [
       "Renderer(camera=PerspectiveCamera(children=(DirectionalLight(color='white', intensity=0.6, position=(73.428668…"
      ]
     },
     "metadata": {},
     "output_type": "display_data"
    },
    {
     "name": "stdout",
     "output_type": "stream",
     "text": [
      "Quality control results  for the extruded layer: \n",
      "\n",
      "- There are issues with these vertex indices [59, 60, 61]\n",
      "- Solution 1: To prevent this issue, decrease your 'param.smoothing_iteration' to  -1\n",
      "- Solution 2: By default the faulty triangles will be removed from the face index list \n",
      "faulty vertices & neighbouring triangles:\n"
     ]
    },
    {
     "data": {
      "application/vnd.jupyter.widget-view+json": {
       "model_id": "c209dfa4a4fd43149680a552c4dd1f59",
       "version_major": 2,
       "version_minor": 0
      },
      "text/plain": [
       "Renderer(camera=PerspectiveCamera(children=(DirectionalLight(color='white', intensity=0.6, position=(73.428668…"
      ]
     },
     "metadata": {},
     "output_type": "display_data"
    },
    {
     "name": "stdout",
     "output_type": "stream",
     "text": [
      "The pink triangles will be removed:\n",
      "No.........................\n"
     ]
    },
    {
     "data": {
      "application/vnd.jupyter.widget-view+json": {
       "model_id": "b663a7f3707342f08b7d1722b1fac73f",
       "version_major": 2,
       "version_minor": 0
      },
      "text/plain": [
       "Renderer(camera=PerspectiveCamera(children=(DirectionalLight(color='white', intensity=0.6, position=(73.428668…"
      ]
     },
     "metadata": {},
     "output_type": "display_data"
    },
    {
     "name": "stdout",
     "output_type": "stream",
     "text": [
      "normal visualization of the fixed result:\n"
     ]
    },
    {
     "data": {
      "application/vnd.jupyter.widget-view+json": {
       "model_id": "2357ab2931154b4baeaec65d837a0809",
       "version_major": 2,
       "version_minor": 0
      },
      "text/plain": [
       "Renderer(camera=PerspectiveCamera(children=(DirectionalLight(color='white', intensity=0.6, position=(73.428668…"
      ]
     },
     "metadata": {},
     "output_type": "display_data"
    },
    {
     "data": {
      "application/vnd.jupyter.widget-view+json": {
       "model_id": "9f464ecd0cd549a7a548d4252532d6b0",
       "version_major": 2,
       "version_minor": 0
      },
      "text/plain": [
       "Renderer(camera=PerspectiveCamera(children=(DirectionalLight(color='white', intensity=0.6, position=(74.005764…"
      ]
     },
     "metadata": {},
     "output_type": "display_data"
    },
    {
     "data": {
      "application/vnd.jupyter.widget-view+json": {
       "model_id": "1543a1aa01bb4ec893c691991596011f",
       "version_major": 2,
       "version_minor": 0
      },
      "text/plain": [
       "Renderer(camera=PerspectiveCamera(children=(DirectionalLight(color='white', intensity=0.6, position=(73.428668…"
      ]
     },
     "metadata": {},
     "output_type": "display_data"
    },
    {
     "data": {
      "application/vnd.jupyter.widget-view+json": {
       "model_id": "aed1280a206b4d40a0677e234b7f0469",
       "version_major": 2,
       "version_minor": 0
      },
      "text/plain": [
       "Renderer(camera=PerspectiveCamera(children=(DirectionalLight(color='white', intensity=0.6, position=(73.541934…"
      ]
     },
     "metadata": {},
     "output_type": "display_data"
    },
    {
     "data": {
      "application/vnd.jupyter.widget-view+json": {
       "model_id": "5d4a6bbd778440698ce2531015e40bee",
       "version_major": 2,
       "version_minor": 0
      },
      "text/plain": [
       "Renderer(camera=PerspectiveCamera(children=(DirectionalLight(color='white', intensity=0.6, position=(74.005764…"
      ]
     },
     "metadata": {},
     "output_type": "display_data"
    },
    {
     "name": "stdout",
     "output_type": "stream",
     "text": [
      "pdl base area is:  159.42\n",
      "mean pdl thickness is:  0.2\n",
      "maximum pdl thickness is:  0.21\n",
      "PDL generation time (s):  12.41\n",
      "generating PDL top for Tooth_14\n",
      "number of triangles after cleaning 16730\n"
     ]
    },
    {
     "data": {
      "application/vnd.jupyter.widget-view+json": {
       "model_id": "98402a8fe8a84ed3aeda8ecbc73eb667",
       "version_major": 2,
       "version_minor": 0
      },
      "text/plain": [
       "Renderer(camera=PerspectiveCamera(children=(DirectionalLight(color='white', intensity=0.6, position=(74.972949…"
      ]
     },
     "metadata": {},
     "output_type": "display_data"
    },
    {
     "data": {
      "application/vnd.jupyter.widget-view+json": {
       "model_id": "1a15b9863659432fa8a66f2925bf371c",
       "version_major": 2,
       "version_minor": 0
      },
      "text/plain": [
       "Renderer(camera=PerspectiveCamera(children=(DirectionalLight(color='white', intensity=0.6, position=(74.972949…"
      ]
     },
     "metadata": {},
     "output_type": "display_data"
    },
    {
     "data": {
      "image/png": "[encoded data removed]",
      "text/plain": [
       "<Figure size 432x288 with 1 Axes>"
      ]
     },
     "metadata": {
      "needs_background": "light"
     },
     "output_type": "display_data"
    },
    {
     "data": {
      "application/vnd.jupyter.widget-view+json": {
       "model_id": "ff0299f4f7234c159c60be9d2d5a36ff",
       "version_major": 2,
       "version_minor": 0
      },
      "text/plain": [
       "Renderer(camera=PerspectiveCamera(children=(DirectionalLight(color='white', intensity=0.6, position=(75.025032…"
      ]
     },
     "metadata": {},
     "output_type": "display_data"
    },
    {
     "name": "stdout",
     "output_type": "stream",
     "text": [
      "<meshplot.Viewer.Viewer object at 0x7fde17b9d7d0>\n",
      "Base layer: max dihedral angle before smoothing is  0.36 radians ( 20.63 degrees).\n"
     ]
    },
    {
     "data": {
      "application/vnd.jupyter.widget-view+json": {
       "model_id": "a923e552a3e146f19f86014740e53618",
       "version_major": 2,
       "version_minor": 0
      },
      "text/plain": [
       "Renderer(camera=PerspectiveCamera(children=(DirectionalLight(color='white', intensity=0.6, position=(75.025032…"
      ]
     },
     "metadata": {},
     "output_type": "display_data"
    },
    {
     "name": "stdout",
     "output_type": "stream",
     "text": [
      "Base layer: max dihedral angle after smoothing is  3.14 radians ( 179.91 degrees).\n"
     ]
    },
    {
     "data": {
      "application/vnd.jupyter.widget-view+json": {
       "model_id": "a98cc4c1adc54ab98d46699df13713e1",
       "version_major": 2,
       "version_minor": 0
      },
      "text/plain": [
       "Renderer(camera=PerspectiveCamera(children=(DirectionalLight(color='white', intensity=0.6, position=(75.025032…"
      ]
     },
     "metadata": {},
     "output_type": "display_data"
    },
    {
     "name": "stdout",
     "output_type": "stream",
     "text": [
      "Quality control results for the base layer: \n",
      "\n",
      "- There are issues with these vertex indices [91, 92, 93, 106, 107, 109, 110, 111]\n",
      "- Solution 1: To prevent this issue, decrease your 'param.smoothing_iteration' to  4\n",
      "- Solution 2: By default the faulty triangles will be removed from the face index list \n",
      "\n",
      "faulty vertices & neighbouring triangles:\n"
     ]
    },
    {
     "data": {
      "application/vnd.jupyter.widget-view+json": {
       "model_id": "e690bd413ba14b4ba1d7c35b2fdec9a5",
       "version_major": 2,
       "version_minor": 0
      },
      "text/plain": [
       "Renderer(camera=PerspectiveCamera(children=(DirectionalLight(color='white', intensity=0.6, position=(75.025032…"
      ]
     },
     "metadata": {},
     "output_type": "display_data"
    },
    {
     "name": "stdout",
     "output_type": "stream",
     "text": [
      "The pink triangles will be removed:\n",
      "No.........................\n"
     ]
    },
    {
     "data": {
      "application/vnd.jupyter.widget-view+json": {
       "model_id": "4c24dee50ca7442da0fc503a1713ba5b",
       "version_major": 2,
       "version_minor": 0
      },
      "text/plain": [
       "Renderer(camera=PerspectiveCamera(children=(DirectionalLight(color='white', intensity=0.6, position=(75.025032…"
      ]
     },
     "metadata": {},
     "output_type": "display_data"
    },
    {
     "name": "stdout",
     "output_type": "stream",
     "text": [
      "normal visualization of the fixed result:\n"
     ]
    },
    {
     "data": {
      "application/vnd.jupyter.widget-view+json": {
       "model_id": "6a70a716f9b5430cb2571c3a2da1e52e",
       "version_major": 2,
       "version_minor": 0
      },
      "text/plain": [
       "Renderer(camera=PerspectiveCamera(children=(DirectionalLight(color='white', intensity=0.6, position=(75.025032…"
      ]
     },
     "metadata": {},
     "output_type": "display_data"
    },
    {
     "name": "stdout",
     "output_type": "stream",
     "text": [
      "Extruded layer: max dihedral angle before smoothing is  3.13 radians ( 179.34 degrees).\n"
     ]
    },
    {
     "data": {
      "application/vnd.jupyter.widget-view+json": {
       "model_id": "c348014a7d014755affce5ece24f92ef",
       "version_major": 2,
       "version_minor": 0
      },
      "text/plain": [
       "Renderer(camera=PerspectiveCamera(children=(DirectionalLight(color='white', intensity=0.6, position=(74.395317…"
      ]
     },
     "metadata": {},
     "output_type": "display_data"
    },
    {
     "name": "stdout",
     "output_type": "stream",
     "text": [
      "Extruded layer: max dihedral angle after smoothing is 3.14 radians ( 179.91 degrees).\n"
     ]
    },
    {
     "data": {
      "application/vnd.jupyter.widget-view+json": {
       "model_id": "180970a4aaca47849e2a58f1b95e6a19",
       "version_major": 2,
       "version_minor": 0
      },
      "text/plain": [
       "Renderer(camera=PerspectiveCamera(children=(DirectionalLight(color='white', intensity=0.6, position=(74.395317…"
      ]
     },
     "metadata": {},
     "output_type": "display_data"
    },
    {
     "name": "stdout",
     "output_type": "stream",
     "text": [
      "Quality control results  for the extruded layer: \n",
      "\n",
      "- There are issues with these vertex indices [63, 64, 65, 88, 89, 91, 93, 94, 106, 107, 109, 110, 111]\n",
      "- Solution 1: To prevent this issue, decrease your 'param.smoothing_iteration' to  -1\n",
      "- Solution 2: By default the faulty triangles will be removed from the face index list \n",
      "faulty vertices & neighbouring triangles:\n"
     ]
    },
    {
     "data": {
      "application/vnd.jupyter.widget-view+json": {
       "model_id": "e045ee050b10472fa039719fd2801aac",
       "version_major": 2,
       "version_minor": 0
      },
      "text/plain": [
       "Renderer(camera=PerspectiveCamera(children=(DirectionalLight(color='white', intensity=0.6, position=(74.395317…"
      ]
     },
     "metadata": {},
     "output_type": "display_data"
    },
    {
     "name": "stdout",
     "output_type": "stream",
     "text": [
      "The pink triangles will be removed:\n",
      "No.........................\n"
     ]
    },
    {
     "data": {
      "application/vnd.jupyter.widget-view+json": {
       "model_id": "47c939de127d4693b4689e6ef7f27e2f",
       "version_major": 2,
       "version_minor": 0
      },
      "text/plain": [
       "Renderer(camera=PerspectiveCamera(children=(DirectionalLight(color='white', intensity=0.6, position=(74.395317…"
      ]
     },
     "metadata": {},
     "output_type": "display_data"
    },
    {
     "name": "stdout",
     "output_type": "stream",
     "text": [
      "normal visualization of the fixed result:\n"
     ]
    },
    {
     "data": {
      "application/vnd.jupyter.widget-view+json": {
       "model_id": "6e377c3c38d44d8393ccfb255a82b52a",
       "version_major": 2,
       "version_minor": 0
      },
      "text/plain": [
       "Renderer(camera=PerspectiveCamera(children=(DirectionalLight(color='white', intensity=0.6, position=(74.395317…"
      ]
     },
     "metadata": {},
     "output_type": "display_data"
    },
    {
     "data": {
      "application/vnd.jupyter.widget-view+json": {
       "model_id": "66ca550cb59f4478844d277d0f1f43de",
       "version_major": 2,
       "version_minor": 0
      },
      "text/plain": [
       "Renderer(camera=PerspectiveCamera(children=(DirectionalLight(color='white', intensity=0.6, position=(75.025032…"
      ]
     },
     "metadata": {},
     "output_type": "display_data"
    },
    {
     "data": {
      "application/vnd.jupyter.widget-view+json": {
       "model_id": "5f62113c62aa42d4a4b5f6e4293b651b",
       "version_major": 2,
       "version_minor": 0
      },
      "text/plain": [
       "Renderer(camera=PerspectiveCamera(children=(DirectionalLight(color='white', intensity=0.6, position=(74.395317…"
      ]
     },
     "metadata": {},
     "output_type": "display_data"
    },
    {
     "data": {
      "application/vnd.jupyter.widget-view+json": {
       "model_id": "c531ddccb66f4d0e926e2843f1ea278b",
       "version_major": 2,
       "version_minor": 0
      },
      "text/plain": [
       "Renderer(camera=PerspectiveCamera(children=(DirectionalLight(color='white', intensity=0.6, position=(74.645706…"
      ]
     },
     "metadata": {},
     "output_type": "display_data"
    },
    {
     "data": {
      "application/vnd.jupyter.widget-view+json": {
       "model_id": "98392c75894845d09c0498b03189b059",
       "version_major": 2,
       "version_minor": 0
      },
      "text/plain": [
       "Renderer(camera=PerspectiveCamera(children=(DirectionalLight(color='white', intensity=0.6, position=(75.025032…"
      ]
     },
     "metadata": {},
     "output_type": "display_data"
    },
    {
     "name": "stdout",
     "output_type": "stream",
     "text": [
      "pdl base area is:  224.14\n",
      "mean pdl thickness is:  0.2\n",
      "maximum pdl thickness is:  0.28\n",
      "PDL generation time (s):  13.75\n",
      "generating PDL top for Tooth_15\n",
      "number of triangles after cleaning 17120\n"
     ]
    },
    {
     "data": {
      "application/vnd.jupyter.widget-view+json": {
       "model_id": "97e35ba4ac854db2ba6fbfff715d742f",
       "version_major": 2,
       "version_minor": 0
      },
      "text/plain": [
       "Renderer(camera=PerspectiveCamera(children=(DirectionalLight(color='white', intensity=0.6, position=(76.156349…"
      ]
     },
     "metadata": {},
     "output_type": "display_data"
    },
    {
     "data": {
      "application/vnd.jupyter.widget-view+json": {
       "model_id": "2dec3f6981ce4d3d940a6781d7d10694",
       "version_major": 2,
       "version_minor": 0
      },
      "text/plain": [
       "Renderer(camera=PerspectiveCamera(children=(DirectionalLight(color='white', intensity=0.6, position=(76.156349…"
      ]
     },
     "metadata": {},
     "output_type": "display_data"
    },
    {
     "data": {
      "image/png": "[encoded data removed]",
      "text/plain": [
       "<Figure size 432x288 with 1 Axes>"
      ]
     },
     "metadata": {
      "needs_background": "light"
     },
     "output_type": "display_data"
    },
    {
     "data": {
      "application/vnd.jupyter.widget-view+json": {
       "model_id": "4ea57f2b18dc45558426301279a82833",
       "version_major": 2,
       "version_minor": 0
      },
      "text/plain": [
       "Renderer(camera=PerspectiveCamera(children=(DirectionalLight(color='white', intensity=0.6, position=(75.790729…"
      ]
     },
     "metadata": {},
     "output_type": "display_data"
    },
    {
     "name": "stdout",
     "output_type": "stream",
     "text": [
      "<meshplot.Viewer.Viewer object at 0x7fde1771f590>\n",
      "Base layer: max dihedral angle before smoothing is  0.44 radians ( 25.21 degrees).\n"
     ]
    },
    {
     "data": {
      "application/vnd.jupyter.widget-view+json": {
       "model_id": "f3996cac6c8943a48e7db307aa2b613e",
       "version_major": 2,
       "version_minor": 0
      },
      "text/plain": [
       "Renderer(camera=PerspectiveCamera(children=(DirectionalLight(color='white', intensity=0.6, position=(75.790729…"
      ]
     },
     "metadata": {},
     "output_type": "display_data"
    },
    {
     "name": "stdout",
     "output_type": "stream",
     "text": [
      "Base layer: max dihedral angle after smoothing is  3.14 radians ( 179.91 degrees).\n"
     ]
    },
    {
     "data": {
      "application/vnd.jupyter.widget-view+json": {
       "model_id": "7c98a575d9de4fc18e2113b1f777511c",
       "version_major": 2,
       "version_minor": 0
      },
      "text/plain": [
       "Renderer(camera=PerspectiveCamera(children=(DirectionalLight(color='white', intensity=0.6, position=(75.790729…"
      ]
     },
     "metadata": {},
     "output_type": "display_data"
    },
    {
     "name": "stdout",
     "output_type": "stream",
     "text": [
      "Quality control results for the base layer: \n",
      "\n",
      "- There are issues with these vertex indices [92, 93, 94, 95, 96]\n",
      "- Solution 1: To prevent this issue, decrease your 'param.smoothing_iteration' to  8\n",
      "- Solution 2: By default the faulty triangles will be removed from the face index list \n",
      "\n",
      "faulty vertices & neighbouring triangles:\n"
     ]
    },
    {
     "data": {
      "application/vnd.jupyter.widget-view+json": {
       "model_id": "5893ad038432454e80b97ae6ed515bc9",
       "version_major": 2,
       "version_minor": 0
      },
      "text/plain": [
       "Renderer(camera=PerspectiveCamera(children=(DirectionalLight(color='white', intensity=0.6, position=(75.790729…"
      ]
     },
     "metadata": {},
     "output_type": "display_data"
    },
    {
     "name": "stdout",
     "output_type": "stream",
     "text": [
      "The pink triangles will be removed:\n",
      "No.........................\n"
     ]
    },
    {
     "data": {
      "application/vnd.jupyter.widget-view+json": {
       "model_id": "3032f5d001c04e21b2b4400b89764f6e",
       "version_major": 2,
       "version_minor": 0
      },
      "text/plain": [
       "Renderer(camera=PerspectiveCamera(children=(DirectionalLight(color='white', intensity=0.6, position=(75.790729…"
      ]
     },
     "metadata": {},
     "output_type": "display_data"
    },
    {
     "name": "stdout",
     "output_type": "stream",
     "text": [
      "normal visualization of the fixed result:\n"
     ]
    },
    {
     "data": {
      "application/vnd.jupyter.widget-view+json": {
       "model_id": "daac299673314008972f3e5df207fd9a",
       "version_major": 2,
       "version_minor": 0
      },
      "text/plain": [
       "Renderer(camera=PerspectiveCamera(children=(DirectionalLight(color='white', intensity=0.6, position=(75.790729…"
      ]
     },
     "metadata": {},
     "output_type": "display_data"
    },
    {
     "name": "stdout",
     "output_type": "stream",
     "text": [
      "Extruded layer: max dihedral angle before smoothing is  3.11 radians ( 178.19 degrees).\n"
     ]
    },
    {
     "data": {
      "application/vnd.jupyter.widget-view+json": {
       "model_id": "42f49a736a764fd9b1f63585e563b0e1",
       "version_major": 2,
       "version_minor": 0
      },
      "text/plain": [
       "Renderer(camera=PerspectiveCamera(children=(DirectionalLight(color='white', intensity=0.6, position=(75.235855…"
      ]
     },
     "metadata": {},
     "output_type": "display_data"
    },
    {
     "name": "stdout",
     "output_type": "stream",
     "text": [
      "Extruded layer: max dihedral angle after smoothing is 3.12 radians ( 178.76 degrees).\n"
     ]
    },
    {
     "data": {
      "application/vnd.jupyter.widget-view+json": {
       "model_id": "6129d5f2a6b74d2db89a49cc6aa9b3f2",
       "version_major": 2,
       "version_minor": 0
      },
      "text/plain": [
       "Renderer(camera=PerspectiveCamera(children=(DirectionalLight(color='white', intensity=0.6, position=(75.235855…"
      ]
     },
     "metadata": {},
     "output_type": "display_data"
    },
    {
     "name": "stdout",
     "output_type": "stream",
     "text": [
      "Quality control results  for the extruded layer: \n",
      "\n",
      "- There are issues with these vertex indices [93, 94, 95, 96]\n",
      "- Solution 1: To prevent this issue, decrease your 'param.smoothing_iteration' to  -1\n",
      "- Solution 2: By default the faulty triangles will be removed from the face index list \n",
      "faulty vertices & neighbouring triangles:\n"
     ]
    },
    {
     "data": {
      "application/vnd.jupyter.widget-view+json": {
       "model_id": "7e28d41412544d4e9805676bcecc4817",
       "version_major": 2,
       "version_minor": 0
      },
      "text/plain": [
       "Renderer(camera=PerspectiveCamera(children=(DirectionalLight(color='white', intensity=0.6, position=(75.235855…"
      ]
     },
     "metadata": {},
     "output_type": "display_data"
    },
    {
     "name": "stdout",
     "output_type": "stream",
     "text": [
      "The pink triangles will be removed:\n",
      "No.........................\n"
     ]
    },
    {
     "data": {
      "application/vnd.jupyter.widget-view+json": {
       "model_id": "c22138cceeef4e60ad81a069afa0df1d",
       "version_major": 2,
       "version_minor": 0
      },
      "text/plain": [
       "Renderer(camera=PerspectiveCamera(children=(DirectionalLight(color='white', intensity=0.6, position=(75.235855…"
      ]
     },
     "metadata": {},
     "output_type": "display_data"
    },
    {
     "name": "stdout",
     "output_type": "stream",
     "text": [
      "normal visualization of the fixed result:\n"
     ]
    },
    {
     "data": {
      "application/vnd.jupyter.widget-view+json": {
       "model_id": "522e490204934f43b9fe549f005a39b5",
       "version_major": 2,
       "version_minor": 0
      },
      "text/plain": [
       "Renderer(camera=PerspectiveCamera(children=(DirectionalLight(color='white', intensity=0.6, position=(75.235855…"
      ]
     },
     "metadata": {},
     "output_type": "display_data"
    },
    {
     "data": {
      "application/vnd.jupyter.widget-view+json": {
       "model_id": "c1b5ace3e45a4af7bcad20dad5fcd0f7",
       "version_major": 2,
       "version_minor": 0
      },
      "text/plain": [
       "Renderer(camera=PerspectiveCamera(children=(DirectionalLight(color='white', intensity=0.6, position=(75.790729…"
      ]
     },
     "metadata": {},
     "output_type": "display_data"
    },
    {
     "data": {
      "application/vnd.jupyter.widget-view+json": {
       "model_id": "8a79c47eb25a47d487be72787c0ed14a",
       "version_major": 2,
       "version_minor": 0
      },
      "text/plain": [
       "Renderer(camera=PerspectiveCamera(children=(DirectionalLight(color='white', intensity=0.6, position=(75.235855…"
      ]
     },
     "metadata": {},
     "output_type": "display_data"
    },
    {
     "data": {
      "application/vnd.jupyter.widget-view+json": {
       "model_id": "a29aaa5fa62d4736bb099a1f87bc2a09",
       "version_major": 2,
       "version_minor": 0
      },
      "text/plain": [
       "Renderer(camera=PerspectiveCamera(children=(DirectionalLight(color='white', intensity=0.6, position=(75.533451…"
      ]
     },
     "metadata": {},
     "output_type": "display_data"
    },
    {
     "data": {
      "application/vnd.jupyter.widget-view+json": {
       "model_id": "2dab5d608e774e58bb3cb9bfe7dc2199",
       "version_major": 2,
       "version_minor": 0
      },
      "text/plain": [
       "Renderer(camera=PerspectiveCamera(children=(DirectionalLight(color='white', intensity=0.6, position=(75.790729…"
      ]
     },
     "metadata": {},
     "output_type": "display_data"
    },
    {
     "name": "stdout",
     "output_type": "stream",
     "text": [
      "pdl base area is:  191.04\n",
      "mean pdl thickness is:  0.2\n",
      "maximum pdl thickness is:  0.22\n",
      "PDL generation time (s):  17.47\n",
      "generating PDL top for Tooth_2\n",
      "number of triangles after cleaning 15572\n"
     ]
    },
    {
     "data": {
      "application/vnd.jupyter.widget-view+json": {
       "model_id": "0dd14c8b19184acea009a47d9770ec6f",
       "version_major": 2,
       "version_minor": 0
      },
      "text/plain": [
       "Renderer(camera=PerspectiveCamera(children=(DirectionalLight(color='white', intensity=0.6, position=(31.582850…"
      ]
     },
     "metadata": {},
     "output_type": "display_data"
    },
    {
     "data": {
      "application/vnd.jupyter.widget-view+json": {
       "model_id": "7e0dbbd363dd4592b07b2645f50f2905",
       "version_major": 2,
       "version_minor": 0
      },
      "text/plain": [
       "Renderer(camera=PerspectiveCamera(children=(DirectionalLight(color='white', intensity=0.6, position=(31.582850…"
      ]
     },
     "metadata": {},
     "output_type": "display_data"
    },
    {
     "data": {
      "image/png": "[encoded data removed]",
      "text/plain": [
       "<Figure size 432x288 with 1 Axes>"
      ]
     },
     "metadata": {
      "needs_background": "light"
     },
     "output_type": "display_data"
    },
    {
     "data": {
      "application/vnd.jupyter.widget-view+json": {
       "model_id": "62816d61278e48b6b582f5ce845d346d",
       "version_major": 2,
       "version_minor": 0
      },
      "text/plain": [
       "Renderer(camera=PerspectiveCamera(children=(DirectionalLight(color='white', intensity=0.6, position=(31.666181…"
      ]
     },
     "metadata": {},
     "output_type": "display_data"
    },
    {
     "name": "stdout",
     "output_type": "stream",
     "text": [
      "<meshplot.Viewer.Viewer object at 0x7fde17cde890>\n",
      "Base layer: max dihedral angle before smoothing is  0.35 radians ( 20.05 degrees).\n"
     ]
    },
    {
     "data": {
      "application/vnd.jupyter.widget-view+json": {
       "model_id": "abc3ff077d584d608da3c9d61fa69a7b",
       "version_major": 2,
       "version_minor": 0
      },
      "text/plain": [
       "Renderer(camera=PerspectiveCamera(children=(DirectionalLight(color='white', intensity=0.6, position=(31.666181…"
      ]
     },
     "metadata": {},
     "output_type": "display_data"
    },
    {
     "name": "stdout",
     "output_type": "stream",
     "text": [
      "Base layer: max dihedral angle after smoothing is  3.14 radians ( 179.91 degrees).\n"
     ]
    },
    {
     "data": {
      "application/vnd.jupyter.widget-view+json": {
       "model_id": "71e21d393db14e438a34c29bb560c3ac",
       "version_major": 2,
       "version_minor": 0
      },
      "text/plain": [
       "Renderer(camera=PerspectiveCamera(children=(DirectionalLight(color='white', intensity=0.6, position=(31.666181…"
      ]
     },
     "metadata": {},
     "output_type": "display_data"
    },
    {
     "name": "stdout",
     "output_type": "stream",
     "text": [
      "Quality control results for the base layer: \n",
      "\n",
      "- There are issues with these vertex indices [22, 23, 24, 25]\n",
      "- Solution 1: To prevent this issue, decrease your 'param.smoothing_iteration' to  9\n",
      "- Solution 2: By default the faulty triangles will be removed from the face index list \n",
      "\n",
      "faulty vertices & neighbouring triangles:\n"
     ]
    },
    {
     "data": {
      "application/vnd.jupyter.widget-view+json": {
       "model_id": "f5a60612da8d40a8be68e541c3e1fe8c",
       "version_major": 2,
       "version_minor": 0
      },
      "text/plain": [
       "Renderer(camera=PerspectiveCamera(children=(DirectionalLight(color='white', intensity=0.6, position=(31.666181…"
      ]
     },
     "metadata": {},
     "output_type": "display_data"
    },
    {
     "name": "stdout",
     "output_type": "stream",
     "text": [
      "The pink triangles will be removed:\n",
      "No.........................\n"
     ]
    },
    {
     "data": {
      "application/vnd.jupyter.widget-view+json": {
       "model_id": "880cb7ac9a644418b64572949ec33f08",
       "version_major": 2,
       "version_minor": 0
      },
      "text/plain": [
       "Renderer(camera=PerspectiveCamera(children=(DirectionalLight(color='white', intensity=0.6, position=(31.666181…"
      ]
     },
     "metadata": {},
     "output_type": "display_data"
    },
    {
     "name": "stdout",
     "output_type": "stream",
     "text": [
      "normal visualization of the fixed result:\n"
     ]
    },
    {
     "data": {
      "application/vnd.jupyter.widget-view+json": {
       "model_id": "b2752efa57904ff8998016313128fc42",
       "version_major": 2,
       "version_minor": 0
      },
      "text/plain": [
       "Renderer(camera=PerspectiveCamera(children=(DirectionalLight(color='white', intensity=0.6, position=(31.666181…"
      ]
     },
     "metadata": {},
     "output_type": "display_data"
    },
    {
     "name": "stdout",
     "output_type": "stream",
     "text": [
      "Extruded layer: max dihedral angle before smoothing is  0.35 radians ( 20.05 degrees).\n"
     ]
    },
    {
     "data": {
      "application/vnd.jupyter.widget-view+json": {
       "model_id": "f9bbe162d85244088cd629e7fb7e10a6",
       "version_major": 2,
       "version_minor": 0
      },
      "text/plain": [
       "Renderer(camera=PerspectiveCamera(children=(DirectionalLight(color='white', intensity=0.6, position=(32.082258…"
      ]
     },
     "metadata": {},
     "output_type": "display_data"
    },
    {
     "name": "stdout",
     "output_type": "stream",
     "text": [
      "Extruded layer: max dihedral angle after smoothing is 3.13 radians ( 179.34 degrees).\n"
     ]
    },
    {
     "data": {
      "application/vnd.jupyter.widget-view+json": {
       "model_id": "7be82bc9f4894e37a6a63686628f572e",
       "version_major": 2,
       "version_minor": 0
      },
      "text/plain": [
       "Renderer(camera=PerspectiveCamera(children=(DirectionalLight(color='white', intensity=0.6, position=(32.082258…"
      ]
     },
     "metadata": {},
     "output_type": "display_data"
    },
    {
     "name": "stdout",
     "output_type": "stream",
     "text": [
      "Quality control results  for the extruded layer: \n",
      "\n",
      "- There are issues with these vertex indices [22, 23, 24, 25, 104, 105, 106, 107]\n",
      "- Solution 1: To prevent this issue, decrease your 'param.smoothing_iteration' to  0\n",
      "- Solution 2: By default the faulty triangles will be removed from the face index list \n",
      "faulty vertices & neighbouring triangles:\n"
     ]
    },
    {
     "data": {
      "application/vnd.jupyter.widget-view+json": {
       "model_id": "0abf10b5a2114feb952e406f8ca8ceeb",
       "version_major": 2,
       "version_minor": 0
      },
      "text/plain": [
       "Renderer(camera=PerspectiveCamera(children=(DirectionalLight(color='white', intensity=0.6, position=(32.082258…"
      ]
     },
     "metadata": {},
     "output_type": "display_data"
    },
    {
     "name": "stdout",
     "output_type": "stream",
     "text": [
      "The pink triangles will be removed:\n",
      "No.........................\n"
     ]
    },
    {
     "data": {
      "application/vnd.jupyter.widget-view+json": {
       "model_id": "011b2352d03241c2b676f100e642f0e1",
       "version_major": 2,
       "version_minor": 0
      },
      "text/plain": [
       "Renderer(camera=PerspectiveCamera(children=(DirectionalLight(color='white', intensity=0.6, position=(32.082258…"
      ]
     },
     "metadata": {},
     "output_type": "display_data"
    },
    {
     "name": "stdout",
     "output_type": "stream",
     "text": [
      "normal visualization of the fixed result:\n"
     ]
    },
    {
     "data": {
      "application/vnd.jupyter.widget-view+json": {
       "model_id": "4db91e2b6261454b9410d89b4f299b85",
       "version_major": 2,
       "version_minor": 0
      },
      "text/plain": [
       "Renderer(camera=PerspectiveCamera(children=(DirectionalLight(color='white', intensity=0.6, position=(32.082258…"
      ]
     },
     "metadata": {},
     "output_type": "display_data"
    },
    {
     "data": {
      "application/vnd.jupyter.widget-view+json": {
       "model_id": "49485413459d438485df6eb3e867856d",
       "version_major": 2,
       "version_minor": 0
      },
      "text/plain": [
       "Renderer(camera=PerspectiveCamera(children=(DirectionalLight(color='white', intensity=0.6, position=(31.666181…"
      ]
     },
     "metadata": {},
     "output_type": "display_data"
    },
    {
     "data": {
      "application/vnd.jupyter.widget-view+json": {
       "model_id": "524577111c6f42db9d21b0e359f812ba",
       "version_major": 2,
       "version_minor": 0
      },
      "text/plain": [
       "Renderer(camera=PerspectiveCamera(children=(DirectionalLight(color='white', intensity=0.6, position=(32.082258…"
      ]
     },
     "metadata": {},
     "output_type": "display_data"
    },
    {
     "data": {
      "application/vnd.jupyter.widget-view+json": {
       "model_id": "6c30f0dd99bb4091aaf7f22465363e98",
       "version_major": 2,
       "version_minor": 0
      },
      "text/plain": [
       "Renderer(camera=PerspectiveCamera(children=(DirectionalLight(color='white', intensity=0.6, position=(32.000448…"
      ]
     },
     "metadata": {},
     "output_type": "display_data"
    },
    {
     "data": {
      "application/vnd.jupyter.widget-view+json": {
       "model_id": "a86775d151004121a0542b92f1d619e6",
       "version_major": 2,
       "version_minor": 0
      },
      "text/plain": [
       "Renderer(camera=PerspectiveCamera(children=(DirectionalLight(color='white', intensity=0.6, position=(31.666181…"
      ]
     },
     "metadata": {},
     "output_type": "display_data"
    },
    {
     "name": "stdout",
     "output_type": "stream",
     "text": [
      "pdl base area is:  232.54\n",
      "mean pdl thickness is:  0.2\n",
      "maximum pdl thickness is:  0.22\n",
      "PDL generation time (s):  14.28\n",
      "generating PDL top for Tooth_3\n",
      "number of triangles after cleaning 20180\n"
     ]
    },
    {
     "data": {
      "application/vnd.jupyter.widget-view+json": {
       "model_id": "9daa2d9a532f4d82b9100235c14d19d6",
       "version_major": 2,
       "version_minor": 0
      },
      "text/plain": [
       "Renderer(camera=PerspectiveCamera(children=(DirectionalLight(color='white', intensity=0.6, position=(32.922049…"
      ]
     },
     "metadata": {},
     "output_type": "display_data"
    },
    {
     "data": {
      "application/vnd.jupyter.widget-view+json": {
       "model_id": "b37dfdee8b5b449b9f91bdc5dd026d6f",
       "version_major": 2,
       "version_minor": 0
      },
      "text/plain": [
       "Renderer(camera=PerspectiveCamera(children=(DirectionalLight(color='white', intensity=0.6, position=(32.922049…"
      ]
     },
     "metadata": {},
     "output_type": "display_data"
    },
    {
     "data": {
      "image/png": "[encoded data removed]",
      "text/plain": [
       "<Figure size 432x288 with 1 Axes>"
      ]
     },
     "metadata": {
      "needs_background": "light"
     },
     "output_type": "display_data"
    },
    {
     "data": {
      "application/vnd.jupyter.widget-view+json": {
       "model_id": "783c48deb4fa44638e977ce236052254",
       "version_major": 2,
       "version_minor": 0
      },
      "text/plain": [
       "Renderer(camera=PerspectiveCamera(children=(DirectionalLight(color='white', intensity=0.6, position=(32.837010…"
      ]
     },
     "metadata": {},
     "output_type": "display_data"
    },
    {
     "name": "stdout",
     "output_type": "stream",
     "text": [
      "<meshplot.Viewer.Viewer object at 0x7fde16d9f090>\n",
      "Base layer: max dihedral angle before smoothing is  0.45 radians ( 25.78 degrees).\n"
     ]
    },
    {
     "data": {
      "application/vnd.jupyter.widget-view+json": {
       "model_id": "21af8024934b424a964949a48c58d1b6",
       "version_major": 2,
       "version_minor": 0
      },
      "text/plain": [
       "Renderer(camera=PerspectiveCamera(children=(DirectionalLight(color='white', intensity=0.6, position=(32.837010…"
      ]
     },
     "metadata": {},
     "output_type": "display_data"
    },
    {
     "name": "stdout",
     "output_type": "stream",
     "text": [
      "Base layer: max dihedral angle after smoothing is  3.13 radians ( 179.34 degrees).\n"
     ]
    },
    {
     "data": {
      "application/vnd.jupyter.widget-view+json": {
       "model_id": "d778505aadfe4efe928da88f5578c22c",
       "version_major": 2,
       "version_minor": 0
      },
      "text/plain": [
       "Renderer(camera=PerspectiveCamera(children=(DirectionalLight(color='white', intensity=0.6, position=(32.837010…"
      ]
     },
     "metadata": {},
     "output_type": "display_data"
    },
    {
     "name": "stdout",
     "output_type": "stream",
     "text": [
      "Quality control results for the base layer: \n",
      "\n",
      "- There are issues with these vertex indices [41, 42, 43, 57, 58, 59, 60]\n",
      "- Solution 1: To prevent this issue, decrease your 'param.smoothing_iteration' to  10\n",
      "- Solution 2: By default the faulty triangles will be removed from the face index list \n",
      "\n",
      "faulty vertices & neighbouring triangles:\n"
     ]
    },
    {
     "data": {
      "application/vnd.jupyter.widget-view+json": {
       "model_id": "6be5a87685fe49a1979d10cebb1d98dc",
       "version_major": 2,
       "version_minor": 0
      },
      "text/plain": [
       "Renderer(camera=PerspectiveCamera(children=(DirectionalLight(color='white', intensity=0.6, position=(32.837010…"
      ]
     },
     "metadata": {},
     "output_type": "display_data"
    },
    {
     "name": "stdout",
     "output_type": "stream",
     "text": [
      "The pink triangles will be removed:\n",
      "No.........................\n"
     ]
    },
    {
     "data": {
      "application/vnd.jupyter.widget-view+json": {
       "model_id": "83bc80ef743142edbf4bfadb1dec00ba",
       "version_major": 2,
       "version_minor": 0
      },
      "text/plain": [
       "Renderer(camera=PerspectiveCamera(children=(DirectionalLight(color='white', intensity=0.6, position=(32.837010…"
      ]
     },
     "metadata": {},
     "output_type": "display_data"
    },
    {
     "name": "stdout",
     "output_type": "stream",
     "text": [
      "normal visualization of the fixed result:\n"
     ]
    },
    {
     "data": {
      "application/vnd.jupyter.widget-view+json": {
       "model_id": "d6cfc7029e604a61bf55c41f2d3dd07d",
       "version_major": 2,
       "version_minor": 0
      },
      "text/plain": [
       "Renderer(camera=PerspectiveCamera(children=(DirectionalLight(color='white', intensity=0.6, position=(32.837010…"
      ]
     },
     "metadata": {},
     "output_type": "display_data"
    },
    {
     "name": "stdout",
     "output_type": "stream",
     "text": [
      "Extruded layer: max dihedral angle before smoothing is  3.14 radians ( 179.91 degrees).\n"
     ]
    },
    {
     "data": {
      "application/vnd.jupyter.widget-view+json": {
       "model_id": "de31a06e4dde4c499ec74f8bd222b3c3",
       "version_major": 2,
       "version_minor": 0
      },
      "text/plain": [
       "Renderer(camera=PerspectiveCamera(children=(DirectionalLight(color='white', intensity=0.6, position=(33.387075…"
      ]
     },
     "metadata": {},
     "output_type": "display_data"
    },
    {
     "name": "stdout",
     "output_type": "stream",
     "text": [
      "Extruded layer: max dihedral angle after smoothing is 3.14 radians ( 179.91 degrees).\n"
     ]
    },
    {
     "data": {
      "application/vnd.jupyter.widget-view+json": {
       "model_id": "6567c5a7a316482184d38b63fd5d46fa",
       "version_major": 2,
       "version_minor": 0
      },
      "text/plain": [
       "Renderer(camera=PerspectiveCamera(children=(DirectionalLight(color='white', intensity=0.6, position=(33.387075…"
      ]
     },
     "metadata": {},
     "output_type": "display_data"
    },
    {
     "name": "stdout",
     "output_type": "stream",
     "text": [
      "Quality control results  for the extruded layer: \n",
      "\n",
      "- There are issues with these vertex indices [41, 42, 43, 57, 58, 59, 60, 86, 87, 88]\n",
      "- Solution 1: To prevent this issue, decrease your 'param.smoothing_iteration' to  -1\n",
      "- Solution 2: By default the faulty triangles will be removed from the face index list \n",
      "faulty vertices & neighbouring triangles:\n"
     ]
    },
    {
     "data": {
      "application/vnd.jupyter.widget-view+json": {
       "model_id": "c247a8a101e3482497fd7f12e527057e",
       "version_major": 2,
       "version_minor": 0
      },
      "text/plain": [
       "Renderer(camera=PerspectiveCamera(children=(DirectionalLight(color='white', intensity=0.6, position=(33.387075…"
      ]
     },
     "metadata": {},
     "output_type": "display_data"
    },
    {
     "name": "stdout",
     "output_type": "stream",
     "text": [
      "The pink triangles will be removed:\n",
      "No.........................\n"
     ]
    },
    {
     "data": {
      "application/vnd.jupyter.widget-view+json": {
       "model_id": "8c8b16d54e0e43d09e2033416c064f9f",
       "version_major": 2,
       "version_minor": 0
      },
      "text/plain": [
       "Renderer(camera=PerspectiveCamera(children=(DirectionalLight(color='white', intensity=0.6, position=(33.387075…"
      ]
     },
     "metadata": {},
     "output_type": "display_data"
    },
    {
     "name": "stdout",
     "output_type": "stream",
     "text": [
      "normal visualization of the fixed result:\n"
     ]
    },
    {
     "data": {
      "application/vnd.jupyter.widget-view+json": {
       "model_id": "f36067c6ab2349a689216b315b1d48b2",
       "version_major": 2,
       "version_minor": 0
      },
      "text/plain": [
       "Renderer(camera=PerspectiveCamera(children=(DirectionalLight(color='white', intensity=0.6, position=(33.387075…"
      ]
     },
     "metadata": {},
     "output_type": "display_data"
    },
    {
     "data": {
      "application/vnd.jupyter.widget-view+json": {
       "model_id": "c2a650e484c54c68ad4daef9ee8820a9",
       "version_major": 2,
       "version_minor": 0
      },
      "text/plain": [
       "Renderer(camera=PerspectiveCamera(children=(DirectionalLight(color='white', intensity=0.6, position=(32.837010…"
      ]
     },
     "metadata": {},
     "output_type": "display_data"
    },
    {
     "data": {
      "application/vnd.jupyter.widget-view+json": {
       "model_id": "fd43c4798a7442b3b27ae0df865b9597",
       "version_major": 2,
       "version_minor": 0
      },
      "text/plain": [
       "Renderer(camera=PerspectiveCamera(children=(DirectionalLight(color='white', intensity=0.6, position=(33.387075…"
      ]
     },
     "metadata": {},
     "output_type": "display_data"
    },
    {
     "data": {
      "application/vnd.jupyter.widget-view+json": {
       "model_id": "5768e20fb31e41528ab4c1f4a98fafe0",
       "version_major": 2,
       "version_minor": 0
      },
      "text/plain": [
       "Renderer(camera=PerspectiveCamera(children=(DirectionalLight(color='white', intensity=0.6, position=(33.105965…"
      ]
     },
     "metadata": {},
     "output_type": "display_data"
    },
    {
     "data": {
      "application/vnd.jupyter.widget-view+json": {
       "model_id": "4bb55dcd91754b15b8f2d940851a905d",
       "version_major": 2,
       "version_minor": 0
      },
      "text/plain": [
       "Renderer(camera=PerspectiveCamera(children=(DirectionalLight(color='white', intensity=0.6, position=(32.837010…"
      ]
     },
     "metadata": {},
     "output_type": "display_data"
    },
    {
     "name": "stdout",
     "output_type": "stream",
     "text": [
      "pdl base area is:  258.95\n",
      "mean pdl thickness is:  0.2\n",
      "maximum pdl thickness is:  0.26\n",
      "PDL generation time (s):  16.4\n",
      "generating PDL top for Tooth_4\n",
      "number of triangles after cleaning 11850\n"
     ]
    },
    {
     "data": {
      "application/vnd.jupyter.widget-view+json": {
       "model_id": "d1a4f8cbb22b4c6280e46dd5a0bb9aa4",
       "version_major": 2,
       "version_minor": 0
      },
      "text/plain": [
       "Renderer(camera=PerspectiveCamera(children=(DirectionalLight(color='white', intensity=0.6, position=(35.714250…"
      ]
     },
     "metadata": {},
     "output_type": "display_data"
    },
    {
     "data": {
      "application/vnd.jupyter.widget-view+json": {
       "model_id": "63ad17855afe49a7b02d4fbad56b2127",
       "version_major": 2,
       "version_minor": 0
      },
      "text/plain": [
       "Renderer(camera=PerspectiveCamera(children=(DirectionalLight(color='white', intensity=0.6, position=(35.714250…"
      ]
     },
     "metadata": {},
     "output_type": "display_data"
    },
    {
     "data": {
      "image/png": "[encoded data removed]",
      "text/plain": [
       "<Figure size 432x288 with 1 Axes>"
      ]
     },
     "metadata": {
      "needs_background": "light"
     },
     "output_type": "display_data"
    },
    {
     "data": {
      "application/vnd.jupyter.widget-view+json": {
       "model_id": "adcf5fb411f442fc906f3f2b51365223",
       "version_major": 2,
       "version_minor": 0
      },
      "text/plain": [
       "Renderer(camera=PerspectiveCamera(children=(DirectionalLight(color='white', intensity=0.6, position=(35.690294…"
      ]
     },
     "metadata": {},
     "output_type": "display_data"
    },
    {
     "name": "stdout",
     "output_type": "stream",
     "text": [
      "<meshplot.Viewer.Viewer object at 0x7fde17267e50>\n",
      "Base layer: max dihedral angle before smoothing is  0.49 radians ( 28.07 degrees).\n"
     ]
    },
    {
     "data": {
      "application/vnd.jupyter.widget-view+json": {
       "model_id": "a3e13b6479e54792aa13ff81bf354417",
       "version_major": 2,
       "version_minor": 0
      },
      "text/plain": [
       "Renderer(camera=PerspectiveCamera(children=(DirectionalLight(color='white', intensity=0.6, position=(35.690294…"
      ]
     },
     "metadata": {},
     "output_type": "display_data"
    },
    {
     "name": "stdout",
     "output_type": "stream",
     "text": [
      "Base layer: max dihedral angle after smoothing is  3.14 radians ( 179.91 degrees).\n"
     ]
    },
    {
     "data": {
      "application/vnd.jupyter.widget-view+json": {
       "model_id": "a07c65555d614c7e9075764987448c1f",
       "version_major": 2,
       "version_minor": 0
      },
      "text/plain": [
       "Renderer(camera=PerspectiveCamera(children=(DirectionalLight(color='white', intensity=0.6, position=(35.690294…"
      ]
     },
     "metadata": {},
     "output_type": "display_data"
    },
    {
     "name": "stdout",
     "output_type": "stream",
     "text": [
      "Quality control results for the base layer: \n",
      "\n",
      "- There are issues with these vertex indices [69, 70, 71]\n",
      "- Solution 1: To prevent this issue, decrease your 'param.smoothing_iteration' to  4\n",
      "- Solution 2: By default the faulty triangles will be removed from the face index list \n",
      "\n",
      "faulty vertices & neighbouring triangles:\n"
     ]
    },
    {
     "data": {
      "application/vnd.jupyter.widget-view+json": {
       "model_id": "a41d1c2c01e74786a82bfac509158e14",
       "version_major": 2,
       "version_minor": 0
      },
      "text/plain": [
       "Renderer(camera=PerspectiveCamera(children=(DirectionalLight(color='white', intensity=0.6, position=(35.690294…"
      ]
     },
     "metadata": {},
     "output_type": "display_data"
    },
    {
     "name": "stdout",
     "output_type": "stream",
     "text": [
      "The pink triangles will be removed:\n",
      "No.........................\n"
     ]
    },
    {
     "data": {
      "application/vnd.jupyter.widget-view+json": {
       "model_id": "eb7d94b7d8bc430abda5fadfc794eb86",
       "version_major": 2,
       "version_minor": 0
      },
      "text/plain": [
       "Renderer(camera=PerspectiveCamera(children=(DirectionalLight(color='white', intensity=0.6, position=(35.690294…"
      ]
     },
     "metadata": {},
     "output_type": "display_data"
    },
    {
     "name": "stdout",
     "output_type": "stream",
     "text": [
      "normal visualization of the fixed result:\n"
     ]
    },
    {
     "data": {
      "application/vnd.jupyter.widget-view+json": {
       "model_id": "7680bbec683f456a98ab91a410984695",
       "version_major": 2,
       "version_minor": 0
      },
      "text/plain": [
       "Renderer(camera=PerspectiveCamera(children=(DirectionalLight(color='white', intensity=0.6, position=(35.690294…"
      ]
     },
     "metadata": {},
     "output_type": "display_data"
    },
    {
     "name": "stdout",
     "output_type": "stream",
     "text": [
      "Extruded layer: max dihedral angle before smoothing is  3.13 radians ( 179.34 degrees).\n"
     ]
    },
    {
     "data": {
      "application/vnd.jupyter.widget-view+json": {
       "model_id": "38b5f78a942a444eb7eebe719af31672",
       "version_major": 2,
       "version_minor": 0
      },
      "text/plain": [
       "Renderer(camera=PerspectiveCamera(children=(DirectionalLight(color='white', intensity=0.6, position=(35.806110…"
      ]
     },
     "metadata": {},
     "output_type": "display_data"
    },
    {
     "name": "stdout",
     "output_type": "stream",
     "text": [
      "Extruded layer: max dihedral angle after smoothing is 3.13 radians ( 179.34 degrees).\n"
     ]
    },
    {
     "data": {
      "application/vnd.jupyter.widget-view+json": {
       "model_id": "78b596542f604fdd84bbd665aee89212",
       "version_major": 2,
       "version_minor": 0
      },
      "text/plain": [
       "Renderer(camera=PerspectiveCamera(children=(DirectionalLight(color='white', intensity=0.6, position=(35.806110…"
      ]
     },
     "metadata": {},
     "output_type": "display_data"
    },
    {
     "name": "stdout",
     "output_type": "stream",
     "text": [
      "Quality control results  for the extruded layer: \n",
      "\n",
      "- There are issues with these vertex indices [28, 29, 30, 69, 70, 71]\n",
      "- Solution 1: To prevent this issue, decrease your 'param.smoothing_iteration' to  -1\n",
      "- Solution 2: By default the faulty triangles will be removed from the face index list \n",
      "faulty vertices & neighbouring triangles:\n"
     ]
    },
    {
     "data": {
      "application/vnd.jupyter.widget-view+json": {
       "model_id": "e93f37e0e9a14c87b184fa73c13b08ec",
       "version_major": 2,
       "version_minor": 0
      },
      "text/plain": [
       "Renderer(camera=PerspectiveCamera(children=(DirectionalLight(color='white', intensity=0.6, position=(35.806110…"
      ]
     },
     "metadata": {},
     "output_type": "display_data"
    },
    {
     "name": "stdout",
     "output_type": "stream",
     "text": [
      "The pink triangles will be removed:\n",
      "No.........................\n"
     ]
    },
    {
     "data": {
      "application/vnd.jupyter.widget-view+json": {
       "model_id": "5571500941884b6c9147ff9ba9efd519",
       "version_major": 2,
       "version_minor": 0
      },
      "text/plain": [
       "Renderer(camera=PerspectiveCamera(children=(DirectionalLight(color='white', intensity=0.6, position=(35.806110…"
      ]
     },
     "metadata": {},
     "output_type": "display_data"
    },
    {
     "name": "stdout",
     "output_type": "stream",
     "text": [
      "normal visualization of the fixed result:\n"
     ]
    },
    {
     "data": {
      "application/vnd.jupyter.widget-view+json": {
       "model_id": "71c7b8ae25f3488fa389df3da4396e17",
       "version_major": 2,
       "version_minor": 0
      },
      "text/plain": [
       "Renderer(camera=PerspectiveCamera(children=(DirectionalLight(color='white', intensity=0.6, position=(35.806110…"
      ]
     },
     "metadata": {},
     "output_type": "display_data"
    },
    {
     "data": {
      "application/vnd.jupyter.widget-view+json": {
       "model_id": "20eb8455d87742f8af44f9b921139f77",
       "version_major": 2,
       "version_minor": 0
      },
      "text/plain": [
       "Renderer(camera=PerspectiveCamera(children=(DirectionalLight(color='white', intensity=0.6, position=(35.690294…"
      ]
     },
     "metadata": {},
     "output_type": "display_data"
    },
    {
     "data": {
      "application/vnd.jupyter.widget-view+json": {
       "model_id": "94983a59a414459da8e591887b6c7efd",
       "version_major": 2,
       "version_minor": 0
      },
      "text/plain": [
       "Renderer(camera=PerspectiveCamera(children=(DirectionalLight(color='white', intensity=0.6, position=(35.806110…"
      ]
     },
     "metadata": {},
     "output_type": "display_data"
    },
    {
     "data": {
      "application/vnd.jupyter.widget-view+json": {
       "model_id": "8cb35edee1d141a7bafcae062e342232",
       "version_major": 2,
       "version_minor": 0
      },
      "text/plain": [
       "Renderer(camera=PerspectiveCamera(children=(DirectionalLight(color='white', intensity=0.6, position=(35.819725…"
      ]
     },
     "metadata": {},
     "output_type": "display_data"
    },
    {
     "data": {
      "application/vnd.jupyter.widget-view+json": {
       "model_id": "9129cde1526b42d4931aa6af0064152b",
       "version_major": 2,
       "version_minor": 0
      },
      "text/plain": [
       "Renderer(camera=PerspectiveCamera(children=(DirectionalLight(color='white', intensity=0.6, position=(35.690294…"
      ]
     },
     "metadata": {},
     "output_type": "display_data"
    },
    {
     "name": "stdout",
     "output_type": "stream",
     "text": [
      "pdl base area is:  149.05\n",
      "mean pdl thickness is:  0.2\n",
      "maximum pdl thickness is:  0.22\n",
      "PDL generation time (s):  11.19\n",
      "generating PDL top for Tooth_5\n",
      "number of triangles after cleaning 11948\n"
     ]
    },
    {
     "data": {
      "application/vnd.jupyter.widget-view+json": {
       "model_id": "4b094db886df4b4eabc15e85fbc2685a",
       "version_major": 2,
       "version_minor": 0
      },
      "text/plain": [
       "Renderer(camera=PerspectiveCamera(children=(DirectionalLight(color='white', intensity=0.6, position=(38.471050…"
      ]
     },
     "metadata": {},
     "output_type": "display_data"
    },
    {
     "data": {
      "application/vnd.jupyter.widget-view+json": {
       "model_id": "86244712cf9241c585ec43a31627e8f2",
       "version_major": 2,
       "version_minor": 0
      },
      "text/plain": [
       "Renderer(camera=PerspectiveCamera(children=(DirectionalLight(color='white', intensity=0.6, position=(38.471050…"
      ]
     },
     "metadata": {},
     "output_type": "display_data"
    },
    {
     "data": {
      "image/png": "[encoded data removed]",
      "text/plain": [
       "<Figure size 432x288 with 1 Axes>"
      ]
     },
     "metadata": {
      "needs_background": "light"
     },
     "output_type": "display_data"
    },
    {
     "data": {
      "application/vnd.jupyter.widget-view+json": {
       "model_id": "a462be12c6f1461aa8da725826c12da4",
       "version_major": 2,
       "version_minor": 0
      },
      "text/plain": [
       "Renderer(camera=PerspectiveCamera(children=(DirectionalLight(color='white', intensity=0.6, position=(38.487012…"
      ]
     },
     "metadata": {},
     "output_type": "display_data"
    },
    {
     "name": "stdout",
     "output_type": "stream",
     "text": [
      "<meshplot.Viewer.Viewer object at 0x7fde18931210>\n",
      "Base layer: max dihedral angle before smoothing is  0.46 radians ( 26.36 degrees).\n"
     ]
    },
    {
     "data": {
      "application/vnd.jupyter.widget-view+json": {
       "model_id": "1edba093222e4f61a0c6c3b17597ce46",
       "version_major": 2,
       "version_minor": 0
      },
      "text/plain": [
       "Renderer(camera=PerspectiveCamera(children=(DirectionalLight(color='white', intensity=0.6, position=(38.487012…"
      ]
     },
     "metadata": {},
     "output_type": "display_data"
    },
    {
     "name": "stdout",
     "output_type": "stream",
     "text": [
      "Base layer: max dihedral angle after smoothing is  0.44 radians ( 25.21 degrees).\n"
     ]
    },
    {
     "data": {
      "application/vnd.jupyter.widget-view+json": {
       "model_id": "05a92508413e48fbae6038a5d9bb0362",
       "version_major": 2,
       "version_minor": 0
      },
      "text/plain": [
       "Renderer(camera=PerspectiveCamera(children=(DirectionalLight(color='white', intensity=0.6, position=(38.487012…"
      ]
     },
     "metadata": {},
     "output_type": "display_data"
    },
    {
     "name": "stdout",
     "output_type": "stream",
     "text": [
      "Quality control results for the base layer: \n",
      "\n",
      "Everything is clean in the base layer. we will now continue to extrusion step:\n",
      "\n",
      "Extruded layer: max dihedral angle before smoothing is  0.47 radians ( 26.93 degrees).\n"
     ]
    },
    {
     "data": {
      "application/vnd.jupyter.widget-view+json": {
       "model_id": "3848bb9cbbd147979466b7e09083fc42",
       "version_major": 2,
       "version_minor": 0
      },
      "text/plain": [
       "Renderer(camera=PerspectiveCamera(children=(DirectionalLight(color='white', intensity=0.6, position=(38.873620…"
      ]
     },
     "metadata": {},
     "output_type": "display_data"
    },
    {
     "name": "stdout",
     "output_type": "stream",
     "text": [
      "Extruded layer: max dihedral angle after smoothing is 3.14 radians ( 179.91 degrees).\n"
     ]
    },
    {
     "data": {
      "application/vnd.jupyter.widget-view+json": {
       "model_id": "e4a8eb52d1044661a6ba54b8eb987f43",
       "version_major": 2,
       "version_minor": 0
      },
      "text/plain": [
       "Renderer(camera=PerspectiveCamera(children=(DirectionalLight(color='white', intensity=0.6, position=(38.873620…"
      ]
     },
     "metadata": {},
     "output_type": "display_data"
    },
    {
     "name": "stdout",
     "output_type": "stream",
     "text": [
      "Quality control results  for the extruded layer: \n",
      "\n",
      "- There are issues with these vertex indices [3, 4, 5, 21, 22, 24]\n",
      "- Solution 1: To prevent this issue, decrease your 'param.smoothing_iteration' to  2\n",
      "- Solution 2: By default the faulty triangles will be removed from the face index list \n",
      "faulty vertices & neighbouring triangles:\n"
     ]
    },
    {
     "data": {
      "application/vnd.jupyter.widget-view+json": {
       "model_id": "c5f8c00dea414c3fb89fa1d4a63060c3",
       "version_major": 2,
       "version_minor": 0
      },
      "text/plain": [
       "Renderer(camera=PerspectiveCamera(children=(DirectionalLight(color='white', intensity=0.6, position=(38.873620…"
      ]
     },
     "metadata": {},
     "output_type": "display_data"
    },
    {
     "name": "stdout",
     "output_type": "stream",
     "text": [
      "The pink triangles will be removed:\n",
      "No.........................\n"
     ]
    },
    {
     "data": {
      "application/vnd.jupyter.widget-view+json": {
       "model_id": "1fd2844050614e99a620349b18cf1209",
       "version_major": 2,
       "version_minor": 0
      },
      "text/plain": [
       "Renderer(camera=PerspectiveCamera(children=(DirectionalLight(color='white', intensity=0.6, position=(38.873620…"
      ]
     },
     "metadata": {},
     "output_type": "display_data"
    },
    {
     "name": "stdout",
     "output_type": "stream",
     "text": [
      "normal visualization of the fixed result:\n"
     ]
    },
    {
     "data": {
      "application/vnd.jupyter.widget-view+json": {
       "model_id": "0dab25f9acc443f8b48e35d5cfe4ca04",
       "version_major": 2,
       "version_minor": 0
      },
      "text/plain": [
       "Renderer(camera=PerspectiveCamera(children=(DirectionalLight(color='white', intensity=0.6, position=(38.873620…"
      ]
     },
     "metadata": {},
     "output_type": "display_data"
    },
    {
     "data": {
      "application/vnd.jupyter.widget-view+json": {
       "model_id": "2e8414a3a2314816bca7cfc6cd37724e",
       "version_major": 2,
       "version_minor": 0
      },
      "text/plain": [
       "Renderer(camera=PerspectiveCamera(children=(DirectionalLight(color='white', intensity=0.6, position=(38.487012…"
      ]
     },
     "metadata": {},
     "output_type": "display_data"
    },
    {
     "data": {
      "application/vnd.jupyter.widget-view+json": {
       "model_id": "414c0f9921344cb19d475e0b1189e7c2",
       "version_major": 2,
       "version_minor": 0
      },
      "text/plain": [
       "Renderer(camera=PerspectiveCamera(children=(DirectionalLight(color='white', intensity=0.6, position=(38.873620…"
      ]
     },
     "metadata": {},
     "output_type": "display_data"
    },
    {
     "data": {
      "application/vnd.jupyter.widget-view+json": {
       "model_id": "192aa00f64ee426787d01ebd9eeeb4da",
       "version_major": 2,
       "version_minor": 0
      },
      "text/plain": [
       "Renderer(camera=PerspectiveCamera(children=(DirectionalLight(color='white', intensity=0.6, position=(38.840515…"
      ]
     },
     "metadata": {},
     "output_type": "display_data"
    },
    {
     "data": {
      "application/vnd.jupyter.widget-view+json": {
       "model_id": "a90adff1dded4b15b1040632f3e0c504",
       "version_major": 2,
       "version_minor": 0
      },
      "text/plain": [
       "Renderer(camera=PerspectiveCamera(children=(DirectionalLight(color='white', intensity=0.6, position=(38.487012…"
      ]
     },
     "metadata": {},
     "output_type": "display_data"
    },
    {
     "name": "stdout",
     "output_type": "stream",
     "text": [
      "pdl base area is:  134.73\n",
      "mean pdl thickness is:  0.2\n",
      "maximum pdl thickness is:  0.22\n",
      "PDL generation time (s):  10.23\n",
      "generating PDL top for Tooth_6\n",
      "number of triangles after cleaning 12164\n"
     ]
    },
    {
     "data": {
      "application/vnd.jupyter.widget-view+json": {
       "model_id": "6dbe65f5cec843cdb4c34b9ebaa74471",
       "version_major": 2,
       "version_minor": 0
      },
      "text/plain": [
       "Renderer(camera=PerspectiveCamera(children=(DirectionalLight(color='white', intensity=0.6, position=(40.876550…"
      ]
     },
     "metadata": {},
     "output_type": "display_data"
    },
    {
     "data": {
      "application/vnd.jupyter.widget-view+json": {
       "model_id": "64028c8bd6904666a4bc087fe918e951",
       "version_major": 2,
       "version_minor": 0
      },
      "text/plain": [
       "Renderer(camera=PerspectiveCamera(children=(DirectionalLight(color='white', intensity=0.6, position=(40.876550…"
      ]
     },
     "metadata": {},
     "output_type": "display_data"
    },
    {
     "data": {
      "image/png": "[encoded data removed]",
      "text/plain": [
       "<Figure size 432x288 with 1 Axes>"
      ]
     },
     "metadata": {
      "needs_background": "light"
     },
     "output_type": "display_data"
    },
    {
     "data": {
      "application/vnd.jupyter.widget-view+json": {
       "model_id": "160554637dad4a6fbdfa3620f3edc19d",
       "version_major": 2,
       "version_minor": 0
      },
      "text/plain": [
       "Renderer(camera=PerspectiveCamera(children=(DirectionalLight(color='white', intensity=0.6, position=(41.397497…"
      ]
     },
     "metadata": {},
     "output_type": "display_data"
    },
    {
     "name": "stdout",
     "output_type": "stream",
     "text": [
      "<meshplot.Viewer.Viewer object at 0x7fde176f2750>\n",
      "Base layer: max dihedral angle before smoothing is  0.43 radians ( 24.64 degrees).\n"
     ]
    },
    {
     "data": {
      "application/vnd.jupyter.widget-view+json": {
       "model_id": "d12c607ee11e41789b9b1c78dabf525a",
       "version_major": 2,
       "version_minor": 0
      },
      "text/plain": [
       "Renderer(camera=PerspectiveCamera(children=(DirectionalLight(color='white', intensity=0.6, position=(41.397497…"
      ]
     },
     "metadata": {},
     "output_type": "display_data"
    },
    {
     "name": "stdout",
     "output_type": "stream",
     "text": [
      "Base layer: max dihedral angle after smoothing is  3.14 radians ( 179.91 degrees).\n"
     ]
    },
    {
     "data": {
      "application/vnd.jupyter.widget-view+json": {
       "model_id": "f875825d20de4c5fbbb4b1ce5aee94de",
       "version_major": 2,
       "version_minor": 0
      },
      "text/plain": [
       "Renderer(camera=PerspectiveCamera(children=(DirectionalLight(color='white', intensity=0.6, position=(41.397497…"
      ]
     },
     "metadata": {},
     "output_type": "display_data"
    },
    {
     "name": "stdout",
     "output_type": "stream",
     "text": [
      "Quality control results for the base layer: \n",
      "\n",
      "- There are issues with these vertex indices [61, 62, 64, 65, 77, 78, 80, 81]\n",
      "- Solution 1: To prevent this issue, decrease your 'param.smoothing_iteration' to  3\n",
      "- Solution 2: By default the faulty triangles will be removed from the face index list \n",
      "\n",
      "faulty vertices & neighbouring triangles:\n"
     ]
    },
    {
     "data": {
      "application/vnd.jupyter.widget-view+json": {
       "model_id": "d07cba3b73324646838e9f7d38a36afd",
       "version_major": 2,
       "version_minor": 0
      },
      "text/plain": [
       "Renderer(camera=PerspectiveCamera(children=(DirectionalLight(color='white', intensity=0.6, position=(41.397497…"
      ]
     },
     "metadata": {},
     "output_type": "display_data"
    },
    {
     "name": "stdout",
     "output_type": "stream",
     "text": [
      "The pink triangles will be removed:\n",
      "No.........................\n"
     ]
    },
    {
     "data": {
      "application/vnd.jupyter.widget-view+json": {
       "model_id": "a544415cf3c54c5489c8413c93a50542",
       "version_major": 2,
       "version_minor": 0
      },
      "text/plain": [
       "Renderer(camera=PerspectiveCamera(children=(DirectionalLight(color='white', intensity=0.6, position=(41.397497…"
      ]
     },
     "metadata": {},
     "output_type": "display_data"
    },
    {
     "name": "stdout",
     "output_type": "stream",
     "text": [
      "normal visualization of the fixed result:\n"
     ]
    },
    {
     "data": {
      "application/vnd.jupyter.widget-view+json": {
       "model_id": "226dd921d66442fbb38b44ee6c49f080",
       "version_major": 2,
       "version_minor": 0
      },
      "text/plain": [
       "Renderer(camera=PerspectiveCamera(children=(DirectionalLight(color='white', intensity=0.6, position=(41.397497…"
      ]
     },
     "metadata": {},
     "output_type": "display_data"
    },
    {
     "name": "stdout",
     "output_type": "stream",
     "text": [
      "Extruded layer: max dihedral angle before smoothing is  3.14 radians ( 179.91 degrees).\n"
     ]
    },
    {
     "data": {
      "application/vnd.jupyter.widget-view+json": {
       "model_id": "24a42934278a4889a24504c3be963d54",
       "version_major": 2,
       "version_minor": 0
      },
      "text/plain": [
       "Renderer(camera=PerspectiveCamera(children=(DirectionalLight(color='white', intensity=0.6, position=(41.528564…"
      ]
     },
     "metadata": {},
     "output_type": "display_data"
    },
    {
     "name": "stdout",
     "output_type": "stream",
     "text": [
      "Extruded layer: max dihedral angle after smoothing is 3.14 radians ( 179.91 degrees).\n"
     ]
    },
    {
     "data": {
      "application/vnd.jupyter.widget-view+json": {
       "model_id": "de4439742cf24325b32d6a15060875e3",
       "version_major": 2,
       "version_minor": 0
      },
      "text/plain": [
       "Renderer(camera=PerspectiveCamera(children=(DirectionalLight(color='white', intensity=0.6, position=(41.528564…"
      ]
     },
     "metadata": {},
     "output_type": "display_data"
    },
    {
     "name": "stdout",
     "output_type": "stream",
     "text": [
      "Quality control results  for the extruded layer: \n",
      "\n",
      "- There are issues with these vertex indices [60, 61, 62, 64, 65, 66, 77, 78, 80, 81, 82, 83]\n",
      "- Solution 1: To prevent this issue, decrease your 'param.smoothing_iteration' to  -1\n",
      "- Solution 2: By default the faulty triangles will be removed from the face index list \n",
      "faulty vertices & neighbouring triangles:\n"
     ]
    },
    {
     "data": {
      "application/vnd.jupyter.widget-view+json": {
       "model_id": "20c3d4bb907f41a2aac62770bd927b2b",
       "version_major": 2,
       "version_minor": 0
      },
      "text/plain": [
       "Renderer(camera=PerspectiveCamera(children=(DirectionalLight(color='white', intensity=0.6, position=(41.528564…"
      ]
     },
     "metadata": {},
     "output_type": "display_data"
    },
    {
     "name": "stdout",
     "output_type": "stream",
     "text": [
      "The pink triangles will be removed:\n",
      "No.........................\n"
     ]
    },
    {
     "data": {
      "application/vnd.jupyter.widget-view+json": {
       "model_id": "dbbdc409ac294d75956bf0f9ade26667",
       "version_major": 2,
       "version_minor": 0
      },
      "text/plain": [
       "Renderer(camera=PerspectiveCamera(children=(DirectionalLight(color='white', intensity=0.6, position=(41.528564…"
      ]
     },
     "metadata": {},
     "output_type": "display_data"
    },
    {
     "name": "stdout",
     "output_type": "stream",
     "text": [
      "normal visualization of the fixed result:\n"
     ]
    },
    {
     "data": {
      "application/vnd.jupyter.widget-view+json": {
       "model_id": "f57df7487f9948e2ba3ce9c0a9400ad8",
       "version_major": 2,
       "version_minor": 0
      },
      "text/plain": [
       "Renderer(camera=PerspectiveCamera(children=(DirectionalLight(color='white', intensity=0.6, position=(41.528564…"
      ]
     },
     "metadata": {},
     "output_type": "display_data"
    },
    {
     "data": {
      "application/vnd.jupyter.widget-view+json": {
       "model_id": "1a026307f8b14efab46b95f0f5b34f1f",
       "version_major": 2,
       "version_minor": 0
      },
      "text/plain": [
       "Renderer(camera=PerspectiveCamera(children=(DirectionalLight(color='white', intensity=0.6, position=(41.397497…"
      ]
     },
     "metadata": {},
     "output_type": "display_data"
    },
    {
     "data": {
      "application/vnd.jupyter.widget-view+json": {
       "model_id": "9a3708f6f5dc480a8ab3dd163fe9287e",
       "version_major": 2,
       "version_minor": 0
      },
      "text/plain": [
       "Renderer(camera=PerspectiveCamera(children=(DirectionalLight(color='white', intensity=0.6, position=(41.528564…"
      ]
     },
     "metadata": {},
     "output_type": "display_data"
    },
    {
     "data": {
      "application/vnd.jupyter.widget-view+json": {
       "model_id": "50ca8ac47d284391a693f7ff47dd542a",
       "version_major": 2,
       "version_minor": 0
      },
      "text/plain": [
       "Renderer(camera=PerspectiveCamera(children=(DirectionalLight(color='white', intensity=0.6, position=(41.377281…"
      ]
     },
     "metadata": {},
     "output_type": "display_data"
    },
    {
     "data": {
      "application/vnd.jupyter.widget-view+json": {
       "model_id": "112539a78bab4bc79c8860bdbc335f7c",
       "version_major": 2,
       "version_minor": 0
      },
      "text/plain": [
       "Renderer(camera=PerspectiveCamera(children=(DirectionalLight(color='white', intensity=0.6, position=(41.397497…"
      ]
     },
     "metadata": {},
     "output_type": "display_data"
    },
    {
     "name": "stdout",
     "output_type": "stream",
     "text": [
      "pdl base area is:  189.46\n",
      "mean pdl thickness is:  0.2\n",
      "maximum pdl thickness is:  0.25\n",
      "PDL generation time (s):  13.83\n",
      "generating PDL top for Tooth_7\n",
      "number of triangles after cleaning 11468\n"
     ]
    },
    {
     "data": {
      "application/vnd.jupyter.widget-view+json": {
       "model_id": "670e563df4864c6f97858162bfd15920",
       "version_major": 2,
       "version_minor": 0
      },
      "text/plain": [
       "Renderer(camera=PerspectiveCamera(children=(DirectionalLight(color='white', intensity=0.6, position=(45.385999…"
      ]
     },
     "metadata": {},
     "output_type": "display_data"
    },
    {
     "data": {
      "application/vnd.jupyter.widget-view+json": {
       "model_id": "50c088a28ce743f2b9082d2cea043c3f",
       "version_major": 2,
       "version_minor": 0
      },
      "text/plain": [
       "Renderer(camera=PerspectiveCamera(children=(DirectionalLight(color='white', intensity=0.6, position=(45.385999…"
      ]
     },
     "metadata": {},
     "output_type": "display_data"
    },
    {
     "data": {
      "image/png": "[encoded data removed]",
      "text/plain": [
       "<Figure size 432x288 with 1 Axes>"
      ]
     },
     "metadata": {
      "needs_background": "light"
     },
     "output_type": "display_data"
    },
    {
     "data": {
      "application/vnd.jupyter.widget-view+json": {
       "model_id": "ba226dd05f734ccdbab9bedea6c936f1",
       "version_major": 2,
       "version_minor": 0
      },
      "text/plain": [
       "Renderer(camera=PerspectiveCamera(children=(DirectionalLight(color='white', intensity=0.6, position=(45.437915…"
      ]
     },
     "metadata": {},
     "output_type": "display_data"
    },
    {
     "name": "stdout",
     "output_type": "stream",
     "text": [
      "<meshplot.Viewer.Viewer object at 0x7fde1942dcd0>\n",
      "Base layer: max dihedral angle before smoothing is  0.41 radians ( 23.49 degrees).\n"
     ]
    },
    {
     "data": {
      "application/vnd.jupyter.widget-view+json": {
       "model_id": "ae1b814485c14649a60f8c823d75e7bb",
       "version_major": 2,
       "version_minor": 0
      },
      "text/plain": [
       "Renderer(camera=PerspectiveCamera(children=(DirectionalLight(color='white', intensity=0.6, position=(45.437915…"
      ]
     },
     "metadata": {},
     "output_type": "display_data"
    },
    {
     "name": "stdout",
     "output_type": "stream",
     "text": [
      "Base layer: max dihedral angle after smoothing is  3.13 radians ( 179.34 degrees).\n"
     ]
    },
    {
     "data": {
      "application/vnd.jupyter.widget-view+json": {
       "model_id": "c5316716ad9b4176aaf3bfee918b8e99",
       "version_major": 2,
       "version_minor": 0
      },
      "text/plain": [
       "Renderer(camera=PerspectiveCamera(children=(DirectionalLight(color='white', intensity=0.6, position=(45.437915…"
      ]
     },
     "metadata": {},
     "output_type": "display_data"
    },
    {
     "name": "stdout",
     "output_type": "stream",
     "text": [
      "Quality control results for the base layer: \n",
      "\n",
      "- There are issues with these vertex indices [39, 40, 41, 42]\n",
      "- Solution 1: To prevent this issue, decrease your 'param.smoothing_iteration' to  7\n",
      "- Solution 2: By default the faulty triangles will be removed from the face index list \n",
      "\n",
      "faulty vertices & neighbouring triangles:\n"
     ]
    },
    {
     "data": {
      "application/vnd.jupyter.widget-view+json": {
       "model_id": "50af068e9b7f4cb98496a485b5100485",
       "version_major": 2,
       "version_minor": 0
      },
      "text/plain": [
       "Renderer(camera=PerspectiveCamera(children=(DirectionalLight(color='white', intensity=0.6, position=(45.437915…"
      ]
     },
     "metadata": {},
     "output_type": "display_data"
    },
    {
     "name": "stdout",
     "output_type": "stream",
     "text": [
      "The pink triangles will be removed:\n",
      "No.........................\n"
     ]
    },
    {
     "data": {
      "application/vnd.jupyter.widget-view+json": {
       "model_id": "659274e1e7684b6eb1f3e8b196b64ce3",
       "version_major": 2,
       "version_minor": 0
      },
      "text/plain": [
       "Renderer(camera=PerspectiveCamera(children=(DirectionalLight(color='white', intensity=0.6, position=(45.437915…"
      ]
     },
     "metadata": {},
     "output_type": "display_data"
    },
    {
     "name": "stdout",
     "output_type": "stream",
     "text": [
      "normal visualization of the fixed result:\n"
     ]
    },
    {
     "data": {
      "application/vnd.jupyter.widget-view+json": {
       "model_id": "3064edfbaea440f1aac4e4133ceac776",
       "version_major": 2,
       "version_minor": 0
      },
      "text/plain": [
       "Renderer(camera=PerspectiveCamera(children=(DirectionalLight(color='white', intensity=0.6, position=(45.437915…"
      ]
     },
     "metadata": {},
     "output_type": "display_data"
    },
    {
     "name": "stdout",
     "output_type": "stream",
     "text": [
      "Extruded layer: max dihedral angle before smoothing is  0.41 radians ( 23.49 degrees).\n"
     ]
    },
    {
     "data": {
      "application/vnd.jupyter.widget-view+json": {
       "model_id": "b986a9272a04427bb198eb5bc66c0f5f",
       "version_major": 2,
       "version_minor": 0
      },
      "text/plain": [
       "Renderer(camera=PerspectiveCamera(children=(DirectionalLight(color='white', intensity=0.6, position=(46.160367…"
      ]
     },
     "metadata": {},
     "output_type": "display_data"
    },
    {
     "name": "stdout",
     "output_type": "stream",
     "text": [
      "Extruded layer: max dihedral angle after smoothing is 3.13 radians ( 179.34 degrees).\n"
     ]
    },
    {
     "data": {
      "application/vnd.jupyter.widget-view+json": {
       "model_id": "bcc43154521145daa9a73dcb03a3eba3",
       "version_major": 2,
       "version_minor": 0
      },
      "text/plain": [
       "Renderer(camera=PerspectiveCamera(children=(DirectionalLight(color='white', intensity=0.6, position=(46.160367…"
      ]
     },
     "metadata": {},
     "output_type": "display_data"
    },
    {
     "name": "stdout",
     "output_type": "stream",
     "text": [
      "Quality control results  for the extruded layer: \n",
      "\n",
      "- There are issues with these vertex indices [39, 40, 41, 42, 56, 57, 58]\n",
      "- Solution 1: To prevent this issue, decrease your 'param.smoothing_iteration' to  -1\n",
      "- Solution 2: By default the faulty triangles will be removed from the face index list \n",
      "faulty vertices & neighbouring triangles:\n"
     ]
    },
    {
     "data": {
      "application/vnd.jupyter.widget-view+json": {
       "model_id": "2a8fb06ecc284d709e0a623810d3d5cb",
       "version_major": 2,
       "version_minor": 0
      },
      "text/plain": [
       "Renderer(camera=PerspectiveCamera(children=(DirectionalLight(color='white', intensity=0.6, position=(46.160367…"
      ]
     },
     "metadata": {},
     "output_type": "display_data"
    },
    {
     "name": "stdout",
     "output_type": "stream",
     "text": [
      "The pink triangles will be removed:\n",
      "No.........................\n"
     ]
    },
    {
     "data": {
      "application/vnd.jupyter.widget-view+json": {
       "model_id": "8d3f2f1c235b421eae54d2d4d972fe61",
       "version_major": 2,
       "version_minor": 0
      },
      "text/plain": [
       "Renderer(camera=PerspectiveCamera(children=(DirectionalLight(color='white', intensity=0.6, position=(46.160367…"
      ]
     },
     "metadata": {},
     "output_type": "display_data"
    },
    {
     "name": "stdout",
     "output_type": "stream",
     "text": [
      "normal visualization of the fixed result:\n"
     ]
    },
    {
     "data": {
      "application/vnd.jupyter.widget-view+json": {
       "model_id": "cfe3df4491c6498fabee2944f511c46d",
       "version_major": 2,
       "version_minor": 0
      },
      "text/plain": [
       "Renderer(camera=PerspectiveCamera(children=(DirectionalLight(color='white', intensity=0.6, position=(46.160367…"
      ]
     },
     "metadata": {},
     "output_type": "display_data"
    },
    {
     "data": {
      "application/vnd.jupyter.widget-view+json": {
       "model_id": "6ab645862940462487b1fcac50899120",
       "version_major": 2,
       "version_minor": 0
      },
      "text/plain": [
       "Renderer(camera=PerspectiveCamera(children=(DirectionalLight(color='white', intensity=0.6, position=(45.437915…"
      ]
     },
     "metadata": {},
     "output_type": "display_data"
    },
    {
     "data": {
      "application/vnd.jupyter.widget-view+json": {
       "model_id": "0b2f092b9b8a43b698e7075a5009dc77",
       "version_major": 2,
       "version_minor": 0
      },
      "text/plain": [
       "Renderer(camera=PerspectiveCamera(children=(DirectionalLight(color='white', intensity=0.6, position=(46.160367…"
      ]
     },
     "metadata": {},
     "output_type": "display_data"
    },
    {
     "data": {
      "application/vnd.jupyter.widget-view+json": {
       "model_id": "ae8dcb7a373e4f798691959123277743",
       "version_major": 2,
       "version_minor": 0
      },
      "text/plain": [
       "Renderer(camera=PerspectiveCamera(children=(DirectionalLight(color='white', intensity=0.6, position=(45.883127…"
      ]
     },
     "metadata": {},
     "output_type": "display_data"
    },
    {
     "data": {
      "application/vnd.jupyter.widget-view+json": {
       "model_id": "503e24fd3e7f405fa19b91e2f08ca11e",
       "version_major": 2,
       "version_minor": 0
      },
      "text/plain": [
       "Renderer(camera=PerspectiveCamera(children=(DirectionalLight(color='white', intensity=0.6, position=(45.437915…"
      ]
     },
     "metadata": {},
     "output_type": "display_data"
    },
    {
     "name": "stdout",
     "output_type": "stream",
     "text": [
      "pdl base area is:  158.69\n",
      "mean pdl thickness is:  0.2\n",
      "maximum pdl thickness is:  0.22\n",
      "PDL generation time (s):  11.37\n",
      "generating PDL top for Tooth_8\n",
      "number of triangles after cleaning 12052\n"
     ]
    },
    {
     "data": {
      "application/vnd.jupyter.widget-view+json": {
       "model_id": "b9016f4bbe1c42b5a8bb6d6088b1fbe5",
       "version_major": 2,
       "version_minor": 0
      },
      "text/plain": [
       "Renderer(camera=PerspectiveCamera(children=(DirectionalLight(color='white', intensity=0.6, position=(52.346549…"
      ]
     },
     "metadata": {},
     "output_type": "display_data"
    },
    {
     "data": {
      "application/vnd.jupyter.widget-view+json": {
       "model_id": "82dfb666d8df4000a4ad7ee501df9ffc",
       "version_major": 2,
       "version_minor": 0
      },
      "text/plain": [
       "Renderer(camera=PerspectiveCamera(children=(DirectionalLight(color='white', intensity=0.6, position=(52.346549…"
      ]
     },
     "metadata": {},
     "output_type": "display_data"
    },
    {
     "data": {
      "image/png": "[encoded data removed]",
      "text/plain": [
       "<Figure size 432x288 with 1 Axes>"
      ]
     },
     "metadata": {
      "needs_background": "light"
     },
     "output_type": "display_data"
    },
    {
     "data": {
      "application/vnd.jupyter.widget-view+json": {
       "model_id": "69ff0eccc3e4487eb57e9a6a3066d22d",
       "version_major": 2,
       "version_minor": 0
      },
      "text/plain": [
       "Renderer(camera=PerspectiveCamera(children=(DirectionalLight(color='white', intensity=0.6, position=(52.229814…"
      ]
     },
     "metadata": {},
     "output_type": "display_data"
    },
    {
     "name": "stdout",
     "output_type": "stream",
     "text": [
      "<meshplot.Viewer.Viewer object at 0x7fde14744350>\n",
      "Base layer: max dihedral angle before smoothing is  0.36 radians ( 20.63 degrees).\n"
     ]
    },
    {
     "data": {
      "application/vnd.jupyter.widget-view+json": {
       "model_id": "7884ebdddffb4d0aa4254d2d791661e6",
       "version_major": 2,
       "version_minor": 0
      },
      "text/plain": [
       "Renderer(camera=PerspectiveCamera(children=(DirectionalLight(color='white', intensity=0.6, position=(52.229814…"
      ]
     },
     "metadata": {},
     "output_type": "display_data"
    },
    {
     "name": "stdout",
     "output_type": "stream",
     "text": [
      "Base layer: max dihedral angle after smoothing is  3.14 radians ( 179.91 degrees).\n"
     ]
    },
    {
     "data": {
      "application/vnd.jupyter.widget-view+json": {
       "model_id": "b6d7dc44b89343dd81ff5b701ba84188",
       "version_major": 2,
       "version_minor": 0
      },
      "text/plain": [
       "Renderer(camera=PerspectiveCamera(children=(DirectionalLight(color='white', intensity=0.6, position=(52.229814…"
      ]
     },
     "metadata": {},
     "output_type": "display_data"
    },
    {
     "name": "stdout",
     "output_type": "stream",
     "text": [
      "Quality control results for the base layer: \n",
      "\n",
      "- There are issues with these vertex indices [4, 5, 6, 57, 58, 59, 60]\n",
      "- Solution 1: To prevent this issue, decrease your 'param.smoothing_iteration' to  7\n",
      "- Solution 2: By default the faulty triangles will be removed from the face index list \n",
      "\n",
      "faulty vertices & neighbouring triangles:\n"
     ]
    },
    {
     "data": {
      "application/vnd.jupyter.widget-view+json": {
       "model_id": "4243341cc0f64d47bc8bd74dfeb719ff",
       "version_major": 2,
       "version_minor": 0
      },
      "text/plain": [
       "Renderer(camera=PerspectiveCamera(children=(DirectionalLight(color='white', intensity=0.6, position=(52.229814…"
      ]
     },
     "metadata": {},
     "output_type": "display_data"
    },
    {
     "name": "stdout",
     "output_type": "stream",
     "text": [
      "The pink triangles will be removed:\n",
      "No.........................\n"
     ]
    },
    {
     "data": {
      "application/vnd.jupyter.widget-view+json": {
       "model_id": "ce3abe8808fe4fdfb2fbd05f72a926b1",
       "version_major": 2,
       "version_minor": 0
      },
      "text/plain": [
       "Renderer(camera=PerspectiveCamera(children=(DirectionalLight(color='white', intensity=0.6, position=(52.229814…"
      ]
     },
     "metadata": {},
     "output_type": "display_data"
    },
    {
     "name": "stdout",
     "output_type": "stream",
     "text": [
      "normal visualization of the fixed result:\n"
     ]
    },
    {
     "data": {
      "application/vnd.jupyter.widget-view+json": {
       "model_id": "eef6104f5c56478cb79323ad762806b3",
       "version_major": 2,
       "version_minor": 0
      },
      "text/plain": [
       "Renderer(camera=PerspectiveCamera(children=(DirectionalLight(color='white', intensity=0.6, position=(52.229814…"
      ]
     },
     "metadata": {},
     "output_type": "display_data"
    },
    {
     "name": "stdout",
     "output_type": "stream",
     "text": [
      "Extruded layer: max dihedral angle before smoothing is  3.14 radians ( 179.91 degrees).\n"
     ]
    },
    {
     "data": {
      "application/vnd.jupyter.widget-view+json": {
       "model_id": "95dc869bf0ad42068c99ce21e590a6e0",
       "version_major": 2,
       "version_minor": 0
      },
      "text/plain": [
       "Renderer(camera=PerspectiveCamera(children=(DirectionalLight(color='white', intensity=0.6, position=(51.861776…"
      ]
     },
     "metadata": {},
     "output_type": "display_data"
    },
    {
     "name": "stdout",
     "output_type": "stream",
     "text": [
      "Extruded layer: max dihedral angle after smoothing is 3.14 radians ( 179.91 degrees).\n"
     ]
    },
    {
     "data": {
      "application/vnd.jupyter.widget-view+json": {
       "model_id": "2f0740b9c72c4a249df07cd59b733811",
       "version_major": 2,
       "version_minor": 0
      },
      "text/plain": [
       "Renderer(camera=PerspectiveCamera(children=(DirectionalLight(color='white', intensity=0.6, position=(51.861776…"
      ]
     },
     "metadata": {},
     "output_type": "display_data"
    },
    {
     "name": "stdout",
     "output_type": "stream",
     "text": [
      "Quality control results  for the extruded layer: \n",
      "\n",
      "- There are issues with these vertex indices [3, 4, 5, 6, 57, 58, 59, 60]\n",
      "- Solution 1: To prevent this issue, decrease your 'param.smoothing_iteration' to  -1\n",
      "- Solution 2: By default the faulty triangles will be removed from the face index list \n",
      "faulty vertices & neighbouring triangles:\n"
     ]
    },
    {
     "data": {
      "application/vnd.jupyter.widget-view+json": {
       "model_id": "85e65b326f2b4c748ea10571de7f5db6",
       "version_major": 2,
       "version_minor": 0
      },
      "text/plain": [
       "Renderer(camera=PerspectiveCamera(children=(DirectionalLight(color='white', intensity=0.6, position=(51.861776…"
      ]
     },
     "metadata": {},
     "output_type": "display_data"
    },
    {
     "name": "stdout",
     "output_type": "stream",
     "text": [
      "The pink triangles will be removed:\n",
      "No.........................\n"
     ]
    },
    {
     "data": {
      "application/vnd.jupyter.widget-view+json": {
       "model_id": "13a2b54d7545409b8f1ab7be4b42c219",
       "version_major": 2,
       "version_minor": 0
      },
      "text/plain": [
       "Renderer(camera=PerspectiveCamera(children=(DirectionalLight(color='white', intensity=0.6, position=(51.861776…"
      ]
     },
     "metadata": {},
     "output_type": "display_data"
    },
    {
     "name": "stdout",
     "output_type": "stream",
     "text": [
      "normal visualization of the fixed result:\n"
     ]
    },
    {
     "data": {
      "application/vnd.jupyter.widget-view+json": {
       "model_id": "8cdee11d7ae248708cf64a36fc862057",
       "version_major": 2,
       "version_minor": 0
      },
      "text/plain": [
       "Renderer(camera=PerspectiveCamera(children=(DirectionalLight(color='white', intensity=0.6, position=(51.861776…"
      ]
     },
     "metadata": {},
     "output_type": "display_data"
    },
    {
     "data": {
      "application/vnd.jupyter.widget-view+json": {
       "model_id": "7fecede150a746f7bc081636a25b67f5",
       "version_major": 2,
       "version_minor": 0
      },
      "text/plain": [
       "Renderer(camera=PerspectiveCamera(children=(DirectionalLight(color='white', intensity=0.6, position=(52.229814…"
      ]
     },
     "metadata": {},
     "output_type": "display_data"
    },
    {
     "data": {
      "application/vnd.jupyter.widget-view+json": {
       "model_id": "8f705415f60c4678995e8c352933e160",
       "version_major": 2,
       "version_minor": 0
      },
      "text/plain": [
       "Renderer(camera=PerspectiveCamera(children=(DirectionalLight(color='white', intensity=0.6, position=(51.861776…"
      ]
     },
     "metadata": {},
     "output_type": "display_data"
    },
    {
     "data": {
      "application/vnd.jupyter.widget-view+json": {
       "model_id": "ad8fa1ce816a43f9aec9f4894d491805",
       "version_major": 2,
       "version_minor": 0
      },
      "text/plain": [
       "Renderer(camera=PerspectiveCamera(children=(DirectionalLight(color='white', intensity=0.6, position=(51.743841…"
      ]
     },
     "metadata": {},
     "output_type": "display_data"
    },
    {
     "data": {
      "application/vnd.jupyter.widget-view+json": {
       "model_id": "cbd827c4155f4df7941ef2b62bb10ffe",
       "version_major": 2,
       "version_minor": 0
      },
      "text/plain": [
       "Renderer(camera=PerspectiveCamera(children=(DirectionalLight(color='white', intensity=0.6, position=(52.229814…"
      ]
     },
     "metadata": {},
     "output_type": "display_data"
    },
    {
     "name": "stdout",
     "output_type": "stream",
     "text": [
      "pdl base area is:  141.27\n",
      "mean pdl thickness is:  0.2\n",
      "maximum pdl thickness is:  0.21\n",
      "PDL generation time (s):  11.24\n",
      "generating PDL top for Tooth_9\n",
      "number of triangles after cleaning 12572\n"
     ]
    },
    {
     "data": {
      "application/vnd.jupyter.widget-view+json": {
       "model_id": "9bdd3da86cf649dfaec65ac30c1c2354",
       "version_major": 2,
       "version_minor": 0
      },
      "text/plain": [
       "Renderer(camera=PerspectiveCamera(children=(DirectionalLight(color='white', intensity=0.6, position=(60.305849…"
      ]
     },
     "metadata": {},
     "output_type": "display_data"
    },
    {
     "data": {
      "application/vnd.jupyter.widget-view+json": {
       "model_id": "31018173bca44e9989bfe8154056abba",
       "version_major": 2,
       "version_minor": 0
      },
      "text/plain": [
       "Renderer(camera=PerspectiveCamera(children=(DirectionalLight(color='white', intensity=0.6, position=(60.305849…"
      ]
     },
     "metadata": {},
     "output_type": "display_data"
    },
    {
     "data": {
      "image/png": "[encoded data removed]",
      "text/plain": [
       "<Figure size 432x288 with 1 Axes>"
      ]
     },
     "metadata": {
      "needs_background": "light"
     },
     "output_type": "display_data"
    },
    {
     "data": {
      "application/vnd.jupyter.widget-view+json": {
       "model_id": "d37713b376af48b6995fe750ec8d06dd",
       "version_major": 2,
       "version_minor": 0
      },
      "text/plain": [
       "Renderer(camera=PerspectiveCamera(children=(DirectionalLight(color='white', intensity=0.6, position=(60.256357…"
      ]
     },
     "metadata": {},
     "output_type": "display_data"
    },
    {
     "name": "stdout",
     "output_type": "stream",
     "text": [
      "<meshplot.Viewer.Viewer object at 0x7fde13f53510>\n",
      "Base layer: max dihedral angle before smoothing is  0.32 radians ( 18.33 degrees).\n"
     ]
    },
    {
     "data": {
      "application/vnd.jupyter.widget-view+json": {
       "model_id": "c9f182541c6f4748af60619e8e26a70a",
       "version_major": 2,
       "version_minor": 0
      },
      "text/plain": [
       "Renderer(camera=PerspectiveCamera(children=(DirectionalLight(color='white', intensity=0.6, position=(60.256357…"
      ]
     },
     "metadata": {},
     "output_type": "display_data"
    },
    {
     "name": "stdout",
     "output_type": "stream",
     "text": [
      "Base layer: max dihedral angle after smoothing is  0.42 radians ( 24.06 degrees).\n"
     ]
    },
    {
     "data": {
      "application/vnd.jupyter.widget-view+json": {
       "model_id": "4cceb8f8d53c4e64b84f6be11328ef1d",
       "version_major": 2,
       "version_minor": 0
      },
      "text/plain": [
       "Renderer(camera=PerspectiveCamera(children=(DirectionalLight(color='white', intensity=0.6, position=(60.256357…"
      ]
     },
     "metadata": {},
     "output_type": "display_data"
    },
    {
     "name": "stdout",
     "output_type": "stream",
     "text": [
      "Quality control results for the base layer: \n",
      "\n",
      "Everything is clean in the base layer. we will now continue to extrusion step:\n",
      "\n",
      "Extruded layer: max dihedral angle before smoothing is  0.35 radians ( 20.05 degrees).\n"
     ]
    },
    {
     "data": {
      "application/vnd.jupyter.widget-view+json": {
       "model_id": "49eb78b43e8a4483994cd2fd8a5ef151",
       "version_major": 2,
       "version_minor": 0
      },
      "text/plain": [
       "Renderer(camera=PerspectiveCamera(children=(DirectionalLight(color='white', intensity=0.6, position=(59.234657…"
      ]
     },
     "metadata": {},
     "output_type": "display_data"
    },
    {
     "name": "stdout",
     "output_type": "stream",
     "text": [
      "Extruded layer: max dihedral angle after smoothing is 3.14 radians ( 179.91 degrees).\n"
     ]
    },
    {
     "data": {
      "application/vnd.jupyter.widget-view+json": {
       "model_id": "d23849d85a764ad39633cd59f91cbf0b",
       "version_major": 2,
       "version_minor": 0
      },
      "text/plain": [
       "Renderer(camera=PerspectiveCamera(children=(DirectionalLight(color='white', intensity=0.6, position=(59.234657…"
      ]
     },
     "metadata": {},
     "output_type": "display_data"
    },
    {
     "name": "stdout",
     "output_type": "stream",
     "text": [
      "Quality control results  for the extruded layer: \n",
      "\n",
      "- There are issues with these vertex indices [3, 4, 5, 53, 54]\n",
      "- Solution 1: To prevent this issue, decrease your 'param.smoothing_iteration' to  4\n",
      "- Solution 2: By default the faulty triangles will be removed from the face index list \n",
      "faulty vertices & neighbouring triangles:\n"
     ]
    },
    {
     "data": {
      "application/vnd.jupyter.widget-view+json": {
       "model_id": "684dc11f52974ac487c097157236ded3",
       "version_major": 2,
       "version_minor": 0
      },
      "text/plain": [
       "Renderer(camera=PerspectiveCamera(children=(DirectionalLight(color='white', intensity=0.6, position=(59.234657…"
      ]
     },
     "metadata": {},
     "output_type": "display_data"
    },
    {
     "name": "stdout",
     "output_type": "stream",
     "text": [
      "The pink triangles will be removed:\n",
      "No.........................\n"
     ]
    },
    {
     "data": {
      "application/vnd.jupyter.widget-view+json": {
       "model_id": "bf23b1f7cd4644598b8bd7cf96626a58",
       "version_major": 2,
       "version_minor": 0
      },
      "text/plain": [
       "Renderer(camera=PerspectiveCamera(children=(DirectionalLight(color='white', intensity=0.6, position=(59.234657…"
      ]
     },
     "metadata": {},
     "output_type": "display_data"
    },
    {
     "name": "stdout",
     "output_type": "stream",
     "text": [
      "normal visualization of the fixed result:\n"
     ]
    },
    {
     "data": {
      "application/vnd.jupyter.widget-view+json": {
       "model_id": "8bde65fc2fcd44fd98201c5e150c4f9d",
       "version_major": 2,
       "version_minor": 0
      },
      "text/plain": [
       "Renderer(camera=PerspectiveCamera(children=(DirectionalLight(color='white', intensity=0.6, position=(59.234657…"
      ]
     },
     "metadata": {},
     "output_type": "display_data"
    },
    {
     "data": {
      "application/vnd.jupyter.widget-view+json": {
       "model_id": "341405703cf8459888900e14766e6c54",
       "version_major": 2,
       "version_minor": 0
      },
      "text/plain": [
       "Renderer(camera=PerspectiveCamera(children=(DirectionalLight(color='white', intensity=0.6, position=(60.256357…"
      ]
     },
     "metadata": {},
     "output_type": "display_data"
    },
    {
     "data": {
      "application/vnd.jupyter.widget-view+json": {
       "model_id": "008a2f54cd5e4935ac6e2e5c50eebc09",
       "version_major": 2,
       "version_minor": 0
      },
      "text/plain": [
       "Renderer(camera=PerspectiveCamera(children=(DirectionalLight(color='white', intensity=0.6, position=(59.234657…"
      ]
     },
     "metadata": {},
     "output_type": "display_data"
    },
    {
     "data": {
      "application/vnd.jupyter.widget-view+json": {
       "model_id": "4da18d1bd5824f9dbb2e7cb188566a5d",
       "version_major": 2,
       "version_minor": 0
      },
      "text/plain": [
       "Renderer(camera=PerspectiveCamera(children=(DirectionalLight(color='white', intensity=0.6, position=(59.136093…"
      ]
     },
     "metadata": {},
     "output_type": "display_data"
    },
    {
     "data": {
      "application/vnd.jupyter.widget-view+json": {
       "model_id": "fb025a2745e64537a64bb27ff9e8b461",
       "version_major": 2,
       "version_minor": 0
      },
      "text/plain": [
       "Renderer(camera=PerspectiveCamera(children=(DirectionalLight(color='white', intensity=0.6, position=(60.256357…"
      ]
     },
     "metadata": {},
     "output_type": "display_data"
    },
    {
     "name": "stdout",
     "output_type": "stream",
     "text": [
      "pdl base area is:  160.41\n",
      "mean pdl thickness is:  0.2\n",
      "maximum pdl thickness is:  0.21\n",
      "PDL generation time (s):  12.39\n",
      "PDL generation time (s):  234.02\n"
     ]
    }
   ],
   "source": [
    "# these two parameters were the same across all patients models. Note that, changing these values can extremly affect the hight of the PDL geometries. \n",
    "# params.rim_thickness_factor     =  1\n",
    "# params.rim_trim_iter            =  2\n",
    "\n",
    "# the following parameters are the ones that can be adjusted based on the patient-specific geometries.\n",
    "params.rim_distance_rest        =  0.26\n",
    "params.rim_distance_molars      =  0.28  #0.3\n",
    "params.rim_smooth_iter_base     =  16    #8 #10\n",
    "params.rim_smooth_iter_extruded_base  = 10  #5 #7\n",
    "\n",
    "\n",
    "cargen_bone_input = mid_o_bone_dir + \"bone_temp.obj\"\n",
    "params.input_dir     =  mid_o_teeth_dir\n",
    "params.input_fname   =  'tooth_{}_temp.obj' # Note that the file name should include a {}, as the {} will be replaced by tooth unn number in the following funtion, e.g., tooth_18_temp.obj\n",
    "params.output_fname  =  'pdl_{}_top.obj' # Note that the file name should include a {}, as the {} will be replaced by pdl's unn number in the following funtion, e.g., pdl_18_top.obj corresponds to the pdl rim associated with tooth 18.\n",
    "params.output_dir    =  mid_o_pdl_dir\n",
    "\n",
    "OpenFullJaw.generate_pdls_rims(cargen_bone_input, mid_o_teeth_dir, unn, impacted, params)"
   ]
  },
  {
   "cell_type": "markdown",
   "id": "pretty-circumstances",
   "metadata": {},
   "source": [
    "### 3.2. Combine all PDL rims "
   ]
  },
  {
   "cell_type": "code",
   "execution_count": 10,
   "id": "assumed-ceremony",
   "metadata": {},
   "outputs": [],
   "source": [
    "# unn = np.load(mid_o_dir + 'unn.npy')\n",
    "# centers = np.load(mid_o_dir + 'centers.npy')\n",
    "# impacted = np.load(mid_o_dir + 'impacted_teeth.npy')"
   ]
  },
  {
   "cell_type": "code",
   "execution_count": 11,
   "id": "unlimited-prototype",
   "metadata": {
    "scrolled": true
   },
   "outputs": [
    {
     "name": "stderr",
     "output_type": "stream",
     "text": [
      "/home/torkan/anaconda3/lib/python3.7/site-packages/ipykernel_launcher.py:8: FutureWarning: elementwise comparison failed; returning scalar instead, but in the future will perform elementwise comparison\n",
      "  \n"
     ]
    },
    {
     "data": {
      "application/vnd.jupyter.widget-view+json": {
       "model_id": "3986f21f4fcc416593e729e3e1b903aa",
       "version_major": 2,
       "version_minor": 0
      },
      "text/plain": [
       "Renderer(camera=PerspectiveCamera(children=(DirectionalLight(color='white', intensity=0.6, position=(52.903276…"
      ]
     },
     "metadata": {},
     "output_type": "display_data"
    },
    {
     "data": {
      "text/plain": [
       "True"
      ]
     },
     "execution_count": 11,
     "metadata": {},
     "output_type": "execute_result"
    }
   ],
   "source": [
    "#----------------------------------------------------- Merge all pdl tops\n",
    "\n",
    "firt_time = True\n",
    "# unn = np.load ( mid_o_dir + \"unn.npy\" )\n",
    "\n",
    "for i in unn:\n",
    "    \n",
    "    if i in impacted:\n",
    "        continue\n",
    "        \n",
    "    v, f = igl.read_triangle_mesh( mid_o_pdl_dir + \"pdl_{}_top.obj\".format(i) )    \n",
    "        \n",
    "    if firt_time:\n",
    "        pdls_v = v\n",
    "        pdls_f = f\n",
    "        firt_time = False      \n",
    "    else: \n",
    "        pdls_v, pdls_f = merge_surface_mesh ( pdls_v, pdls_f, v, f )\n",
    "        \n",
    "frame3 = mp.plot (pdls_v, pdls_f, c = pdl_c, shading = sh_false, return_plot = True)\n",
    "igl.write_triangle_mesh ( mid_o_pdl_dir + \"/all_pdls_tops.obj\", pdls_v, pdls_f)"
   ]
  },
  {
   "cell_type": "markdown",
   "id": "labeled-change",
   "metadata": {},
   "source": [
    "### 3.3. Make the PDL rim wider\n",
    "This step is essential for the next step (the multi-domain volumetric mesh generation). This is to make sure that even with slight deviations from the input meshes, still the PDL rims can be used for proper filtering of the generated tetrahedrons."
   ]
  },
  {
   "cell_type": "code",
   "execution_count": 12,
   "id": "dated-partition",
   "metadata": {},
   "outputs": [
    {
     "data": {
      "application/vnd.jupyter.widget-view+json": {
       "model_id": "7d41a519943445a7aa22648e9b95786d",
       "version_major": 2,
       "version_minor": 0
      },
      "text/plain": [
       "Renderer(camera=PerspectiveCamera(children=(DirectionalLight(color='white', intensity=0.6, position=(52.903276…"
      ]
     },
     "metadata": {},
     "output_type": "display_data"
    },
    {
     "name": "stdout",
     "output_type": "stream",
     "text": [
      "Zoom-in on one of the PDL rims to see further details.\n",
      "Red points   : the points that are in contact with the tooth.\n",
      "Blue points  : the points that are in contact with the bone.\n",
      "Green points : the points of the wider PDL rim to be used as the input of the multi-domain meshing process.\n"
     ]
    }
   ],
   "source": [
    "sh_p_x = { \"point_size\": 0.5, \"point_color\": \"red\" }\n",
    "sh_p_y = { \"point_size\": 0.55, \"point_color\": \"green\" }\n",
    "sh_p_z = { \"point_size\": 0.5, \"point_color\": \"blue\" }\n",
    "\n",
    "path_teeth = mid_o_teeth_dir + \"all_teeth_temp.obj\"   # includes the impacted teeth as well\n",
    "path_pdl   = mid_o_pdl_dir   + \"all_pdls_tops.obj\"\n",
    "path_bone  = mid_o_bone_dir  + \"bone_temp.obj\"\n",
    "\n",
    "params.output_fname  =  'all_pdls_tops_wider.obj' \n",
    "params.output_dir    =  mid_o_pdl_dir\n",
    "\n",
    "OpenFullJaw.make_pdl_rim_wider(path_teeth, path_pdl, path_bone, params)\n",
    "    "
   ]
  },
  {
   "cell_type": "markdown",
   "id": "attended-torture",
   "metadata": {},
   "source": [
    "## 4. Multi-domain volumetric mesh generation (gluing the teeth, pdl rims, and bone)"
   ]
  },
  {
   "cell_type": "markdown",
   "id": "coordinate-stage",
   "metadata": {},
   "source": [
    "### 4.1. Sanity check the bone mesh for patients with fully impacted teeth \n",
    "The preprocessing step on the bone eliminates the tooth socket for the fully-impacted teeth as meshing artifacts. Therefore, we need to add those teeth sockets to the bone geometry before the multi-domain meshing process."
   ]
  },
  {
   "cell_type": "code",
   "execution_count": 13,
   "id": "found-violin",
   "metadata": {},
   "outputs": [
    {
     "name": "stdout",
     "output_type": "stream",
     "text": [
      "----> sanitiy check of (bone_temp) mesh\n"
     ]
    },
    {
     "data": {
      "application/vnd.jupyter.widget-view+json": {
       "model_id": "7ee294ee67364175ab13b47d7d37972a",
       "version_major": 2,
       "version_minor": 0
      },
      "text/plain": [
       "Renderer(camera=PerspectiveCamera(children=(DirectionalLight(color='white', intensity=0.6, position=(53.690155…"
      ]
     },
     "metadata": {},
     "output_type": "display_data"
    }
   ],
   "source": [
    "path_bone   = mid_o_bone_dir + \"bone_temp.obj\"\n",
    "v_b, f_b = igl.read_triangle_mesh(path_bone)\n",
    "\n",
    "mesh_sanity_check(v_b, f_b, 2, 0.7, 'bone_temp')\n",
    "\n",
    "for i in impacted:\n",
    "    v, f = igl.read_triangle_mesh(teeth_dir + 'tooth_' + i + '_impacted.stl')\n",
    "    f = flip_normals(f)\n",
    "    v_b, f_b = merge_surface_mesh(v_b, f_b, v, f, 'bone_temp with the fully-impacted tooth socket')\n",
    "if impacted.size != 0:\n",
    "    mesh_sanity_check(v_b, f_b, 2,0.7)\n",
    "    igl.write_triangle_mesh(mid_o_bone_dir + \"bone_temp.obj\", v_b, f_b)"
   ]
  },
  {
   "cell_type": "markdown",
   "id": "resistant-detector",
   "metadata": {},
   "source": [
    "### 4.2. Generate a volumetric mesh by gluing input surface meshes using a CSG operation"
   ]
  },
  {
   "cell_type": "code",
   "execution_count": 14,
   "id": "digital-compilation",
   "metadata": {},
   "outputs": [
    {
     "name": "stdout",
     "output_type": "stream",
     "text": [
      "{\n",
      "    \"operation\": \"union\",\n",
      "    \"left\": \"/home/torkan/diku_codes/Torkan/Open-Full-Jaw/dataset/Patient_26/mid-output/maxilla/teeth/all_teeth_temp.obj\",\n",
      "    \"right\": {\n",
      "        \"operation\": \"union\",\n",
      "        \"left\": \"/home/torkan/diku_codes/Torkan/Open-Full-Jaw/dataset/Patient_26/mid-output/maxilla/pdl/all_pdls_tops_wider.obj\",\n",
      "        \"right\": \"/home/torkan/diku_codes/Torkan/Open-Full-Jaw/dataset/Patient_26/mid-output/maxilla/bone/bone_temp.obj\"\n",
      "    }\n",
      "}\n",
      "/home/torkan/diku_codes/Torkan/Open-Full-Jaw/dataset/Patient_26/mid-output/maxilla/glued/merge_meshes.json\n",
      "output_path :  /home/torkan/diku_codes/Torkan/Open-Full-Jaw/dataset/Patient_26/mid-output/maxilla/glued/output_mesh_with_eps_0.0002_l_0.05\n",
      "gluing time (s):  493.71\n"
     ]
    }
   ],
   "source": [
    "### 1. Go to the main directory\n",
    "os.chdir(main_dir)\n",
    "\n",
    "path_teeth = mid_o_teeth_dir + \"all_teeth_temp.obj\"\n",
    "path_pdl   = mid_o_pdl_dir   + \"all_pdls_tops_wider.obj\"\n",
    "path_bone  = mid_o_bone_dir  + \"bone_temp.obj\"\n",
    "    \n",
    "# update json path to a new directory\n",
    "params.volume_mesh_json_path       =  mid_o_glued_dir + 'merge_meshes.json'\n",
    "params.volume_mesh_operation_type  =  'union'\n",
    "\n",
    "# change the mesh parameters to desired values\n",
    "params.volume_mesh_eps  =  2e-4\n",
    "params.volume_mesh_l    =  0.05    \n",
    "params.max_iter         =  20\n",
    "params.output_dir       =  mid_o_glued_dir  \n",
    "params.output_fname     =  'output_mesh' \n",
    "\n",
    "### Generate unlabeled volumetric mesh that considers multi-domains and includes the background mesh\n",
    "V, T, gluing_info = OpenFullJaw.generate_raw_mesh(path_teeth, path_pdl, path_bone, params)\n"
   ]
  },
  {
   "cell_type": "markdown",
   "id": "encouraging-intermediate",
   "metadata": {},
   "source": [
    "## 5. Tetrahedra filtering (tetrahedra labeling)\n",
    "In this step, all tetrahedra of the \"raw mesh\" are labelled with their associated domain and the background tetrahedra are labeled with 0 to be filtered out from the volumetric mesh.  "
   ]
  },
  {
   "cell_type": "code",
   "execution_count": 16,
   "id": "changing-apple",
   "metadata": {
    "scrolled": false
   },
   "outputs": [
    {
     "name": "stdout",
     "output_type": "stream",
     "text": [
      "----> sanitiy check of (tooth) mesh\n"
     ]
    },
    {
     "data": {
      "application/vnd.jupyter.widget-view+json": {
       "model_id": "3b85d02dffd14a56ad754595e71b2485",
       "version_major": 2,
       "version_minor": 0
      },
      "text/plain": [
       "Renderer(camera=PerspectiveCamera(children=(DirectionalLight(color='white', intensity=0.6, position=(53.084100…"
      ]
     },
     "metadata": {},
     "output_type": "display_data"
    },
    {
     "name": "stdout",
     "output_type": "stream",
     "text": [
      "----> sanitiy check of (bone) mesh\n"
     ]
    },
    {
     "data": {
      "application/vnd.jupyter.widget-view+json": {
       "model_id": "ad255b7b40b14ef6b419c41072c0c10f",
       "version_major": 2,
       "version_minor": 0
      },
      "text/plain": [
       "Renderer(camera=PerspectiveCamera(children=(DirectionalLight(color='white', intensity=0.6, position=(53.690155…"
      ]
     },
     "metadata": {},
     "output_type": "display_data"
    },
    {
     "name": "stdout",
     "output_type": "stream",
     "text": [
      "----> sanitiy check of (pdl) mesh\n"
     ]
    },
    {
     "data": {
      "application/vnd.jupyter.widget-view+json": {
       "model_id": "4c60f04ab84047ae9c39a0b6b54ef1e8",
       "version_major": 2,
       "version_minor": 0
      },
      "text/plain": [
       "Renderer(camera=PerspectiveCamera(children=(DirectionalLight(color='white', intensity=0.6, position=(52.901501…"
      ]
     },
     "metadata": {},
     "output_type": "display_data"
    },
    {
     "name": "stdout",
     "output_type": "stream",
     "text": [
      "----> step0: hollow of teeth\n"
     ]
    },
    {
     "data": {
      "application/vnd.jupyter.widget-view+json": {
       "model_id": "7dca1136260f4c859db1880032aa774b",
       "version_major": 2,
       "version_minor": 0
      },
      "text/plain": [
       "Renderer(camera=PerspectiveCamera(children=(DirectionalLight(color='white', intensity=0.6, position=(53.529715…"
      ]
     },
     "metadata": {},
     "output_type": "display_data"
    },
    {
     "name": "stdout",
     "output_type": "stream",
     "text": [
      "----> step0: hollow of bone\n"
     ]
    },
    {
     "data": {
      "application/vnd.jupyter.widget-view+json": {
       "model_id": "42372a75130c4543a930c04e9aa98356",
       "version_major": 2,
       "version_minor": 0
      },
      "text/plain": [
       "Renderer(camera=PerspectiveCamera(children=(DirectionalLight(color='white', intensity=0.6, position=(53.529715…"
      ]
     },
     "metadata": {},
     "output_type": "display_data"
    },
    {
     "name": "stdout",
     "output_type": "stream",
     "text": [
      "----> step0: hollow of bone, plane cut \n"
     ]
    },
    {
     "data": {
      "application/vnd.jupyter.widget-view+json": {
       "model_id": "6b621f6463814494aab144df5e48d370",
       "version_major": 2,
       "version_minor": 0
      },
      "text/plain": [
       "Renderer(camera=PerspectiveCamera(children=(DirectionalLight(color='white', intensity=0.6, position=(53.529715…"
      ]
     },
     "metadata": {},
     "output_type": "display_data"
    },
    {
     "name": "stdout",
     "output_type": "stream",
     "text": [
      "----> step1: intersection of hollow of teeth and the hollow of the bone\n"
     ]
    },
    {
     "data": {
      "application/vnd.jupyter.widget-view+json": {
       "model_id": "2fb9412f644b49f7b7733a7a3164bd99",
       "version_major": 2,
       "version_minor": 0
      },
      "text/plain": [
       "Renderer(camera=PerspectiveCamera(children=(DirectionalLight(color='white', intensity=0.6, position=(53.529715…"
      ]
     },
     "metadata": {},
     "output_type": "display_data"
    },
    {
     "name": "stdout",
     "output_type": "stream",
     "text": [
      "----> step0: hollow of bone, plane cut \n"
     ]
    },
    {
     "data": {
      "application/vnd.jupyter.widget-view+json": {
       "model_id": "aa123bd8918b41d4940460a9b27da796",
       "version_major": 2,
       "version_minor": 0
      },
      "text/plain": [
       "Renderer(camera=PerspectiveCamera(children=(DirectionalLight(color='white', intensity=0.6, position=(53.529715…"
      ]
     },
     "metadata": {},
     "output_type": "display_data"
    },
    {
     "name": "stdout",
     "output_type": "stream",
     "text": [
      "----> step2: positive winding numbers w.r.t. PDL rings\n"
     ]
    },
    {
     "data": {
      "application/vnd.jupyter.widget-view+json": {
       "model_id": "9681979b804d4e298e13c3b5697bf14f",
       "version_major": 2,
       "version_minor": 0
      },
      "text/plain": [
       "Renderer(camera=PerspectiveCamera(children=(DirectionalLight(color='white', intensity=0.6, position=(53.529715…"
      ]
     },
     "metadata": {},
     "output_type": "display_data"
    },
    {
     "name": "stdout",
     "output_type": "stream",
     "text": [
      "----> step3: intersection of step1 and step2\n"
     ]
    },
    {
     "data": {
      "application/vnd.jupyter.widget-view+json": {
       "model_id": "8bce359fe6c24b1ea29570981dd1e492",
       "version_major": 2,
       "version_minor": 0
      },
      "text/plain": [
       "Renderer(camera=PerspectiveCamera(children=(DirectionalLight(color='white', intensity=0.6, position=(53.529715…"
      ]
     },
     "metadata": {},
     "output_type": "display_data"
    },
    {
     "name": "stdout",
     "output_type": "stream",
     "text": [
      "----> final result for PDL geometries\n"
     ]
    },
    {
     "data": {
      "application/vnd.jupyter.widget-view+json": {
       "model_id": "d5502d05d77a48509243c40fe53a593e",
       "version_major": 2,
       "version_minor": 0
      },
      "text/plain": [
       "Renderer(camera=PerspectiveCamera(children=(DirectionalLight(color='white', intensity=0.6, position=(53.529715…"
      ]
     },
     "metadata": {},
     "output_type": "display_data"
    },
    {
     "name": "stdout",
     "output_type": "stream",
     "text": [
      "----> Pipeline input meshes:\n",
      "Bone_temp, PDL_rims_wide, Teeth_temp\n"
     ]
    },
    {
     "data": {
      "application/vnd.jupyter.widget-view+json": {
       "model_id": "866e99215e094bbe99e14fed93ac3192",
       "version_major": 2,
       "version_minor": 0
      },
      "text/plain": [
       "Renderer(camera=PerspectiveCamera(children=(DirectionalLight(color='white', intensity=0.6, position=(53.690155…"
      ]
     },
     "metadata": {},
     "output_type": "display_data"
    },
    {
     "name": "stdout",
     "output_type": "stream",
     "text": [
      "----> The labelled tetrahedra:\n",
      "Bone, PDL, Teeth\n"
     ]
    },
    {
     "data": {
      "application/vnd.jupyter.widget-view+json": {
       "model_id": "0a657b6b4a864465b68bc9a401f5f459",
       "version_major": 2,
       "version_minor": 0
      },
      "text/plain": [
       "Renderer(camera=PerspectiveCamera(children=(DirectionalLight(color='white', intensity=0.6, position=(53.529715…"
      ]
     },
     "metadata": {},
     "output_type": "display_data"
    },
    {
     "data": {
      "application/vnd.jupyter.widget-view+json": {
       "model_id": "6628c591e9324b83b644f78d0039b60e",
       "version_major": 2,
       "version_minor": 0
      },
      "text/plain": [
       "Renderer(camera=PerspectiveCamera(children=(DirectionalLight(color='white', intensity=0.6, position=(53.529715…"
      ]
     },
     "metadata": {},
     "output_type": "display_data"
    },
    {
     "data": {
      "application/vnd.jupyter.widget-view+json": {
       "model_id": "0e4b0adc235240ea871b6d63836d93c7",
       "version_major": 2,
       "version_minor": 0
      },
      "text/plain": [
       "Renderer(camera=PerspectiveCamera(children=(DirectionalLight(color='white', intensity=0.6, position=(53.529715…"
      ]
     },
     "metadata": {},
     "output_type": "display_data"
    },
    {
     "name": "stdout",
     "output_type": "stream",
     "text": [
      "saved the volume mesh at  /home/torkan/diku_codes/Torkan/Open-Full-Jaw/dataset/Patient_26/output/maxilla/volumetric_meshes/maxilla_volumetric_mesh.msh\n",
      "labeling time (s):  65.62\n"
     ]
    }
   ],
   "source": [
    "### Label the whole volume w.r.t input meshes\n",
    "t3 = time.time()\n",
    "V_new, T_new, L = OpenFullJaw.label_raw_mesh(V, T, path_teeth, path_pdl, path_bone, params)\n",
    "\n",
    "if impacted.size != 0: # fix the labeling for the impacted teeth\n",
    "    _, L = OpenFullJaw.label_impacted_pdl(V_new, T_new, L, teeth_dir, mid_o_teeth_dir, impacted)\n",
    "\n",
    "t4 = time.time()\n",
    "\n",
    "### Save labeled mesh\n",
    "save_vol_mesh(V_new, T_new, L, o_vol_dir + jaw_type + '_volumetric_mesh.msh')\n",
    "print('saved the volume mesh at ', o_vol_dir + jaw_type + '_volumetric_mesh.msh')\n",
    "\n",
    "label_time = np.round(t4 - t3, 2)\n",
    "print(\"labeling time (s): \", label_time)\n",
    "\n",
    "gluing_info ['labeling_time'] = label_time\n",
    "params.params_log_info['gluing_parameters'] =  gluing_info"
   ]
  },
  {
   "cell_type": "code",
   "execution_count": 17,
   "id": "oriented-termination",
   "metadata": {},
   "outputs": [],
   "source": [
    "# unn = np.load(mid_o_dir + 'unn.npy')\n",
    "# centers = np.load(mid_o_dir + 'centers.npy')\n",
    "# impacted = np.load(mid_o_dir + 'impacted_teeth.npy')\n"
   ]
  },
  {
   "cell_type": "markdown",
   "id": "competitive-toddler",
   "metadata": {},
   "source": [
    "## 6.Sanity check for PDL width and save final surface meshes."
   ]
  },
  {
   "cell_type": "code",
   "execution_count": 18,
   "id": "single-disclaimer",
   "metadata": {
    "scrolled": false
   },
   "outputs": [
    {
     "data": {
      "application/vnd.jupyter.widget-view+json": {
       "model_id": "6c310c875b394b8db18f0a8689c66a4f",
       "version_major": 2,
       "version_minor": 0
      },
      "text/plain": [
       "Renderer(camera=PerspectiveCamera(children=(DirectionalLight(color='white', intensity=0.6, position=(52.910750…"
      ]
     },
     "metadata": {},
     "output_type": "display_data"
    },
    {
     "name": "stdout",
     "output_type": "stream",
     "text": [
      "{'min_thickness': 0.149718626684881, 'max_thickness': 0.2806919841596673, 'avrg_thickness': 0.19771032390092444}\n"
     ]
    }
   ],
   "source": [
    "# 1 Tooth\n",
    "# 2 PDL\n",
    "# 3 Bone\n",
    "VV, TT, LL = read_vol_mesh(o_vol_dir + jaw_type + '_volumetric_mesh.msh')\n",
    "\n",
    "v_t, f_t = extract_tri_mesh_from_vol_mesh(VV, TT[LL == 1])\n",
    "v_p, f_p = extract_tri_mesh_from_vol_mesh(VV, TT[LL == 2])\n",
    "v_b, f_b = extract_tri_mesh_from_vol_mesh(VV, TT[LL == 3])\n",
    "\n",
    "sh_p_c = { \"point_size\": 5, \"point_color\": \"gray\" }\n",
    "sh_p_x = { \"point_size\": 1, \"point_color\": \"red\" }\n",
    "sh_p_y = { \"point_size\": 0.55, \"point_color\": \"green\" }\n",
    "sh_p_z = { \"point_size\": 1, \"point_color\": \"blue\" }\n",
    "\n",
    "\n",
    "v_t, f_t, _, _ = igl.remove_unreferenced(v_t, f_t)\n",
    "v_p, f_p, _, _ = igl.remove_unreferenced(v_p, f_p)\n",
    "v_b, f_b, _, _ = igl.remove_unreferenced(v_b, f_b)\n",
    "\n",
    "\n",
    "igl.write_triangle_mesh(o_surf_dir + 'teeth.stl', v_t, f_t)\n",
    "igl.write_triangle_mesh(o_surf_dir + 'pdls.stl', v_p, f_p)    \n",
    "igl.write_triangle_mesh(o_surf_dir + 'bone.stl', v_b, f_b)\n",
    "\n",
    "sd_value, _, closest_points = igl.signed_distance(v_p, v_b, f_b, return_normals=False)\n",
    "\n",
    "\n",
    "idx_out = sd_value < 0.00000001\n",
    "\n",
    "frame = mp.plot(v_p, f_p, shading = sh_true)\n",
    "frame.add_points(v_p[idx_out], shading= sh_p_x)\n",
    "\n",
    "thickness, _, closest_points = igl.signed_distance(v_p[idx_out], v_t, f_t, return_normals=False)\n",
    "\n",
    "\n",
    "\n",
    "pdl_info = { 'min_thickness' : min(thickness),\n",
    "             'max_thickness' : max(thickness),\n",
    "             'avrg_thickness' : np.mean(thickness)\n",
    "           }\n",
    "\n",
    "print(pdl_info)\n",
    "params.params_log_info['pdl_thickness_info'] = pdl_info  \n"
   ]
  },
  {
   "cell_type": "code",
   "execution_count": 19,
   "id": "handed-universe",
   "metadata": {},
   "outputs": [
    {
     "data": {
      "text/plain": [
       "{'bone_remeshing_parameters': {'epsilon': 0.0001,\n",
       "  'edge_length': 0.02,\n",
       "  'max_iterations': 1,\n",
       "  'bone_remeshing_time': 195.39},\n",
       " 'bone_smoothing_parameters': {'smoothing_iteration': 10,\n",
       "  'smoothing_stp_size': 0.0005,\n",
       "  'min distance': 1.8572877072742525e-08,\n",
       "  'max distance': 0.13351377998220837,\n",
       "  'bone_smoothing_time': 8.49},\n",
       " 'shrinking_parameters': {'desired_gap': 0.2,\n",
       "  'bone_ratio_for_gap': 0.5,\n",
       "  'bone_offset_limit': 0.04,\n",
       "  'bone_offset': 0.04,\n",
       "  'comment': 'bone offset limit(0.04) is less than desired gap (0.1).',\n",
       "  'teeth_offset': 0.16,\n",
       "  'voxel_size': 0.1,\n",
       "  'shrinking_time': 164.24},\n",
       " 'teeth_remeshing_parameters': {'epsilon': 0.0001,\n",
       "  'edge_length': 0.01,\n",
       "  'max_iterations': 1,\n",
       "  'bone_remeshing_time': 303.78},\n",
       " 'PDL_generation_parameters': {'gap_distance': 0.26,\n",
       "  'gap_distance_molars': 0.28,\n",
       "  'thickness_factor': 1,\n",
       "  'trimming_iteration': 2,\n",
       "  'smoothing_iteration_base': 16,\n",
       "  'smoothing_iteration_extruded_base': 10,\n",
       "  'PDL_generation_time': 234.02},\n",
       " 'gluing_parameters': {'epsilon': 0.0002,\n",
       "  'edge_length': 0.05,\n",
       "  'max_iterations': 20,\n",
       "  'gluing_time': 493.71,\n",
       "  'labeling_time': 65.62},\n",
       " 'pdl_thickness_info': {'min_thickness': 0.149718626684881,\n",
       "  'max_thickness': 0.2806919841596673,\n",
       "  'avrg_thickness': 0.19771032390092444}}"
      ]
     },
     "execution_count": 19,
     "metadata": {},
     "output_type": "execute_result"
    }
   ],
   "source": [
    "params.params_log_info"
   ]
  },
  {
   "cell_type": "markdown",
   "id": "unique-standard",
   "metadata": {},
   "source": [
    "## 7. Save the log"
   ]
  },
  {
   "cell_type": "code",
   "execution_count": 20,
   "id": "alleged-future",
   "metadata": {
    "scrolled": true
   },
   "outputs": [],
   "source": [
    "## Saving different parameters and timing to a log file\n",
    "log_path = o_dir + 'parameters_log.json'\n",
    "\n",
    "jsonString = json.dumps(params_log_info, indent=4)\n",
    "jsonFile = open(log_path  , \"w\")\n",
    "jsonFile.write(jsonString)\n",
    "jsonFile.close()\n"
   ]
  },
  {
   "cell_type": "markdown",
   "id": "japanese-denial",
   "metadata": {},
   "source": [
    "## 8. Setting up FEBio files"
   ]
  },
  {
   "cell_type": "code",
   "execution_count": 4,
   "id": "familiar-corrections",
   "metadata": {},
   "outputs": [],
   "source": [
    "import xml.etree.ElementTree as ET\n",
    "\n",
    "import matplotlib.pyplot as plt\n",
    "from stl import mesh\n",
    "\n",
    "import numpy as np\n",
    "import igl\n",
    "\n",
    "import copy # for deepcopy of xml tree"
   ]
  },
  {
   "cell_type": "code",
   "execution_count": 5,
   "id": "lesbian-currency",
   "metadata": {},
   "outputs": [
    {
     "data": {
      "text/plain": [
       "<module 'xml.etree.ElementTree' from '/home/torkan/anaconda3/lib/python3.7/xml/etree/ElementTree.py'>"
      ]
     },
     "execution_count": 5,
     "metadata": {},
     "output_type": "execute_result"
    }
   ],
   "source": [
    "ET"
   ]
  },
  {
   "cell_type": "markdown",
   "id": "mathematical-skirt",
   "metadata": {},
   "source": [
    "### read the template .feb file"
   ]
  },
  {
   "cell_type": "code",
   "execution_count": 6,
   "id": "dimensional-shape",
   "metadata": {},
   "outputs": [
    {
     "name": "stdout",
     "output_type": "stream",
     "text": [
      "Original  root:  <Element 'febio_spec' at 0x7f9c80801290>\n",
      "Temporary root:  <Element 'febio_spec' at 0x7f9c80721ad0>\n"
     ]
    }
   ],
   "source": [
    "scenario = 'tipping'   # could be 'tipping' or 'biting'\n",
    "temp_dir = os.path.dirname(os.path.dirname(main_dir)) + '/' + 'docs' + '/' \n",
    "\n",
    "path_template = os.path.join(temp_dir, 'template.feb')\n",
    "tree = ET.parse(path_template)\n",
    "root = tree.getroot()\n",
    "\n",
    "# get a copy of the feb file\n",
    "tree_temp = copy.deepcopy(tree)\n",
    "root_temp = tree_temp.getroot()  # in order to avoid overwriting the original tree\n",
    "print(\"Original  root: \", root)\n",
    "print(\"Temporary root: \", root_temp)\n",
    "\n",
    "\n",
    "# structure of .feb file version 2.5 in xml format\n",
    "#0 Module\n",
    "#1 Control\n",
    "#2 Globals\n",
    "#3 Material\n",
    "#4 Geometry\n",
    "#5 Boundary\n",
    "#6 LoadData\n",
    "#7 Output\n",
    "\n",
    "# find the 'Globals' tag to add the 'Material' after that tag\n",
    "globals_ = root_temp.find(\".//Globals\")"
   ]
  },
  {
   "cell_type": "markdown",
   "id": "armed-september",
   "metadata": {},
   "source": [
    "#### Add materials"
   ]
  },
  {
   "cell_type": "code",
   "execution_count": 7,
   "id": "anticipated-motivation",
   "metadata": {},
   "outputs": [],
   "source": [
    "# define simulation's parameters\n",
    "sim_params = simulation_parameters()\n",
    "\n",
    "# initialize parameters for materials\n",
    "if sim_params.default_param:\n",
    "    sim_params.materials()\n",
    "else:\n",
    "    sim_params.users_materials( E_t, v_t, ro_t, type_t, \n",
    "                                E_p, v_p, ro_p, type_p,\n",
    "                                E_b, v_b, ro_b, type_b )"
   ]
  },
  {
   "cell_type": "code",
   "execution_count": 8,
   "id": "further-raleigh",
   "metadata": {},
   "outputs": [],
   "source": [
    "material_ = ET.Element(\"Material\")\n",
    "root_temp.insert(3, material_)   # insert element material as a child in index 3 or the root\n",
    "# sim_params.tooth_mat_type = \"isotropic elastic\"\n",
    "\n",
    "mat_id = 1\n",
    "sim_params.tooh_mat_id = mat_id\n",
    "mat_t = add_meterial(material_, sim_params.tooh_mat_id, \"Tooth_mat\", sim_params.tooth_mat_type, sim_params.tooth_E, sim_params.tooth_v, sim_params.tooth_ro)\n",
    "\n",
    "mat_id += 1\n",
    "sim_params.pdl_mat_id = mat_id\n",
    "mat_p = add_meterial(material_, sim_params.pdl_mat_id, \"PDL_mat\", sim_params.pdl_mat_type, sim_params.pdl_E, sim_params.pdl_v, sim_params.pdl_ro)\n",
    "\n",
    "mat_id += 1\n",
    "sim_params.bone_mat_id = mat_id\n",
    "mat_b = add_meterial(material_, sim_params.bone_mat_id, \"Bone_mat\", sim_params.bone_mat_type, sim_params.bone_E, sim_params.bone_v, sim_params.bone_ro)"
   ]
  },
  {
   "cell_type": "markdown",
   "id": "powered-camcorder",
   "metadata": {},
   "source": [
    "#### Add geometries"
   ]
  },
  {
   "cell_type": "code",
   "execution_count": 9,
   "id": "vulnerable-personality",
   "metadata": {},
   "outputs": [
    {
     "data": {
      "application/vnd.jupyter.widget-view+json": {
       "model_id": "e43b2abd8c6a460b8012a1431d170514",
       "version_major": 2,
       "version_minor": 0
      },
      "text/plain": [
       "Renderer(camera=PerspectiveCamera(children=(DirectionalLight(color='white', intensity=0.6, position=(53.529052…"
      ]
     },
     "metadata": {},
     "output_type": "display_data"
    },
    {
     "data": {
      "text/plain": [
       "2"
      ]
     },
     "execution_count": 9,
     "metadata": {},
     "output_type": "execute_result"
    }
   ],
   "source": [
    "### Read the .msh file of the patient\n",
    "\n",
    "os.chdir(o_vol_dir)\n",
    "path_vol_mesh = sorted(glob.glob('*.msh'))[0]\n",
    "  \n",
    "VV, TT, LL = read_vol_mesh(o_vol_dir + path_vol_mesh)\n",
    "p =  mp.plot(VV, TT[LL == 1], c = tooth_c, shading = sh_true, return_plot = True)\n",
    "p.add_mesh(VV, TT[LL == 2], c = pdl_c, shading = sh_false)\n",
    "p.add_mesh(VV, TT[LL == 3], c = bone_c, shading = sh_true)"
   ]
  },
  {
   "cell_type": "code",
   "execution_count": 10,
   "id": "concerned-saturn",
   "metadata": {},
   "outputs": [
    {
     "data": {
      "text/plain": [
       "True"
      ]
     },
     "execution_count": 10,
     "metadata": {},
     "output_type": "execute_result"
    }
   ],
   "source": [
    "\n"
   ]
  },
  {
   "cell_type": "markdown",
   "id": "religious-billy",
   "metadata": {},
   "source": [
    "### Read the teeth axes and use it for the tipping scenario"
   ]
  },
  {
   "cell_type": "code",
   "execution_count": 11,
   "id": "growing-edmonton",
   "metadata": {},
   "outputs": [
    {
     "name": "stdout",
     "output_type": "stream",
     "text": [
      "Invalid color array given! Supported are numpy arrays. <class 'type'>\n"
     ]
    },
    {
     "data": {
      "application/vnd.jupyter.widget-view+json": {
       "model_id": "9bcef618f1de41228cbc23918aa06b4e",
       "version_major": 2,
       "version_minor": 0
      },
      "text/plain": [
       "Renderer(camera=PerspectiveCamera(children=(DirectionalLight(color='white', intensity=0.6, position=(53.529052…"
      ]
     },
     "metadata": {},
     "output_type": "display_data"
    },
    {
     "name": "stdout",
     "output_type": "stream",
     "text": [
      "Invalid color array given! Supported are numpy arrays. <class 'type'>\n"
     ]
    },
    {
     "data": {
      "application/vnd.jupyter.widget-view+json": {
       "model_id": "0519285b4e61407da9cd312e15ae7c9b",
       "version_major": 2,
       "version_minor": 0
      },
      "text/plain": [
       "Renderer(camera=PerspectiveCamera(children=(DirectionalLight(color='white', intensity=0.6, position=(53.529052…"
      ]
     },
     "metadata": {},
     "output_type": "display_data"
    },
    {
     "data": {
      "text/plain": [
       "1"
      ]
     },
     "execution_count": 11,
     "metadata": {},
     "output_type": "execute_result"
    }
   ],
   "source": [
    "### FOR THE REPOSITORY\n",
    "\n",
    "sh_p_c = { \"point_size\": 5, \"point_color\": \"gray\" }\n",
    "sh_p_x = { \"point_size\": 5, \"point_color\": \"red\" }\n",
    "sh_p_y = { \"point_size\": 5, \"point_color\": \"green\" }\n",
    "sh_p_z = { \"point_size\": 5, \"point_color\": \"blue\" }\n",
    "\n",
    "\n",
    "# open the teeth axes file saved in json format\n",
    "teeth_axes = i_dir + 'teeth_axes_' + jaw_type + '.json'\n",
    "f = open(teeth_axes, \"r\") \n",
    "axes = json.loads(f.read()) # read from file\n",
    "\n",
    "\n",
    "b = igl.boundary_facets(TT)\n",
    "b = flip_normals(b)\n",
    "igl.write_triangle_mesh( o_vol_dir +  \"/P_{}_{}_extracted_surface.ply\".format(p_id, jaw_type), VV, b )\n",
    "\n",
    "# plot the volume mesh\n",
    "p =  mp.plot(VV, b, shading = sh_false, return_plot = True)\n",
    "\n",
    "y_points = []\n",
    "load_dirs = []\n",
    "load_id = []\n",
    "for i in axes:\n",
    "    load_id.append(i)\n",
    "    tooth_c = np.expand_dims(np.array(axes[i]['c']), axis = 0)\n",
    "    tooth_x = np.expand_dims(np.array(axes[i]['x']), axis = 0) # x is the end point toward the distal side\n",
    "    tooth_y = np.expand_dims(np.array(axes[i]['y']), axis = 0) # y is the end point toward the labial side\n",
    "    tooth_z = np.expand_dims(np.array(axes[i]['z']), axis = 0) # z is the end point toward the occlusal side\n",
    "    load_dir = - normalize_(tooth_y - tooth_c)\n",
    "    load_dirs.append(load_dir) # going to be used for load direction\n",
    "    y_points.append(tooth_c + 4 * normalize_(tooth_y - tooth_c)) # going to be used for the tipping point\n",
    "    \n",
    "    # scale the teeth axes only for visualization purposes\n",
    "    tooth_x_vis = (tooth_c + 6 * normalize_(tooth_x - tooth_c))\n",
    "    tooth_y_vis = (tooth_c + 6 * normalize_(tooth_y - tooth_c))\n",
    "    tooth_z_vis = (tooth_c + 6 * normalize_(tooth_z - tooth_c))\n",
    "    # visualize the points \n",
    "    p.add_lines(tooth_c, tooth_x_vis, shading = sh_p_x) \n",
    "    p.add_lines(tooth_c, tooth_y_vis, shading = sh_p_y) \n",
    "    p.add_lines(tooth_c, tooth_z_vis, shading = sh_p_z) \n",
    "    # visualize the lines \n",
    "    p.add_points(tooth_c, shading = sh_p_c) \n",
    "    p.add_points(tooth_x_vis, shading = sh_p_x) \n",
    "    p.add_points(tooth_y_vis, shading = sh_p_y) \n",
    "    p.add_points(tooth_z_vis, shading = sh_p_z) \n",
    "\n",
    "\n",
    "FE_idx = np.logical_or( np.logical_or(LL == 1 , LL ==2) , LL ==3 )\n",
    "y_points  = np.array(y_points).reshape(-1, 3)\n",
    "load_dirs = np.array(load_dirs).reshape(-1, 3)\n",
    "\n",
    "S, I, C = igl.signed_distance(y_points, VV, b, return_normals = False)\n",
    "load_point_idx = b[I, 0]\n",
    "\n",
    "p =  mp.plot(VV, TT[FE_idx], shading = sh_false, return_plot = True)\n",
    "# p =  mp.plot(np.expand_dims([0,0,0], axis = 0), return_plot = True)\n",
    "\n",
    "p.add_points(VV[load_point_idx], shading = sh_p_y)"
   ]
  },
  {
   "cell_type": "code",
   "execution_count": 12,
   "id": "interesting-candy",
   "metadata": {},
   "outputs": [
    {
     "name": "stdout",
     "output_type": "stream",
     "text": [
      "Invalid color array given! Supported are numpy arrays. <class 'type'>\n"
     ]
    },
    {
     "data": {
      "application/vnd.jupyter.widget-view+json": {
       "model_id": "9de607cc5aaf448b9bb21fdf41af17c0",
       "version_major": 2,
       "version_minor": 0
      },
      "text/plain": [
       "Renderer(camera=PerspectiveCamera(children=(DirectionalLight(color='white', intensity=0.6, position=(53.529052…"
      ]
     },
     "metadata": {},
     "output_type": "display_data"
    },
    {
     "data": {
      "text/plain": [
       "1"
      ]
     },
     "execution_count": 12,
     "metadata": {},
     "output_type": "execute_result"
    }
   ],
   "source": [
    "area = get_triangle_area(VV, b[I])\n",
    "\n",
    "p =  mp.plot(VV, TT[FE_idx], c = tooth, shading = sh_true, return_plot = True)\n",
    "# p =  mp.plot(np.expand_dims([0,0,0], axis = 0), return_plot = True)\n",
    "\n",
    "p.add_points(VV[load_point_idx], shading = sh_p_y)"
   ]
  },
  {
   "cell_type": "code",
   "execution_count": 13,
   "id": "knowing-result",
   "metadata": {},
   "outputs": [],
   "source": [
    "M = b[I]\n",
    "for i in np.arange(M.shape[0]):\n",
    "    p.add_points(VV[M[i]], shading = sh_p_x)"
   ]
  },
  {
   "cell_type": "code",
   "execution_count": 14,
   "id": "photographic-astrology",
   "metadata": {},
   "outputs": [],
   "source": [
    "geometry_ = ET.Element(\"Geometry\")\n",
    "root_temp.insert(4, geometry_)   # insert element material as a child in index 3 or the root\n",
    "\n",
    "geom_name = \"p1_FE_model\"\n",
    "nodes_ = ET.SubElement(geometry_, \"Nodes\", attrib={\"name\": \"{}\".format(geom_name)})\n",
    "for i in np.arange(VV.shape[0]):\n",
    "    node_ = ET.SubElement(nodes_, \"node\", attrib={\"id\": \"{}\".format(i+1)}).text = \"{}, {}, {}\".format(VV[i,0], VV[i,1], VV[i,2])\n"
   ]
  },
  {
   "cell_type": "code",
   "execution_count": 15,
   "id": "intense-headquarters",
   "metadata": {},
   "outputs": [
    {
     "name": "stdout",
     "output_type": "stream",
     "text": [
      "tooth start: 1\n",
      "pdl start: 236880\n",
      "bone start: 380140\n"
     ]
    }
   ],
   "source": [
    "elem_idx = 1\n",
    "\n",
    "### add elements for teeth\n",
    "print('tooth start:', elem_idx)\n",
    "elements_ = ET.SubElement(geometry_, \"Elements\", attrib={\"type\":\"tet4\", \"mat\": \"{}\".format(sim_params.tooh_mat_id), \"name\":\"Part1\"})\n",
    "TT_tooth = TT[LL == 1] + 1     #.feb file indexing starts from 1 not 0\n",
    "for i in np.arange(TT_tooth.shape[0]):\n",
    "    elem_ = ET.SubElement(elements_, \"elem\", attrib={\"id\": \"{}\".format(elem_idx)}).text = \"{}, {}, {}, {}\".format(TT_tooth[i,0], TT_tooth[i,1], TT_tooth[i,2], TT_tooth[i,3])\n",
    "    elem_idx += 1    \n",
    "    \n",
    "    \n",
    "### add elements for PDL\n",
    "print('pdl start:', elem_idx)\n",
    "elements_ = ET.SubElement(geometry_, \"Elements\", attrib={\"type\":\"tet4\", \"mat\": \"{}\".format(sim_params.pdl_mat_id), \"name\":\"Part2\"})\n",
    "TT_pdl = TT[LL == 2] + 1       #.feb file indexing starts from 1 not 0\n",
    "for i in np.arange(TT_pdl.shape[0]):\n",
    "    elem_ = ET.SubElement(elements_, \"elem\", attrib={\"id\": \"{}\".format(elem_idx)}).text = \"{}, {}, {}, {}\".format(TT_pdl[i,0], TT_pdl[i,1], TT_pdl[i,2], TT_pdl[i,3])\n",
    "    elem_idx += 1\n",
    "\n",
    "\n",
    "### add elements for Bone\n",
    "print('bone start:', elem_idx)\n",
    "elements_ = ET.SubElement(geometry_, \"Elements\", attrib={\"type\":\"tet4\", \"mat\": \"{}\".format(sim_params.bone_mat_id), \"name\":\"Part3\"})\n",
    "TT_bone = TT[LL == 3] + 1      #.feb file indexing starts from 1 not 0\n",
    "for i in np.arange(TT_bone.shape[0]):\n",
    "    elem_ = ET.SubElement(elements_, \"elem\", attrib={\"id\": \"{}\".format(elem_idx)}).text = \"{}, {}, {}, {}\".format(TT_bone[i,0], TT_bone[i,1], TT_bone[i,2], TT_bone[i,3])\n",
    "    elem_idx += 1"
   ]
  },
  {
   "cell_type": "markdown",
   "id": "dimensional-external",
   "metadata": {},
   "source": [
    "#### Add boundary conditions"
   ]
  },
  {
   "cell_type": "code",
   "execution_count": 10,
   "id": "recovered-technical",
   "metadata": {},
   "outputs": [
    {
     "ename": "NameError",
     "evalue": "name 'geometry_' is not defined",
     "output_type": "error",
     "traceback": [
      "\u001b[0;31m---------------------------------------------------------------------------\u001b[0m",
      "\u001b[0;31mNameError\u001b[0m                                 Traceback (most recent call last)",
      "\u001b[0;32m<ipython-input-10-598aa80b802f>\u001b[0m in \u001b[0;36m<module>\u001b[0;34m\u001b[0m\n\u001b[1;32m     14\u001b[0m \u001b[0;34m\u001b[0m\u001b[0m\n\u001b[1;32m     15\u001b[0m \u001b[0;31m# add its nodeset to the Geometry tag\u001b[0m\u001b[0;34m\u001b[0m\u001b[0;34m\u001b[0m\u001b[0;34m\u001b[0m\u001b[0m\n\u001b[0;32m---> 16\u001b[0;31m \u001b[0mnodeset_fix_\u001b[0m \u001b[0;34m=\u001b[0m \u001b[0mET\u001b[0m\u001b[0;34m.\u001b[0m\u001b[0mSubElement\u001b[0m\u001b[0;34m(\u001b[0m\u001b[0mgeometry_\u001b[0m\u001b[0;34m,\u001b[0m \u001b[0;34m\"NodeSet\"\u001b[0m\u001b[0;34m,\u001b[0m \u001b[0mattrib\u001b[0m\u001b[0;34m=\u001b[0m\u001b[0;34m{\u001b[0m\u001b[0;34m\"name\"\u001b[0m\u001b[0;34m:\u001b[0m\u001b[0;34m\"Bone_fixed_region\"\u001b[0m\u001b[0;34m}\u001b[0m\u001b[0;34m)\u001b[0m\u001b[0;34m\u001b[0m\u001b[0;34m\u001b[0m\u001b[0m\n\u001b[0m\u001b[1;32m     17\u001b[0m \u001b[0;32mfor\u001b[0m \u001b[0mi\u001b[0m \u001b[0;32min\u001b[0m \u001b[0mnp\u001b[0m\u001b[0;34m.\u001b[0m\u001b[0marange\u001b[0m\u001b[0;34m(\u001b[0m\u001b[0midx_fixed\u001b[0m\u001b[0;34m.\u001b[0m\u001b[0mshape\u001b[0m\u001b[0;34m[\u001b[0m\u001b[0;36m1\u001b[0m\u001b[0;34m]\u001b[0m\u001b[0;34m)\u001b[0m\u001b[0;34m:\u001b[0m\u001b[0;34m\u001b[0m\u001b[0;34m\u001b[0m\u001b[0m\n\u001b[1;32m     18\u001b[0m     \u001b[0mnode_fix\u001b[0m \u001b[0;34m=\u001b[0m \u001b[0mET\u001b[0m\u001b[0;34m.\u001b[0m\u001b[0mSubElement\u001b[0m\u001b[0;34m(\u001b[0m\u001b[0mnodeset_fix_\u001b[0m\u001b[0;34m,\u001b[0m \u001b[0;34m\"node\"\u001b[0m\u001b[0;34m,\u001b[0m \u001b[0mattrib\u001b[0m\u001b[0;34m=\u001b[0m\u001b[0;34m{\u001b[0m\u001b[0;34m\"id\"\u001b[0m\u001b[0;34m:\u001b[0m \u001b[0;34m\"{}\"\u001b[0m\u001b[0;34m.\u001b[0m\u001b[0mformat\u001b[0m\u001b[0;34m(\u001b[0m\u001b[0midx_fixed\u001b[0m\u001b[0;34m[\u001b[0m\u001b[0;36m0\u001b[0m\u001b[0;34m,\u001b[0m \u001b[0mi\u001b[0m\u001b[0;34m]\u001b[0m \u001b[0;34m+\u001b[0m \u001b[0;36m1\u001b[0m\u001b[0;34m)\u001b[0m\u001b[0;34m}\u001b[0m\u001b[0;34m)\u001b[0m\u001b[0;34m\u001b[0m\u001b[0;34m\u001b[0m\u001b[0m\n",
      "\u001b[0;31mNameError\u001b[0m: name 'geometry_' is not defined"
     ]
    }
   ],
   "source": [
    "# find points at the bottom/upper part of mandible/maxilla \n",
    "if jaw_type == 'mandible':\n",
    "    min_z = np.min(VV[:,2])\n",
    "    eps_z = 3\n",
    "    threshold = min_z + eps_z\n",
    "    idx_fixed = np.array(np.where(VV[:,2]< threshold))\n",
    "    p.add_points(VV[np.where(VV[:,2] < threshold)], shading = sh_p_x)\n",
    "else:\n",
    "    max_z = np.max(VV[:,2])\n",
    "    eps_z = 6\n",
    "    threshold = max_z - eps_z\n",
    "    idx_fixed = np.array(np.where(VV[:,2]> threshold))\n",
    "    p.add_points(VV[np.where(VV[:,2] > threshold)], shading = sh_p_x)\n",
    "\n",
    "# add its nodeset to the Geometry tag\n",
    "nodeset_fix_ = ET.SubElement(geometry_, \"NodeSet\", attrib={\"name\":\"Bone_fixed_region\"})\n",
    "for i in np.arange(idx_fixed.shape[1]):\n",
    "    node_fix = ET.SubElement(nodeset_fix_, \"node\", attrib={\"id\": \"{}\".format(idx_fixed[0, i] + 1)})"
   ]
  },
  {
   "cell_type": "code",
   "execution_count": 453,
   "id": "gross-regulation",
   "metadata": {},
   "outputs": [],
   "source": [
    "boundary_ = ET.Element(\"Boundary\")\n",
    "root_temp.insert(5, boundary_)   # insert \"Boundary\" tag as the 5th child of the root\n",
    "fix_bc_ = ET.SubElement(boundary_, \"fix\", attrib={\"bc\": \"x,y,z\", \"node_set\": \"Bone_fixed_region\"})"
   ]
  },
  {
   "cell_type": "markdown",
   "id": "productive-journal",
   "metadata": {},
   "source": [
    "#### Add LoadData - Pressure load"
   ]
  },
  {
   "cell_type": "code",
   "execution_count": 455,
   "id": "connected-suicide",
   "metadata": {},
   "outputs": [],
   "source": [
    "load_mag = 1.  # 1 N \n",
    "loads_ = ET.Element(\"Loads\")\n",
    "root_temp.insert(6, loads_)   # insert \"loads\" tag as the 6th child of the root\n",
    "\n",
    "loadData_ = ET.Element(\"LoadData\")\n",
    "root_temp.insert(7, loadData_)   # insert \"LoadData\" tag as the 7th child of the root\n",
    "\n",
    "j = 1\n",
    "for i in load_id:\n",
    "    load_pressure_ = ET.SubElement(loads_, \"surface_load\", attrib={\"type\": \"pressure\", \"surface\": \"Pressure_load_tooth{}\".format(i)})\n",
    "    ET.SubElement(load_pressure_, \"pressure\", attrib={\"lc\":\"{}\".format(j)}).text = str(load_mag / area[j-1])\n",
    "    ET.SubElement(load_pressure_, \"linear\").text = '1'\n",
    "    ET.SubElement(load_pressure_, \"symmetric_stiffness\").text = '1'\n",
    "    \n",
    "    load_curve_ = ET.SubElement(loadData_, \"loadcurve\", attrib={\"id\": \"{}\".format(j), \"type\": \"smooth\"})\n",
    "    ET.SubElement(load_curve_, \"point\").text = '{},{}'.format(0,0)\n",
    "    ET.SubElement(load_curve_, \"point\").text = '{},{}'.format(1,1)\n",
    "    \n",
    "    surface_ = ET.SubElement(geometry_, \"Surface\", attrib={\"name\": \"Pressure_load_tooth{}\".format(i)})\n",
    "    ids = b[I]\n",
    "    ids = ids[j-1] + 1      #.feb file indexing starts from 1 not 0\n",
    "    ET.SubElement(surface_, \"tri3\", attrib={\"id\": \"1\"}).text = '{}, {}, {}'.format(ids[0], ids[1], ids[2])\n",
    "    \n",
    "    j+=1"
   ]
  },
  {
   "cell_type": "markdown",
   "id": "digital-poultry",
   "metadata": {},
   "source": [
    "#### save the xml file"
   ]
  },
  {
   "cell_type": "code",
   "execution_count": 457,
   "id": "built-compact",
   "metadata": {},
   "outputs": [
    {
     "name": "stdout",
     "output_type": "stream",
     "text": [
      "finished\n"
     ]
    }
   ],
   "source": [
    "# fix the indentations\n",
    "for i in list(root_temp):\n",
    "    xml_pretty_indent(i)\n",
    "\n",
    "auto_fem = o_sim_dir + \"/P{}_{}_{}.feb\".format(p_id, jaw_type, scenario)\n",
    "tree_temp.write(auto_fem, xml_declaration = True,  encoding = \"ISO-8859-1\")\n",
    "print(\"finished\")"
   ]
  },
  {
   "cell_type": "code",
   "execution_count": null,
   "id": "japanese-router",
   "metadata": {},
   "outputs": [],
   "source": []
  },
  {
   "cell_type": "code",
   "execution_count": null,
   "id": "rocky-finger",
   "metadata": {},
   "outputs": [],
   "source": []
  },
  {
   "cell_type": "code",
   "execution_count": null,
   "id": "continental-seafood",
   "metadata": {},
   "outputs": [],
   "source": []
  },
  {
   "cell_type": "code",
   "execution_count": null,
   "id": "convertible-replacement",
   "metadata": {},
   "outputs": [],
   "source": []
  },
  {
   "cell_type": "markdown",
   "id": "beginning-farming",
   "metadata": {},
   "source": [
    "### Run feb file with Polyfem"
   ]
  },
  {
   "cell_type": "code",
   "execution_count": 22,
   "id": "olive-lancaster",
   "metadata": {},
   "outputs": [
    {
     "data": {
      "text/plain": [
       "35072"
      ]
     },
     "execution_count": 22,
     "metadata": {},
     "output_type": "execute_result"
    }
   ],
   "source": [
    "import polyfempy\n",
    "path_config = os.path.dirname(main_dir) + '/config.json'\n",
    "path_solver = '~/polyfem/build/PolyFEM_bin' \n",
    "output_name = '{}_polyfem_tet4'.format(p_id)\n",
    "output_file = output_name + '.vtu'\n",
    "log_name    = output_name + '_logfile.txt'\n",
    "os.system(path_solver + ' --febio ' + auto_fem + ' --json ' + path_config + \n",
    "                        ' --cmd --vtu ' + output_file + ' > ' + log_name + \" --max_threads 16\")"
   ]
  }
 ],
 "metadata": {
  "kernelspec": {
   "display_name": "Python 3",
   "language": "python",
   "name": "python3"
  },
  "language_info": {
   "codemirror_mode": {
    "name": "ipython",
    "version": 3
   },
   "file_extension": ".py",
   "mimetype": "text/x-python",
   "name": "python",
   "nbconvert_exporter": "python",
   "pygments_lexer": "ipython3",
   "version": "3.7.9"
  }
 },
 "nbformat": 4,
 "nbformat_minor": 5
}
